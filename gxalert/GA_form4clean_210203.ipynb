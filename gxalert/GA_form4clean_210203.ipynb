{
 "cells": [
  {
   "cell_type": "markdown",
   "metadata": {
    "toc": true
   },
   "source": [
    "<h1>Mục lục<span class=\"tocSkip\"></span></h1>\n",
    "<div class=\"toc\"><ul class=\"toc-item\"><li><span><a href=\"#Cài-đặt-môi-trường\" data-toc-modified-id=\"Cài-đặt-môi-trường-1\"><span class=\"toc-item-num\">1&nbsp;&nbsp;</span>Cài đặt môi trường</a></span></li><li><span><a href=\"#Mở-số-liệu-và-làm-sạch-tiếp-tục\" data-toc-modified-id=\"Mở-số-liệu-và-làm-sạch-tiếp-tục-2\"><span class=\"toc-item-num\">2&nbsp;&nbsp;</span>Mở số liệu và làm sạch tiếp tục</a></span><ul class=\"toc-item\"><li><span><a href=\"#Gan-nhan-cho-bien-madieutra\" data-toc-modified-id=\"Gan-nhan-cho-bien-madieutra-2.1\"><span class=\"toc-item-num\">2.1&nbsp;&nbsp;</span>Gan nhan cho bien madieutra</a></span></li><li><span><a href=\"#Xem-thời-gian-BN-đưa-vào-điều-trị-của-NLH\" data-toc-modified-id=\"Xem-thời-gian-BN-đưa-vào-điều-trị-của-NLH-2.2\"><span class=\"toc-item-num\">2.2&nbsp;&nbsp;</span>Xem thời gian BN đưa vào điều trị của NLH</a></span></li><li><span><a href=\"#Sắp-xếp-lại-biến-số\" data-toc-modified-id=\"Sắp-xếp-lại-biến-số-2.3\"><span class=\"toc-item-num\">2.3&nbsp;&nbsp;</span>Sắp xếp lại biến số</a></span></li><li><span><a href=\"#Gán-nhãn-cho-biến-số\" data-toc-modified-id=\"Gán-nhãn-cho-biến-số-2.4\"><span class=\"toc-item-num\">2.4&nbsp;&nbsp;</span>Gán nhãn cho biến số</a></span></li><li><span><a href=\"#Kiểm-tra-trùng-lặp-ở-biến-labid-để-có-thể-nối-với-số-liệu-cập-nhật\" data-toc-modified-id=\"Kiểm-tra-trùng-lặp-ở-biến-labid-để-có-thể-nối-với-số-liệu-cập-nhật-2.5\"><span class=\"toc-item-num\">2.5&nbsp;&nbsp;</span>Kiểm tra trùng lặp ở biến labid để có thể nối với số liệu cập nhật</a></span></li></ul></li><li><span><a href=\"#Lưu-lại-số-liệu-dùng-cho-phân-tích\" data-toc-modified-id=\"Lưu-lại-số-liệu-dùng-cho-phân-tích-3\"><span class=\"toc-item-num\">3&nbsp;&nbsp;</span>Lưu lại số liệu dùng cho phân tích</a></span></li><li><span><a href=\"#Nhập-số-liệu-cập-nhật-của-NLH\" data-toc-modified-id=\"Nhập-số-liệu-cập-nhật-của-NLH-4\"><span class=\"toc-item-num\">4&nbsp;&nbsp;</span>Nhập số liệu cập nhật của NLH</a></span></li><li><span><a href=\"#Nối-2-bộ-số-liệu-với-nhau\" data-toc-modified-id=\"Nối-2-bộ-số-liệu-với-nhau-5\"><span class=\"toc-item-num\">5&nbsp;&nbsp;</span>Nối 2 bộ số liệu với nhau</a></span><ul class=\"toc-item\"><li><span><a href=\"#Làm-sạch-time8\" data-toc-modified-id=\"Làm-sạch-time8-5.1\"><span class=\"toc-item-num\">5.1&nbsp;&nbsp;</span>Làm sạch time8</a></span></li></ul></li><li><span><a href=\"#Xuất-số-liệu-ra-excel-theo-yêu-cầu-của-Vi-Sinh\" data-toc-modified-id=\"Xuất-số-liệu-ra-excel-theo-yêu-cầu-của-Vi-Sinh-6\"><span class=\"toc-item-num\">6&nbsp;&nbsp;</span>Xuất số liệu ra excel theo yêu cầu của Vi Sinh</a></span></li><li><span><a href=\"#Lưu-số-liệu-sau-khi-phân-tích\" data-toc-modified-id=\"Lưu-số-liệu-sau-khi-phân-tích-7\"><span class=\"toc-item-num\">7&nbsp;&nbsp;</span>Lưu số liệu sau khi phân tích</a></span></li></ul></div>"
   ]
  },
  {
   "cell_type": "markdown",
   "metadata": {},
   "source": [
    "inputs: form4-20200522-combined.dta <br>\n",
    "outputs: anl_form4-210203.dta (số liệu dùng cho phân tích); anlp_form4-210203.dta (Số liệu sau khi phân tích)"
   ]
  },
  {
   "cell_type": "markdown",
   "metadata": {},
   "source": [
    "## Cài đặt môi trường"
   ]
  },
  {
   "cell_type": "code",
   "execution_count": 9,
   "metadata": {},
   "outputs": [],
   "source": [
    "local dataset \"D:\\NTP\\GA-191231-GxAlert project\\1. Data\\1. Process\\Statadataset\"\n",
    "local siteinfo \"D:\\NTP\\GA-191231-GxAlert project\\1. Data\"\n",
    "local docs \"D:\\NTP\\GA-191231-GxAlert project\\. docs\"\n",
    "local data \"D:\\NTP\\GA-191231-GxAlert project\\. data\"\n",
    "set varabbrev off\n",
    "qui cd \"`dataset'\""
   ]
  },
  {
   "cell_type": "markdown",
   "metadata": {},
   "source": [
    "## Mở số liệu và làm sạch tiếp tục"
   ]
  },
  {
   "cell_type": "code",
   "execution_count": 23,
   "metadata": {},
   "outputs": [],
   "source": [
    "use form4-20200522-combined.dta, clear"
   ]
  },
  {
   "cell_type": "markdown",
   "metadata": {},
   "source": [
    "### Gan nhan cho bien madieutra"
   ]
  },
  {
   "cell_type": "code",
   "execution_count": 24,
   "metadata": {},
   "outputs": [
    {
     "name": "stdout",
     "output_type": "stream",
     "text": [
      "\n",
      "\n",
      "\n",
      "    Result                           # of obs.\n",
      "    -----------------------------------------\n",
      "    not matched                             0\n",
      "    matched                             6,907  \n",
      "    -----------------------------------------\n",
      "\n"
     ]
    }
   ],
   "source": [
    "ren madieutra siteid\n",
    "* TTBXH Quang Binh khong thay gui data lai\n",
    "merge m:1 siteid using \"`siteinfo'\\siteinfo.dta\", keep(3) nogen\n",
    "labmask siteid, val(sitename)"
   ]
  },
  {
   "cell_type": "markdown",
   "metadata": {},
   "source": [
    "### Xem thời gian BN đưa vào điều trị của NLH"
   ]
  },
  {
   "cell_type": "code",
   "execution_count": 33,
   "metadata": {},
   "outputs": [
    {
     "name": "stdout",
     "output_type": "stream",
     "text": [
      "\n",
      "\n",
      "no observations\n",
      "\n",
      "\n",
      "    (Clean) |\n",
      "      Xpert |\n",
      " result MTB |      Freq.     Percent        Cum.\n",
      "------------+-----------------------------------\n",
      " 0.negative |      1,171       79.18       79.18\n",
      " 1.positive |        280       18.93       98.11\n",
      "    2.trace |         25        1.69       99.80\n",
      "    3.ERROR |          3        0.20      100.00\n",
      "------------+-----------------------------------\n",
      "      Total |      1,479      100.00\n"
     ]
    }
   ],
   "source": [
    "local nlh \"siteid==101\"\n",
    "tab time8 if `nlh' //căn cứ vào kết quả xpert để đưa BN vào điều trị\n",
    "tab mtb if `nlh'"
   ]
  },
  {
   "cell_type": "markdown",
   "metadata": {},
   "source": [
    "### Sắp xếp lại biến số"
   ]
  },
  {
   "cell_type": "code",
   "execution_count": 46,
   "metadata": {},
   "outputs": [],
   "source": [
    "order stt name gender age add rsample hivss labcode mtb rif ///\n",
    "time1c time1d time2c time2d time3c time3d time4c time4d time5c time5d time6c time6d ///\n",
    "time7c time7d time8c time8d pid snote siteid prov ntplevel"
   ]
  },
  {
   "cell_type": "markdown",
   "metadata": {},
   "source": [
    "### Gán nhãn cho biến số"
   ]
  },
  {
   "cell_type": "code",
   "execution_count": 52,
   "metadata": {},
   "outputs": [
    {
     "name": "stdout",
     "output_type": "stream",
     "text": [
      "\n",
      "\n",
      "\n",
      "\n",
      "    (Clean) |\n",
      "  Gender of |\n",
      "the patient |      Freq.     Percent        Cum.\n",
      "------------+-----------------------------------\n",
      "         Nữ |      2,185       31.63       31.63\n",
      "        Nam |      4,722       68.37      100.00\n",
      "------------+-----------------------------------\n",
      "      Total |      6,907      100.00\n"
     ]
    }
   ],
   "source": [
    "la de gender 0 \"Nữ\" 1 \"Nam\", replace\n",
    "la val gender gender\n",
    "tab gender "
   ]
  },
  {
   "cell_type": "markdown",
   "metadata": {},
   "source": [
    "### Kiểm tra trùng lặp ở biến labid để có thể nối với số liệu cập nhật"
   ]
  },
  {
   "cell_type": "code",
   "execution_count": 58,
   "metadata": {},
   "outputs": [
    {
     "name": "stdout",
     "output_type": "stream",
     "text": [
      "\n",
      "\n",
      "Duplicates in terms of siteid labcode\n",
      "\n",
      "--------------------------------------\n",
      "   copies | observations       surplus\n",
      "----------+---------------------------\n",
      "        1 |         6793             0\n",
      "        2 |          108            54\n",
      "        3 |            6             4\n",
      "--------------------------------------\n",
      "\n",
      "\n",
      "Duplicates in terms of siteid labcode\n"
     ]
    }
   ],
   "source": [
    "duplicates report siteid labcode\n",
    "duplicates tag siteid labcode, gen(duplabid)"
   ]
  },
  {
   "cell_type": "code",
   "execution_count": 63,
   "metadata": {},
   "outputs": [
    {
     "name": "stdout",
     "output_type": "stream",
     "text": [
      "\n",
      "            Mã điểm |       duplabid\n",
      "            điều tra |         1          2 |     Total\n",
      "----------------------+----------------------+----------\n",
      "                  NLH |         8          0 |         8 \n",
      "       BVLP Hai Phong |         2          0 |         2 \n",
      "         BVP Hung Yen |         2          0 |         2 \n",
      "     BV PNT Quang Nam |        22          0 |        22 \n",
      "      BVLP Quang Ngai |        32          0 |        32 \n",
      "     TTYT DP An Giang |        24          0 |        24 \n",
      "       BVLP Quang Tri |         2          0 |         2 \n",
      "        BV Nhi dong 1 |         2          0 |         2 \n",
      "          BV DHYD HCM |        14          6 |        20 \n",
      "----------------------+----------------------+----------\n",
      "                Total |       108          6 |       114 \n"
     ]
    }
   ],
   "source": [
    "tab siteid duplabid if duplabid>0"
   ]
  },
  {
   "cell_type": "markdown",
   "metadata": {},
   "source": [
    "Nhiều đơn vị xét nghiệm có mã xét nghiệm trùng nhau? tại sao?"
   ]
  },
  {
   "cell_type": "code",
   "execution_count": 67,
   "metadata": {},
   "outputs": [
    {
     "name": "stdout",
     "output_type": "stream",
     "text": [
      "\n",
      "\n",
      "Duplicates in terms of stt siteid labcode\n",
      "\n",
      "--------------------------------------\n",
      "   copies | observations       surplus\n",
      "----------+---------------------------\n",
      "        1 |         6907             0\n",
      "--------------------------------------\n",
      "\n",
      "\n",
      "              storage   display    value\n",
      "variable name   type    format     label      variable label\n",
      "----------------------------------------------------------------------------------------------------\n",
      "stt             int     %10.0g                Số thứ tự\n",
      "siteid          int     %21.0g     siteid     Mã điểm điều tra\n",
      "labcode         str14   %14s                  Mã xét nghiệm\n"
     ]
    }
   ],
   "source": [
    "duplicates report stt siteid labcode\n",
    "d stt siteid labcode"
   ]
  },
  {
   "cell_type": "markdown",
   "metadata": {},
   "source": [
    "## Lưu lại số liệu dùng cho phân tích"
   ]
  },
  {
   "cell_type": "code",
   "execution_count": 68,
   "metadata": {
    "scrolled": true
   },
   "outputs": [
    {
     "name": "stdout",
     "output_type": "stream",
     "text": [
      "\n",
      "\n",
      "  variable gender was float now byte\n",
      "  variable mtb was float now byte\n",
      "  variable rif was float now byte\n",
      "  variable id was float now int\n",
      "  variable checkage was float now byte\n",
      "  variable control was float now byte\n",
      "  variable time3chour was float now byte\n",
      "  variable headcheck was float now byte\n",
      "  variable t6headcheck was float now byte\n",
      "  variable htime7check was float now byte\n",
      "  variable time7dlen was float now byte\n",
      "  variable time8dlen was float now byte\n",
      "  variable mitime8dclean was float now byte\n",
      "  variable rsample was str68 now str67\n",
      "  variable time1c was str12 now str8\n",
      "  variable time1d was str11 now str10\n",
      "  variable time2d was str11 now str10\n",
      "  variable time3d was str11 now str10\n",
      "  variable time4c was str10 now str8\n",
      "  variable time7d was str11 now str10\n",
      "  variable time1 was str19 now str18\n",
      "  variable time2 was str22 now str18\n",
      "  variable time3 was str19 now str18\n",
      "  variable time4 was str23 now str19\n",
      "  variable time5 was str23 now str19\n",
      "  variable tuoitrecon was str4 now str3\n",
      "  variable time6clean was str23 now str20\n",
      "  variable t6check was str23 now str20\n",
      "  variable time7clean was str23 now str20\n",
      "  variable t8check was str77 now str49\n",
      "  variable time7dclean was str11 now str10\n",
      "  (704,514 bytes saved)\n",
      "\n",
      "(note: file anl_form4-210203.dta not found)\n",
      "file anl_form4-210203.dta saved\n"
     ]
    }
   ],
   "source": [
    "note _dta: input: GA_form4clean_210203.ipynb\n",
    "compress\n",
    "save anl_form4-210203.dta, replace"
   ]
  },
  {
   "cell_type": "markdown",
   "metadata": {},
   "source": [
    "## Nhập số liệu cập nhật của NLH\n",
    "\n",
    "import 4 sheet khacs nhau"
   ]
  },
  {
   "cell_type": "code",
   "execution_count": 99,
   "metadata": {
    "scrolled": true
   },
   "outputs": [
    {
     "name": "stdout",
     "output_type": "stream",
     "text": [
      "\n",
      "\n",
      "\n",
      "      Sheet | Range\n",
      "  ----------+----------\n",
      "       tong | A1:U1489\n",
      "  19.9-25.9 | A1:S1392\n",
      "  26,9-2,10 | A1:T292\n",
      "  3.10-9.10 | A2:U406\n",
      "   11,10-17 | A1:S413\n",
      "     Sheet1 | A1:K279\n",
      "\n",
      "\n",
      "\n",
      "\n",
      "stt: all characters numeric; replaced as int\n",
      "(978 missing values generated)\n",
      "labcode: contains nonnumeric characters; no replace\n",
      "time8_nlh: contains nonnumeric characters; no replace\n",
      "\n",
      "(978 observations deleted)\n",
      "\n",
      "file form4_101_updatetime81.dta saved\n",
      "\n",
      "\n",
      "      Sheet | Range\n",
      "  ----------+----------\n",
      "       tong | A1:U1489\n",
      "  19.9-25.9 | A1:S1392\n",
      "  26,9-2,10 | A1:T292\n",
      "  3.10-9.10 | A2:U406\n",
      "   11,10-17 | A1:S413\n",
      "     Sheet1 | A1:K279\n",
      "\n",
      "\n",
      "\n",
      "\n",
      "stt: all characters numeric; replaced as int\n",
      "labcode: contains nonnumeric characters; no replace\n",
      "time8_nlh: contains nonnumeric characters; no replace\n",
      "\n",
      "file form4_101_updatetime82.dta saved\n",
      "\n",
      "\n",
      "      Sheet | Range\n",
      "  ----------+----------\n",
      "       tong | A1:U1489\n",
      "  19.9-25.9 | A1:S1392\n",
      "  26,9-2,10 | A1:T292\n",
      "  3.10-9.10 | A2:U406\n",
      "   11,10-17 | A1:S413\n",
      "     Sheet1 | A1:K279\n",
      "\n",
      "\n",
      "\n",
      "\n",
      "stt: all characters numeric; replaced as int\n",
      "labcode: contains nonnumeric characters; no replace\n",
      "time8_nlh: contains nonnumeric characters; no replace\n",
      "\n",
      "file form4_101_updatetime83.dta saved\n",
      "\n",
      "\n",
      "      Sheet | Range\n",
      "  ----------+----------\n",
      "       tong | A1:U1489\n",
      "  19.9-25.9 | A1:S1392\n",
      "  26,9-2,10 | A1:T292\n",
      "  3.10-9.10 | A2:U406\n",
      "   11,10-17 | A1:S413\n",
      "     Sheet1 | A1:K279\n",
      "\n",
      "\n",
      "\n",
      "\n",
      "stt: all characters numeric; replaced as int\n",
      "(2 missing values generated)\n",
      "labcode: contains nonnumeric characters; no replace\n",
      "time8_nlh: contains nonnumeric characters; no replace\n",
      "\n",
      "file form4_101_updatetime84.dta saved\n",
      "\n",
      "\n",
      "\n",
      "\n",
      "\n",
      "\n",
      "(2 observations deleted)\n",
      "\n",
      "\n",
      "  variable siteid was float now int\n",
      "  (2,958 bytes saved)\n",
      "\n",
      "  1,479\n",
      "\n",
      "file form4_101_updatetime8.dta saved\n"
     ]
    }
   ],
   "source": [
    "local fileupdate \"`data'\\Thu thập thông tin thời gian người bệnh được điều trị lao_GxAlert.xlsx\"\n",
    "\n",
    "* nhap so lieu vao\n",
    "import excel using \"`fileupdate'\", desc\n",
    "import excel using \"`fileupdate'\", all clear cellrange(A11) sheet(\"`r(worksheet_2)'\")\n",
    "keep A H Q\n",
    "ren (A H Q) (stt labcode time8_nlh)\n",
    "destring, replace\n",
    "drop if mi(stt)\n",
    "save form4_101_updatetime81, replace\n",
    "\n",
    "import excel using \"`fileupdate'\", desc\n",
    "import excel using \"`fileupdate'\", all clear cellrange(A12) sheet(\"`r(worksheet_3)'\")\n",
    "keep A H Q\n",
    "ren (A H Q) (stt labcode time8_nlh)\n",
    "destring, replace\n",
    "save form4_101_updatetime82, replace\n",
    "\n",
    "import excel using \"`fileupdate'\", desc\n",
    "import excel using \"`fileupdate'\", all clear cellrange(A13) sheet(\"`r(worksheet_4)'\")\n",
    "keep A H Q\n",
    "ren (A H Q) (stt labcode time8_nlh)\n",
    "destring, replace\n",
    "save form4_101_updatetime83, replace\n",
    "\n",
    "import excel using \"`fileupdate'\", desc\n",
    "import excel using \"`fileupdate'\", all clear cellrange(A12) sheet(\"`r(worksheet_5)'\")\n",
    "keep A H Q\n",
    "ren (A H Q) (stt labcode time8_nlh)\n",
    "destring, replace\n",
    "save form4_101_updatetime84, replace\n",
    "\n",
    "* noi file lai\n",
    "clear \n",
    "append using form4_101_updatetime81\n",
    "append using form4_101_updatetime82\n",
    "append using form4_101_updatetime83\n",
    "append using form4_101_updatetime84\n",
    "\n",
    "drop if mi(stt)\n",
    "gen siteid = 101\n",
    "compress \n",
    "count\n",
    "save form4_101_updatetime8, replace"
   ]
  },
  {
   "cell_type": "markdown",
   "metadata": {},
   "source": [
    "## Nối 2 bộ số liệu với nhau"
   ]
  },
  {
   "cell_type": "code",
   "execution_count": 101,
   "metadata": {},
   "outputs": [
    {
     "name": "stdout",
     "output_type": "stream",
     "text": [
      "\n",
      "\n",
      "\n",
      "    Result                           # of obs.\n",
      "    -----------------------------------------\n",
      "    not matched                         5,428\n",
      "        from master                     5,428  \n",
      "        from using                          0  \n",
      "\n",
      "    matched                             1,479  \n",
      "    -----------------------------------------\n"
     ]
    }
   ],
   "source": [
    "use anl_form4-210203.dta, clear\n",
    "merge 1:1 siteid stt labcode using form4_101_updatetime8.dta, nogen"
   ]
  },
  {
   "cell_type": "code",
   "execution_count": 105,
   "metadata": {},
   "outputs": [
    {
     "name": "stdout",
     "output_type": "stream",
     "text": [
      "\n",
      "    (Clean) |\n",
      "      Xpert |\n",
      " result MTB |      Freq.     Percent        Cum.\n",
      "------------+-----------------------------------\n",
      " 0.negative |      1,171       79.18       79.18\n",
      " 1.positive |        280       18.93       98.11\n",
      "    2.trace |         25        1.69       99.80\n",
      "    3.ERROR |          3        0.20      100.00\n",
      "------------+-----------------------------------\n",
      "      Total |      1,479      100.00\n"
     ]
    }
   ],
   "source": [
    "** Có 297 BN được đưa vào điều trị\n",
    "tab mtb if siteid == 101"
   ]
  },
  {
   "cell_type": "markdown",
   "metadata": {},
   "source": [
    "### Làm sạch time8"
   ]
  },
  {
   "cell_type": "code",
   "execution_count": 112,
   "metadata": {},
   "outputs": [],
   "source": [
    "order time8c, last"
   ]
  },
  {
   "cell_type": "code",
   "execution_count": 122,
   "metadata": {
    "scrolled": true
   },
   "outputs": [
    {
     "name": "stdout",
     "output_type": "stream",
     "text": [
      "\n",
      "no observations\n",
      "\n",
      "(195 real changes made)\n",
      "\n",
      "\n",
      "  time8_nlh |      Freq.     Percent        Cum.\n",
      "------------+-----------------------------------\n",
      "  10/1/2019 |          4        1.35        1.35\n",
      " 10/10/2019 |         16        5.39        6.73\n",
      " 10/10/3019 |          1        0.34        7.07\n",
      " 10/11/2019 |         13        4.38       11.45\n",
      " 10/12/2019 |          1        0.34       11.78\n",
      " 10/13/2019 |          1        0.34       12.12\n",
      " 10/14/2019 |         13        4.38       16.50\n",
      " 10/15/2019 |         17        5.72       22.22\n",
      " 10/16/2019 |          9        3.03       25.25\n",
      " 10/17/2019 |          3        1.01       26.26\n",
      " 10/18/2019 |         18        6.06       32.32\n",
      " 10/19/2019 |          2        0.67       33.00\n",
      "  10/2/2019 |         20        6.73       39.73\n",
      " 10/21/2019 |          1        0.34       40.07\n",
      " 10/22/2019 |          1        0.34       40.40\n",
      " 10/24/2019 |          1        0.34       40.74\n",
      " 10/25/2019 |          1        0.34       41.08\n",
      "  10/3/2019 |         10        3.37       44.44\n",
      " 10/30/2019 |          1        0.34       44.78\n",
      "  10/4/2019 |         10        3.37       48.15\n",
      "  10/5/2019 |          2        0.67       48.82\n",
      "  10/6/2019 |          1        0.34       49.16\n",
      "  10/7/2019 |          6        2.02       51.18\n",
      "  10/8/2019 |         20        6.73       57.91\n",
      "  10/9/2019 |         10        3.37       61.28\n",
      " 12/15/2019 |          1        0.34       61.62\n",
      " 12/18/2019 |          1        0.34       61.95\n",
      "   25/92019 |          1        0.34       62.29\n",
      "  5/13/2019 |          1        0.34       62.63\n",
      "  6/14/2019 |          1        0.34       62.96\n",
      "  6/15/2018 |          1        0.34       63.30\n",
      "  9/18/2019 |          2        0.67       63.97\n",
      "  9/19/2019 |          1        0.34       64.31\n",
      "  9/20/2019 |          7        2.36       66.67\n",
      "  9/22/2019 |          1        0.34       67.00\n",
      "  9/23/2019 |         12        4.04       71.04\n",
      "  9/24/2019 |         26        8.75       79.80\n",
      "  9/25/2019 |         19        6.40       86.20\n",
      "  9/25/2020 |          1        0.34       86.53\n",
      "  9/26/2019 |          5        1.68       88.22\n",
      "  9/27/2019 |         17        5.72       93.94\n",
      "   9/3/2019 |          1        0.34       94.28\n",
      "  9/30/2019 |         13        4.38       98.65\n",
      "  9/30/2020 |          4        1.35      100.00\n",
      "------------+-----------------------------------\n",
      "      Total |        297      100.00\n"
     ]
    }
   ],
   "source": [
    "tab time8d if !mi(time8_nlh)\n",
    "replace time8_nlh = strtrim(time8_nlh)\n",
    "tab time8_nlh"
   ]
  },
  {
   "cell_type": "code",
   "execution_count": 127,
   "metadata": {
    "scrolled": true
   },
   "outputs": [
    {
     "name": "stdout",
     "output_type": "stream",
     "text": [
      "\n",
      "\n",
      "\n",
      "  time8_nlh |      Freq.     Percent        Cum.\n",
      "------------+-----------------------------------\n",
      "  10/1/2019 |          4        1.35        1.35\n",
      " 10/10/2019 |         16        5.41        6.76\n",
      " 10/10/3019 |          1        0.34        7.09\n",
      " 10/11/2019 |         13        4.39       11.49\n",
      " 10/12/2019 |          1        0.34       11.82\n",
      " 10/13/2019 |          1        0.34       12.16\n",
      " 10/14/2019 |         13        4.39       16.55\n",
      " 10/15/2019 |         17        5.74       22.30\n",
      " 10/16/2019 |          9        3.04       25.34\n",
      " 10/17/2019 |          3        1.01       26.35\n",
      " 10/18/2019 |         18        6.08       32.43\n",
      " 10/19/2019 |          2        0.68       33.11\n",
      "  10/2/2019 |         20        6.76       39.86\n",
      " 10/21/2019 |          1        0.34       40.20\n",
      " 10/22/2019 |          1        0.34       40.54\n",
      " 10/24/2019 |          1        0.34       40.88\n",
      " 10/25/2019 |          1        0.34       41.22\n",
      "  10/3/2019 |         10        3.38       44.59\n",
      " 10/30/2019 |          1        0.34       44.93\n",
      "  10/4/2019 |         10        3.38       48.31\n",
      "  10/5/2019 |          2        0.68       48.99\n",
      "  10/6/2019 |          1        0.34       49.32\n",
      "  10/7/2019 |          6        2.03       51.35\n",
      "  10/8/2019 |         20        6.76       58.11\n",
      "  10/9/2019 |         10        3.38       61.49\n",
      " 12/15/2019 |          1        0.34       61.82\n",
      " 12/18/2019 |          1        0.34       62.16\n",
      "  5/13/2019 |          1        0.34       62.50\n",
      "  6/14/2019 |          1        0.34       62.84\n",
      "  6/15/2018 |          1        0.34       63.18\n",
      "  9/18/2019 |          2        0.68       63.85\n",
      "  9/19/2019 |          1        0.34       64.19\n",
      "  9/20/2019 |          7        2.36       66.55\n",
      "  9/22/2019 |          1        0.34       66.89\n",
      "  9/23/2019 |         12        4.05       70.95\n",
      "  9/24/2019 |         26        8.78       79.73\n",
      "  9/25/2019 |         19        6.42       86.15\n",
      "  9/25/2020 |          1        0.34       86.49\n",
      "  9/26/2019 |          5        1.69       88.18\n",
      "  9/27/2019 |         17        5.74       93.92\n",
      "   9/3/2019 |          1        0.34       94.26\n",
      "  9/30/2019 |         13        4.39       98.65\n",
      "  9/30/2020 |          4        1.35      100.00\n",
      "------------+-----------------------------------\n",
      "      Total |        296      100.00\n",
      "\n",
      "(296 real changes made)\n"
     ]
    }
   ],
   "source": [
    "local cond \"(^[0-9]+)/([0-9]+)/([0-9]+)\"\n",
    "tab time8_nlh if regexm(time8_nlh, \"`cond'\")\n",
    "replace time8d = regexs(2) + \"/\" + regexs(1) + \"/\" + regexs(3) if mi(time8d) & regexm(time8_nlh, \"`cond'\")"
   ]
  },
  {
   "cell_type": "code",
   "execution_count": 133,
   "metadata": {},
   "outputs": [
    {
     "name": "stdout",
     "output_type": "stream",
     "text": [
      "(5 real changes made)\n"
     ]
    }
   ],
   "source": [
    "* làm sạch tiếp tục\n",
    "replace time8d = \"10/10/2019\" if time8d == \"10/10/3019\"\n",
    "replace time8d = \"25/09/2019\" if mi(time8d) & time8_nlh==\"25/92019\"\n",
    "replace time8d = regexr(time8d, \"(2020$)\",\"2019\") if ustrright(time8d, 4)==\"2020\""
   ]
  },
  {
   "cell_type": "code",
   "execution_count": 139,
   "metadata": {
    "scrolled": true
   },
   "outputs": [
    {
     "name": "stdout",
     "output_type": "stream",
     "text": [
      "\n",
      "\n",
      "    (Clean) |\n",
      "      Xpert |\n",
      " result MTB |      Freq.     Percent        Cum.\n",
      "------------+-----------------------------------\n",
      " 0.negative |          1        0.34        0.34\n",
      " 1.positive |        272       91.58       91.92\n",
      "    2.trace |         24        8.08      100.00\n",
      "------------+-----------------------------------\n",
      "      Total |        297      100.00\n",
      "\n",
      "\n",
      "    (Clean) |\n",
      "      Xpert |\n",
      " result MTB |      Freq.     Percent        Cum.\n",
      "------------+-----------------------------------\n",
      " 0.negative |        337       19.20       19.20\n",
      " 1.positive |      1,368       77.95       97.15\n",
      "    2.trace |         43        2.45       99.60\n",
      "    3.ERROR |          6        0.34       99.94\n",
      "  9.Unknown |          1        0.06      100.00\n",
      "------------+-----------------------------------\n",
      "      Total |      1,755      100.00\n",
      "\n",
      "\n",
      "                 Kết quả xét nghiệm |      Freq.     Percent        Cum.\n",
      "----------------------------------------+-----------------------------------\n",
      "                           không có mtb |         44       13.06       13.06\n",
      "                  không có vi khuẩn lao |          1        0.30       13.35\n",
      "                           không có vkl |          8        2.37       15.73\n",
      "                                mtb (-) |          7        2.08       17.80\n",
      "                           mtb (-)/r(-) |         35       10.39       28.19\n",
      "                                  mtb - |          2        0.59       28.78\n",
      "                              mtb -/r - |          1        0.30       29.08\n",
      "                                 mtb(-) |          4        1.19       30.27\n",
      "                                   mtb- |         61       18.10       48.37\n",
      "                                     âm |         43       12.76       61.13\n",
      "                                âm tính |        131       38.87      100.00\n",
      "----------------------------------------+-----------------------------------\n",
      "                                  Total |        337      100.00\n"
     ]
    }
   ],
   "source": [
    "// tab time8d if !mi(time8_nlh)\n",
    "tab mtb if !mi(time8_nlh)\n",
    "tab mtb if !mi(time8d)\n",
    "tab xpertres if !mi(time8d) & 0.mtb"
   ]
  },
  {
   "cell_type": "markdown",
   "metadata": {},
   "source": [
    "Có những BN có thể được đưa vào điều trị AFB(-) như trong bảng số liệu kể trên"
   ]
  },
  {
   "cell_type": "markdown",
   "metadata": {},
   "source": [
    "## Xuất số liệu ra excel theo yêu cầu của Vi Sinh\n",
    "Ngày 03/02/2021"
   ]
  },
  {
   "cell_type": "code",
   "execution_count": 140,
   "metadata": {
    "scrolled": true
   },
   "outputs": [
    {
     "name": "stdout",
     "output_type": "stream",
     "text": [
      "\n",
      "              storage   display    value\n",
      "variable name   type    format     label      variable label\n",
      "----------------------------------------------------------------------------------------------------\n",
      "stt             int     %10.0g                Số thứ tự\n",
      "name            str38   %38s                  Tên bệnh nhân\n",
      "gender          byte    %9.0g      gender     (Clean) Gender of the patient\n",
      "age             float   %9.0g                 (Clean) Age of the patient\n",
      "add             str122  %122s                 Địa chỉ của BN\n",
      "rsample         str67   %67s                  Nơi gửi mẫu\n",
      "hivss           byte    %10.0g     hiv        (Clean) HIV status\n",
      "labcode         str14   %14s                  Mã xét nghiệm\n",
      "mtb             byte    %10.0g     mtb        (Clean) Xpert result MTB\n",
      "rif             byte    %15.0g     rif        (Clean) Xpert result Rif\n",
      "time1c          str8    %9s                   \n",
      "time1d          str10   %10s                  \n",
      "time2c          str8    %9s                   \n",
      "time2d          str10   %10s                  \n",
      "time3c          str10   %10s                  \n",
      "time3d          str10   %10s                  \n",
      "time4c          str8    %9s                   \n",
      "time4d          str10   %10s                  \n",
      "time5c          str8    %9s                   \n",
      "time5d          str10   %10s                  \n",
      "time6c          str8    %9s                   \n",
      "time6d          str10   %10s                  \n",
      "time7c          str8    %9s                   Gio BS co ket qua\n",
      "time7d          str10   %10s                  Ngay BS co ket qua\n",
      "time8d          str10   %10s                  \n",
      "pid             str35   %35s                  Mã bệnh nhân/Số ĐK ĐT\n",
      "snote           str59   %59s                  Ghi chú\n",
      "siteid          int     %21.0g     siteid     Mã điểm điều tra\n",
      "prov            str11   %11s                  prov\n",
      "ntplevel        str1    %9s                   ntplevel\n"
     ]
    }
   ],
   "source": [
    "d stt-ntplevel"
   ]
  },
  {
   "cell_type": "code",
   "execution_count": 141,
   "metadata": {},
   "outputs": [],
   "source": [
    "la var gender \"Giới tính\"\n",
    "la var age \"Tuổi\"\n",
    "la var add \"Địa chỉ\"\n",
    "la var hivss \"Tình trạng HIV\"\n",
    "la var mtb \"Kết quả MTB\"\n",
    "la var rif \"Kết quả RIF\"\n",
    "la var time1c \"Giờ lấy mẫu\"\n",
    "la var time1d \"Ngày lấy mẫu\"\n",
    "la var time2c \"Giờ nhận mẫu\"\n",
    "la var time2d \"Ngày nhận mẫu\"\n",
    "la var time3c \"Giờ bắt đầu xét nghiệm\"\n",
    "la var time3d \"Ngày bắt đầu xét nghiệm\"\n",
    "la var time4c \"Giờ kết thúc xét nghiệm\"\n",
    "la var time4d \"Ngày kết thúc xét nghiệm\"\n",
    "la var time5c \"Giờ ban hành kết quả\"\n",
    "la var time5d \"Ngày ban hành kết quả\"\n",
    "la var time6c \"Giờ nơi gửi nhận kết quả\"\n",
    "la var time6d \"Ngày nơi gửi nhận kết quả\"\n",
    "la var time7c \"Giờ bác sỹ có kết quả\"\n",
    "la var time7d \"Ngày bác sỹ có kết quả\"\n",
    "la var time8d \"Ngày bệnh nhân vào điều trị\"\n",
    "la var prov \"Tỉnh nghiên cứu\"\n",
    "la var ntplevel \"Tuyến cơ sở trong chương trình\""
   ]
  },
  {
   "cell_type": "code",
   "execution_count": 143,
   "metadata": {},
   "outputs": [
    {
     "name": "stdout",
     "output_type": "stream",
     "text": [
      "siteid:\n",
      "         101 NLH\n",
      "         102 BV PNT\n",
      "         201 BVLP Hai Phong\n",
      "         202 BVP Nam Dinh\n",
      "         203 BVP Hung Yen\n",
      "         204 BV PNT Quang Nam\n",
      "         205 BVLP Quang Ngai\n",
      "         206 TTYT quan 6\n",
      "         207 BVP Dong Nai\n",
      "         208 BV 30-4 Soc Trang\n",
      "         209 TTYT DP An Giang\n",
      "         210 BVLP Can Tho\n",
      "         301 TTYT Y Yen\n",
      "         302 BV 74 trung uong\n",
      "         303 BVP Thai Binh\n",
      "         304 BVLP Quang Tri\n",
      "         306 TTYT Hoc Mon\n",
      "         307 BV Nhi dong 1\n",
      "         308 TTYT thi xa Thuan An\n",
      "         309 TTYT huyen Trang Bang\n",
      "         310 BVLP Vinh Long\n",
      "         401 BV Bach Mai\n",
      "         402 PKDK Linh Dam\n",
      "         403 TTYT Dong Hung\n",
      "         404 TTPCBXH Hoa Binh\n",
      "         405 TTYT Quan Hai Chau\n",
      "         406 BV DHYD HCM\n",
      "         407 TTYT thi xa Cai Lay\n",
      "         408 TTYT thi xa Hong Ngu\n",
      "         409 TTYT huyen Ba Tri\n",
      "         410 TTYT huyen Vinh Chau\n",
      "rif:\n",
      "           0 0.NO\n",
      "           1 1.RR\n",
      "           2 2.Indeterminate\n",
      "mtb:\n",
      "           0 0.negative\n",
      "           1 1.positive\n",
      "           2 2.trace\n",
      "           3 3.ERROR\n",
      "           9 9.Unknown\n",
      "hiv:\n",
      "           1 1.Unknown\n",
      "           2 2.Negative\n",
      "           3 3.Positive\n",
      "gender:\n",
      "           0 Nữ\n",
      "           1 Nam\n"
     ]
    }
   ],
   "source": [
    "la list "
   ]
  },
  {
   "cell_type": "code",
   "execution_count": 144,
   "metadata": {},
   "outputs": [],
   "source": [
    "la de rifvn 0 \"Không kháng RIF\" 1 \"Kháng RIF\" 2 \"Không xác định kháng RIF\", replace\n",
    "la de mtbvn 0 \"Âm tính\" 1 \"Dương tính\" 2 \"Vết\" 3 \"Lỗi\" 9 \"Không xác định\", replace\n",
    "la de hivvn 1 \"Không biết/Không rõ\" 2 \"Âm tính\" 3 \"dương tính\", replace\n",
    "la val mtb mtbvn\n",
    "la val rif rifvn\n",
    "la val hivss hivvn"
   ]
  },
  {
   "cell_type": "code",
   "execution_count": 146,
   "metadata": {},
   "outputs": [
    {
     "name": "stdout",
     "output_type": "stream",
     "text": [
      "file D:\\NTP\\GA-191231-GxAlert project\\. docs\\form4_updateNLH.xlsx saved\n"
     ]
    }
   ],
   "source": [
    "export excel stt-ntplevel using \"`docs'\\form4_updateNLH.xlsx\", firstrow(varlabels) replace keepcellfmt"
   ]
  },
  {
   "cell_type": "markdown",
   "metadata": {},
   "source": [
    "## Lưu số liệu sau khi phân tích"
   ]
  },
  {
   "cell_type": "code",
   "execution_count": 147,
   "metadata": {},
   "outputs": [
    {
     "name": "stdout",
     "output_type": "stream",
     "text": [
      "\n",
      "  (0 bytes saved)\n",
      "\n",
      "(note: file anlp_form4-210203.dta not found)\n",
      "file anlp_form4-210203.dta saved\n"
     ]
    }
   ],
   "source": [
    "compress\n",
    "save anlp_form4-210203.dta, replace"
   ]
  },
  {
   "cell_type": "code",
   "execution_count": null,
   "metadata": {},
   "outputs": [],
   "source": []
  }
 ],
 "metadata": {
  "kernelspec": {
   "display_name": "Stata",
   "language": "stata",
   "name": "stata"
  },
  "language_info": {
   "codemirror_mode": "stata",
   "file_extension": ".do",
   "mimetype": "text/x-stata",
   "name": "stata",
   "version": "15.1"
  },
  "toc": {
   "base_numbering": 1,
   "nav_menu": {},
   "number_sections": true,
   "sideBar": true,
   "skip_h1_title": true,
   "title_cell": "Mục lục",
   "title_sidebar": "Nội dung",
   "toc_cell": true,
   "toc_position": {},
   "toc_section_display": true,
   "toc_window_display": true
  }
 },
 "nbformat": 4,
 "nbformat_minor": 4
}
