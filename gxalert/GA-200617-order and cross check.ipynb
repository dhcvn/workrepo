{
 "cells": [
  {
   "cell_type": "markdown",
   "metadata": {
    "toc": true
   },
   "source": [
    "<h1>Mục lục<span class=\"tocSkip\"></span></h1>\n",
    "<div class=\"toc\"><ul class=\"toc-item\"></ul></div>"
   ]
  },
  {
   "cell_type": "markdown",
   "metadata": {},
   "source": [
    "<h1> Tiếp tục làm việc trên bộ số liệu của GX</h1>"
   ]
  },
  {
   "cell_type": "code",
   "execution_count": 20,
   "metadata": {},
   "outputs": [],
   "source": [
    "set linesize 165\n",
    "set varabbrev off\n",
    "mydir\n",
    "qui global codes=\"C:\\Users\\\"+\"`=c(username)'\"+\"\\Dropbox\\Mywork\\2.Codes\"\n",
    "qui do \"$codes\\GA-setup.do\""
   ]
  },
  {
   "cell_type": "code",
   "execution_count": 46,
   "metadata": {},
   "outputs": [],
   "source": [
    "// loading file info\n",
    "qui {\n",
    "    cd \"$gapro_data\"\n",
    "    import excel using \"sites info.xlsx\", first all clear\n",
    "    keep D-siteid\n",
    "    ren (D E) (prov nosites)\n",
    "    destring siteid, replace\n",
    "    if !fileexists(\"siteinfo.dta\") note _dta: `=c(current_date)' `=c(current_time)' file was created\n",
    "    if fileexists(\"siteinfo.dta\") note _dta: `=c(current_date)' `=c(current_time)' file was modified, not the original\n",
    "    save siteinfo, replace\n",
    "}"
   ]
  },
  {
   "cell_type": "code",
   "execution_count": 69,
   "metadata": {},
   "outputs": [],
   "source": [
    "qui {\n",
    "// Loading dataset\n",
    "    qui cd \"$gadataset\"\n",
    "    use form4-20200522-combined.dta, clear\n",
    "    ren madieutra siteid\n",
    "    merge m:1 siteid using \"$gapro_data\\siteinfo.dta\", keep(1 3) nogen\n",
    "// only one facility of Quang Binh center for prevention of social diseases\n",
    "}"
   ]
  },
  {
   "cell_type": "code",
   "execution_count": 70,
   "metadata": {},
   "outputs": [],
   "source": [
    "// ordering data\n",
    "qui replace name = ustrtrim(name)\n",
    "order siteid prov sitename ntplevel stt name age tuoitrecon gender add rsample hivss labcode mtb rif control ///\n",
    "time1 time1c time1d time2 time2c time2d time3 time3c time3d time4 time4c time4d time5 time5c time5dclean /// \n",
    "time6clean time6c time6dclean time7clean time7c time7dclean time8clean time8c time8dclean"
   ]
  },
  {
   "cell_type": "code",
   "execution_count": 66,
   "metadata": {},
   "outputs": [
    {
     "name": "stdout",
     "output_type": "stream",
     "text": [
      "  38\n"
     ]
    }
   ],
   "source": [
    "// label variables \n",
    "la var time1c \"(clean) gio lay mau\"\n",
    "la var time1d \"(clean) ngay lay mau\""
   ]
  },
  {
   "cell_type": "code",
   "execution_count": 65,
   "metadata": {
    "scrolled": true
   },
   "outputs": [
    {
     "name": "stdout",
     "output_type": "stream",
     "text": [
      "\n",
      "------------------------------------------------------------------------------------------------------------------------------------------------------\n",
      "control                                                                                                                                    (unlabeled)\n",
      "------------------------------------------------------------------------------------------------------------------------------------------------------\n",
      "\n",
      "                  type:  numeric (float)\n",
      "\n",
      "                 range:  [0,1]                        units:  1\n",
      "         unique values:  2                        missing .:  0/6,907\n",
      "\n",
      "            tabulation:  Freq.  Value\n",
      "                         6,803  0\n",
      "                           104  1\n"
     ]
    }
   ],
   "source": []
  },
  {
   "cell_type": "code",
   "execution_count": null,
   "metadata": {},
   "outputs": [],
   "source": []
  }
 ],
 "metadata": {
  "kernelspec": {
   "display_name": "Stata",
   "language": "stata",
   "name": "stata"
  },
  "language_info": {
   "codemirror_mode": "stata",
   "file_extension": ".do",
   "mimetype": "text/x-stata",
   "name": "stata",
   "version": "15.1"
  },
  "toc": {
   "base_numbering": 1,
   "nav_menu": {},
   "number_sections": true,
   "sideBar": true,
   "skip_h1_title": true,
   "title_cell": "Mục lục",
   "title_sidebar": "Nội dung",
   "toc_cell": true,
   "toc_position": {},
   "toc_section_display": true,
   "toc_window_display": true
  }
 },
 "nbformat": 4,
 "nbformat_minor": 4
}
