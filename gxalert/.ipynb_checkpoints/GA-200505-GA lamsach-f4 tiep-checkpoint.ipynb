{
 "cells": [
  {
   "cell_type": "markdown",
   "metadata": {
    "toc": true
   },
   "source": [
    "<h1>Mục lục<span class=\"tocSkip\"></span></h1>\n",
    "<div class=\"toc\"><ul class=\"toc-item\"><li><span><a href=\"#Chỉnh-ngày-kết-thúc-xét-nghiệm-(time4d)\" data-toc-modified-id=\"Chỉnh-ngày-kết-thúc-xét-nghiệm-(time4d)-1\"><span class=\"toc-item-num\">1&nbsp;&nbsp;</span>Chỉnh ngày kết thúc xét nghiệm (time4d)</a></span></li><li><span><a href=\"#Tạo-biến-giờ-kết-thúc-xét-nghiệm\" data-toc-modified-id=\"Tạo-biến-giờ-kết-thúc-xét-nghiệm-2\"><span class=\"toc-item-num\">2&nbsp;&nbsp;</span>Tạo biến giờ kết thúc xét nghiệm</a></span></li><li><span><a href=\"#Lam-sach-time5c,-time5d-dua-vao-so-lieu-cua-time5\" data-toc-modified-id=\"Lam-sach-time5c,-time5d-dua-vao-so-lieu-cua-time5-3\"><span class=\"toc-item-num\">3&nbsp;&nbsp;</span>Lam sach time5c, time5d dua vao so lieu cua time5</a></span></li><li><span><a href=\"#Thêm-ngày-ban-hành-kết-quả-nếu-không-có-thông-tin-trong-biến-số-dựa-vào-thời-gian-kết-thúc-thí-nghiệm-(time4)\" data-toc-modified-id=\"Thêm-ngày-ban-hành-kết-quả-nếu-không-có-thông-tin-trong-biến-số-dựa-vào-thời-gian-kết-thúc-thí-nghiệm-(time4)-4\"><span class=\"toc-item-num\">4&nbsp;&nbsp;</span>Thêm ngày ban hành kết quả nếu không có thông tin trong biến số dựa vào thời gian kết thúc thí nghiệm (time4)</a></span><ul class=\"toc-item\"><li><span><a href=\"#-Nếu-giờ-trả-kết-quả-trong-khoảng-thời-gian-trước-giờ-làm-buổi-sáng-thì-có-thể-là-thời-gian-kết-thúc-thí-nghiệm-là-của-ngày-hôm-trước.-Giả-sử-mốc-8h-là-thời-gian-bắt-đầu-ca-sáng-chung-cho-các-điểm-máy-\" data-toc-modified-id=\"-Nếu-giờ-trả-kết-quả-trong-khoảng-thời-gian-trước-giờ-làm-buổi-sáng-thì-có-thể-là-thời-gian-kết-thúc-thí-nghiệm-là-của-ngày-hôm-trước.-Giả-sử-mốc-8h-là-thời-gian-bắt-đầu-ca-sáng-chung-cho-các-điểm-máy--4.1\"><span class=\"toc-item-num\">4.1&nbsp;&nbsp;</span> Nếu giờ trả kết quả trong khoảng thời gian trước giờ làm buổi sáng thì có thể là thời gian kết thúc thí nghiệm là của ngày hôm trước. Giả sử mốc 8h là thời gian bắt đầu ca sáng chung cho các điểm máy </a></span></li><li><span><a href=\"#Đây-chính-là-điểm-ở-Đông-Hưng-chưa-có-ngày-tháng-(madieutra=403)\" data-toc-modified-id=\"Đây-chính-là-điểm-ở-Đông-Hưng-chưa-có-ngày-tháng-(madieutra=403)-4.2\"><span class=\"toc-item-num\">4.2&nbsp;&nbsp;</span>Đây chính là điểm ở Đông Hưng chưa có ngày tháng (madieutra=403)</a></span></li><li><span><a href=\"#Chuyển-ngày-trả-kết-quả-thành-ngày-kết-thúc-thí-nghiệm\" data-toc-modified-id=\"Chuyển-ngày-trả-kết-quả-thành-ngày-kết-thúc-thí-nghiệm-4.3\"><span class=\"toc-item-num\">4.3&nbsp;&nbsp;</span>Chuyển ngày trả kết quả thành ngày kết thúc thí nghiệm</a></span></li></ul></li><li><span><a href=\"#Làm-sạch-ngày-ban-hành-kết-quả\" data-toc-modified-id=\"Làm-sạch-ngày-ban-hành-kết-quả-5\"><span class=\"toc-item-num\">5&nbsp;&nbsp;</span>Làm sạch ngày ban hành kết quả</a></span></li><li><span><a href=\"#Thu-thập-thông-tin-từ-ngày-18/09/2019-đến-ngày-17/10/2019\" data-toc-modified-id=\"Thu-thập-thông-tin-từ-ngày-18/09/2019-đến-ngày-17/10/2019-6\"><span class=\"toc-item-num\">6&nbsp;&nbsp;</span>Thu thập thông tin từ ngày 18/09/2019 đến ngày 17/10/2019</a></span><ul class=\"toc-item\"><li><span><a href=\"#-Còn-1-số-trường-hợp-không-phải-là-của-Đông-Hưng-nhưng-mà-không-lấy-được-thời-gian-của-time4-vì-không-có-thông-tin-của-time5-\" data-toc-modified-id=\"-Còn-1-số-trường-hợp-không-phải-là-của-Đông-Hưng-nhưng-mà-không-lấy-được-thời-gian-của-time4-vì-không-có-thông-tin-của-time5--6.1\"><span class=\"toc-item-num\">6.1&nbsp;&nbsp;</span> Còn 1 số trường hợp không phải là của Đông Hưng nhưng mà không lấy được thời gian của time4 vì không có thông tin của time5 </a></span></li></ul></li><li><span><a href=\"#-Lam-sach-time6:-Noi-gui-nhan-duoc-ket-qua-\" data-toc-modified-id=\"-Lam-sach-time6:-Noi-gui-nhan-duoc-ket-qua--7\"><span class=\"toc-item-num\">7&nbsp;&nbsp;</span> <b>Lam sach <i>time6</i>: Noi gui nhan duoc ket qua</b> </a></span></li><li><span><a href=\"#TIME7:-Làm-sạch-thời-gian-BS-có-kết-quả-time7\" data-toc-modified-id=\"TIME7:-Làm-sạch-thời-gian-BS-có-kết-quả-time7-8\"><span class=\"toc-item-num\">8&nbsp;&nbsp;</span><b>TIME7: Làm sạch thời gian BS có kết quả <i>time7</i></b></a></span></li><li><span><a href=\"#Them-missing-ngay-BS-co-ket-qua-dua-vao-ngay-noi-gui-nhan-duoc-ket-qua\" data-toc-modified-id=\"Them-missing-ngay-BS-co-ket-qua-dua-vao-ngay-noi-gui-nhan-duoc-ket-qua-9\"><span class=\"toc-item-num\">9&nbsp;&nbsp;</span>Them missing ngay BS co ket qua dua vao ngay noi gui nhan duoc ket qua</a></span><ul class=\"toc-item\"><li><span><a href=\"#Những-trường-hợp-missing-thời-điểm-BS-nhận-được-kết-quả-thì-còn-cần-trao-đổi-thêm-vì-htime7check-không-cho-thấy-là-trong-cùng-1-ngày.-Và-cũng-không-biết-được-rằng-của-ngày-hôm-đó-trong-ca-trực-hay-là-của-ngày-hôm-sau-khi-bắt-đầu-buổi-sáng.-Ngoài-ra-thì-còn-có-những-điểm-không-nhập-thông-tin-này-thì-không-thể-nào-biết-được.-Cần-trao-đổi-lại-với\" data-toc-modified-id=\"Những-trường-hợp-missing-thời-điểm-BS-nhận-được-kết-quả-thì-còn-cần-trao-đổi-thêm-vì-htime7check-không-cho-thấy-là-trong-cùng-1-ngày.-Và-cũng-không-biết-được-rằng-của-ngày-hôm-đó-trong-ca-trực-hay-là-của-ngày-hôm-sau-khi-bắt-đầu-buổi-sáng.-Ngoài-ra-thì-còn-có-những-điểm-không-nhập-thông-tin-này-thì-không-thể-nào-biết-được.-Cần-trao-đổi-lại-với-9.1\"><span class=\"toc-item-num\">9.1&nbsp;&nbsp;</span>Những trường hợp missing thời điểm BS nhận được kết quả thì còn cần trao đổi thêm vì htime7check không cho thấy là trong cùng 1 ngày. Và cũng không biết được rằng của ngày hôm đó trong ca trực hay là của ngày hôm sau khi bắt đầu buổi sáng. Ngoài ra thì còn có những điểm không nhập thông tin này thì không thể nào biết được. Cần trao đổi lại với</a></span></li><li><span><a href=\"#Lam-sach-ngay-voi-du-ngay-thang-nam-cua-time7d\" data-toc-modified-id=\"Lam-sach-ngay-voi-du-ngay-thang-nam-cua-time7d-9.2\"><span class=\"toc-item-num\">9.2&nbsp;&nbsp;</span>Lam sach ngay voi du ngay thang nam cua <code>time7d</code></a></span></li></ul></li><li><span><a href=\"#TIME8:-Lam-sach-time8:-Thoi-gian-BN-bat-dau-dieu-tri\" data-toc-modified-id=\"TIME8:-Lam-sach-time8:-Thoi-gian-BN-bat-dau-dieu-tri-10\"><span class=\"toc-item-num\">10&nbsp;&nbsp;</span><b>TIME8: Lam sach <i>time8</i>: Thoi gian BN bat dau dieu tri</b></a></span><ul class=\"toc-item\"><li><span><a href=\"#-Tạo-lại-biến-t8check-sau-khi-thay-đổi-biến-time8clean-\" data-toc-modified-id=\"-Tạo-lại-biến-t8check-sau-khi-thay-đổi-biến-time8clean--10.1\"><span class=\"toc-item-num\">10.1&nbsp;&nbsp;</span> Tạo lại biến <b>t8check</b> sau khi thay đổi biến time8clean </a></span></li><li><span><a href=\"#\n",
    "----Làm-sạch-lại-biến-thời-gian-time8d-\" data-toc-modified-id=\"\n",
    "----Làm-sạch-lại-biến-thời-gian-time8d--10.2\"><span class=\"toc-item-num\">10.2&nbsp;&nbsp;</span>\n",
    "    Làm sạch lại biến thời gian <b>time8d</b> </a></span><ul class=\"toc-item\"><li><span><a href=\"#Ngày-bắt-đầu-điều-trị-có-thể-nhỏ-hơn-ngày-được-xét-nghiệm-xpert-bởi-vì-có-thể-xét-nghiệm-xpert-sau-khi-có-AFB-dương-tính,-do-vậy-không-bất-ngờ-gì-khi-tìm-thấy-ngày-bắt-đầu-điều-trị-nhỏ-hơn-ngày-được-làm-xn-xpert\" data-toc-modified-id=\"Ngày-bắt-đầu-điều-trị-có-thể-nhỏ-hơn-ngày-được-xét-nghiệm-xpert-bởi-vì-có-thể-xét-nghiệm-xpert-sau-khi-có-AFB-dương-tính,-do-vậy-không-bất-ngờ-gì-khi-tìm-thấy-ngày-bắt-đầu-điều-trị-nhỏ-hơn-ngày-được-làm-xn-xpert-10.2.1\"><span class=\"toc-item-num\">10.2.1&nbsp;&nbsp;</span><b>Ngày bắt đầu điều trị có thể nhỏ hơn ngày được xét nghiệm xpert bởi vì có thể xét nghiệm xpert sau khi có AFB dương tính, do vậy không bất ngờ gì khi tìm thấy ngày bắt đầu điều trị nhỏ hơn ngày được làm xn xpert</b></a></span></li></ul></li><li><span><a href=\"#Thống-nhất-các-biến-ngày-về-1-định-dạng-và-làm-sạch-định-dạng-tháng/ngày/năm\" data-toc-modified-id=\"Thống-nhất-các-biến-ngày-về-1-định-dạng-và-làm-sạch-định-dạng-tháng/ngày/năm-10.3\"><span class=\"toc-item-num\">10.3&nbsp;&nbsp;</span>Thống nhất các biến ngày về 1 định dạng và làm sạch định dạng tháng/ngày/năm</a></span><ul class=\"toc-item\"><li><span><a href=\"#Nghiên-cứu-thực-hiện-tháng-9-và-tháng-10-năm-2019,-do-vậy-ngoài-những-tháng-trên-thì-coi-như-là-outlier-và-cần-làm-sạch-cho-những-khoảng-thời-gian-này.-Trừ-trường-hợp-của-thời-gian-bắt-đầu-điều-trị,-vì-có-thể-xn-xpert-cho-người-bệnh-đã-bắt-đầu-vào-điều-trị\" data-toc-modified-id=\"Nghiên-cứu-thực-hiện-tháng-9-và-tháng-10-năm-2019,-do-vậy-ngoài-những-tháng-trên-thì-coi-như-là-outlier-và-cần-làm-sạch-cho-những-khoảng-thời-gian-này.-Trừ-trường-hợp-của-thời-gian-bắt-đầu-điều-trị,-vì-có-thể-xn-xpert-cho-người-bệnh-đã-bắt-đầu-vào-điều-trị-10.3.1\"><span class=\"toc-item-num\">10.3.1&nbsp;&nbsp;</span><b>Nghiên cứu thực hiện tháng 9 và tháng 10 năm 2019, do vậy ngoài những tháng trên thì coi như là outlier và cần làm sạch cho những khoảng thời gian này. Trừ trường hợp của thời gian bắt đầu điều trị, vì có thể xn xpert cho người bệnh đã bắt đầu vào điều trị</b></a></span></li></ul></li></ul></li><li><span><a href=\"#Clean-others-factor\" data-toc-modified-id=\"Clean-others-factor-11\"><span class=\"toc-item-num\">11&nbsp;&nbsp;</span><b>Clean others factor</b></a></span></li><li><span><a href=\"#\n",
    "Saving-dataset-up-to-May-22,-2020.\n",
    "\" data-toc-modified-id=\"\n",
    "Saving-dataset-up-to-May-22,-2020.\n",
    "-12\"><span class=\"toc-item-num\">12&nbsp;&nbsp;</span>\n",
    "Saving dataset up to May 22, 2020.\n",
    "</a></span></li></ul></div>"
   ]
  },
  {
   "cell_type": "markdown",
   "metadata": {},
   "source": [
    "<h1 style=\"background-color:DodgerBlue;color:white;padding:20px;text-align:center;\"><b> Tiếp tục làm việc dựa trên kết quả từ phiên làm việc trước đó</b> </h1>\n",
    "\n",
    "(Cập nhật gần nhất là file `GA-200310-lamsach-F4.do`)"
   ]
  },
  {
   "cell_type": "code",
   "execution_count": 1,
   "metadata": {},
   "outputs": [],
   "source": [
    "set linesize 143  // Hiển thị kết quả \n",
    "set varabbrev off // Không viết tắt biến"
   ]
  },
  {
   "cell_type": "code",
   "execution_count": 3,
   "metadata": {},
   "outputs": [],
   "source": [
    "qui {\n",
    "    mydir\n",
    "    myenvir\n",
    "    global username `c(username)'\n",
    "    global codes=\"D:\\Dropbox\\mywork\\codes\\. gxalert\"\n",
    "    qui do \"$codes\\GA-setup.do\"\n",
    "    di c(current_time) \" \" c(current_date)\n",
    "}"
   ]
  },
  {
   "cell_type": "code",
   "execution_count": 3,
   "metadata": {
    "collapsed": true
   },
   "outputs": [
    {
     "name": "stdout",
     "output_type": "stream",
     "text": [
      "\n",
      "D:\\NTP\\GA-191231-GxAlert project\\1. Data\\1. Process\\Statadataset\n",
      "\n"
     ]
    }
   ],
   "source": [
    "//Chuyển thư mục và load data\n",
    "cd \"$gadataset\"\n",
    "use \"form4-20200505-combined.dta\", clear"
   ]
  },
  {
   "cell_type": "markdown",
   "metadata": {},
   "source": [
    "## Chỉnh ngày kết thúc xét nghiệm (time4d)"
   ]
  },
  {
   "cell_type": "code",
   "execution_count": 4,
   "metadata": {
    "collapsed": true
   },
   "outputs": [
    {
     "name": "stdout",
     "output_type": "stream",
     "text": [
      "\n",
      "  4\n",
      "\n",
      "(2 real changes made)\n",
      "\n",
      "(2 real changes made)\n"
     ]
    }
   ],
   "source": [
    "count if inlist(time4d,\"15\",\"16\",\"24\")\n",
    "replace time4d=time4d+\"/10/2019\" if inlist(time4d,\"15\",\"16\")\n",
    "replace time4d=time4d+\"/09/2019\" if time4d==\"24\""
   ]
  },
  {
   "cell_type": "markdown",
   "metadata": {},
   "source": [
    "## Tạo biến giờ kết thúc xét nghiệm"
   ]
  },
  {
   "cell_type": "code",
   "execution_count": 5,
   "metadata": {
    "collapsed": true
   },
   "outputs": [
    {
     "name": "stdout",
     "output_type": "stream",
     "text": [
      "\n",
      "\n",
      "(30 missing values generated)\n",
      "\n",
      "(511 real changes made)\n",
      "\n",
      "headtime4c: all characters numeric; replaced as byte\n",
      "(30 missing values generated)\n",
      "\n",
      "\n",
      " headtime4c |      Freq.     Percent        Cum.\n",
      "------------+-----------------------------------\n",
      "          0 |          1        0.01        0.01\n",
      "          1 |          4        0.06        0.07\n",
      "          2 |          8        0.12        0.19\n",
      "          3 |         47        0.68        0.87\n",
      "          4 |         30        0.43        1.30\n",
      "          5 |         15        0.22        1.52\n",
      "          6 |         13        0.19        1.71\n",
      "          7 |          7        0.10        1.81\n",
      "          8 |         97        1.40        3.21\n",
      "          9 |        771       11.16       14.38\n",
      "         10 |      1,091       15.80       30.17\n",
      "         11 |      1,231       17.82       47.99\n",
      "         12 |        931       13.48       61.47\n",
      "         13 |        478        6.92       68.39\n",
      "         14 |        424        6.14       74.53\n",
      "         15 |        677        9.80       84.33\n",
      "         16 |        519        7.51       91.85\n",
      "         17 |        283        4.10       95.95\n",
      "         18 |        146        2.11       98.06\n",
      "         19 |         56        0.81       98.87\n",
      "         20 |         18        0.26       99.13\n",
      "         21 |         20        0.29       99.42\n",
      "         22 |          7        0.10       99.52\n",
      "         23 |          3        0.04       99.57\n",
      "          . |         30        0.43      100.00\n",
      "------------+-----------------------------------\n",
      "      Total |      6,907      100.00\n"
     ]
    }
   ],
   "source": [
    "cap drop headtime4c\n",
    "gen headtime4c = ustrleft(time4c,2)\n",
    "replace headtime4c = regexr(headtime4c,\":|h\",\"\")\n",
    "destring headtime4c, replace\n",
    "tab headtime4c, m"
   ]
  },
  {
   "cell_type": "code",
   "execution_count": 6,
   "metadata": {
    "collapsed": true
   },
   "outputs": [
    {
     "name": "stdout",
     "output_type": "stream",
     "text": [
      "\n",
      "Number of unique values of time5 is  1499\n",
      "Number of records is  2274\n",
      "\n",
      "Number of unique values of time5 is  1512\n",
      "Number of records is  2287\n"
     ]
    }
   ],
   "source": [
    "* Time 5: thoi gian ban hanh ket qua\n",
    "unique time5 if mi(time5c) & !mi(time5)\n",
    "unique time5 if mi(time5d) & !mi(time5)"
   ]
  },
  {
   "cell_type": "code",
   "execution_count": 7,
   "metadata": {
    "collapsed": true
   },
   "outputs": [
    {
     "name": "stdout",
     "output_type": "stream",
     "text": [
      "\n",
      "\n",
      "(24 missing values generated)\n",
      "\n"
     ]
    }
   ],
   "source": [
    "* Tao bien time5 pattern\n",
    "cap drop t5check\n",
    "gen t5check=time5\n",
    "foreach i of numlist 0/9 {\n",
    "    qui replace t5check=subinstr(t5check,\"`i'\",\"a\",.)\n",
    "}"
   ]
  },
  {
   "cell_type": "markdown",
   "metadata": {},
   "source": [
    "## Lam sach time5c, time5d dua vao so lieu cua time5"
   ]
  },
  {
   "cell_type": "code",
   "execution_count": 8,
   "metadata": {
    "collapsed": true
   },
   "outputs": [],
   "source": [
    "qui {\n",
    "    local micondtime mi(time5c) & !mi(time5)\n",
    "    local miconddate mi(time5d) & !mi(time5)\n",
    "    local recond  regexm(t5check,\"h\")\n",
    "    local recond2 regexm(t5check,\":\")\n",
    "\n",
    "    //Truong hop chi co thoi gian khong co ngay\n",
    "    local rpcond inlist(t5check,\"aahaa\",\"aah\",\"aaha\",\"aahaap\",\"aahha\",\"ahaa\")\n",
    "    count if `micondtime' & `recond' & `rpcond'\n",
    "    replace time5c=time5 if `micondtime' & `recond' & `rpcond'\n",
    "\n",
    "    //Truong hop: \"aahaaaa/a\"\n",
    "    local rpcond regexm(time5,\"(^[0-9]+h[0-9][0-9])([0-9][0-9]/[0-9]+$)\")\n",
    "    count if `micondtime' & `recond' & `rpcond'\n",
    "    replace time5c = regexs(1) if `micondtime' & `recond' & `rpcond'\n",
    "    replace time5d = regexs(2) if `miconddate' & `recond' & `rpcond'\n",
    "\n",
    "    //Truong hop: \"aahaa/a\"\n",
    "    local rpcond regexm(time5,\"(^[0-9]+h[0-9]+)(/[0-9]+$)\")\n",
    "    count if `micondtime' & `recond' & `rpcond'\n",
    "    replace time5c = regexs(1) if `micondtime' & `recond' & `rpcond'\n",
    "    replace time5d = regexs(2) if `miconddate' & `recond' & `rpcond'\n",
    "\n",
    "    //Truong hop: aahaa(aa/aa)\n",
    "    local rpcond regexm(time5,\"(^[0-9]+h[0-9]+)[(]([0-9]+/[0-9]+[)]$)\")\n",
    "    count if `micondtime' & `recond' & `rpcond'\n",
    "    replace time5c = regexs(1) if `micondtime' & `recond' & `rpcond'\n",
    "    replace time5d = regexs(2) if `miconddate' & `recond' & `rpcond'\n",
    "\n",
    "    //Truong hop: ah(a/aa)\n",
    "    local rpcond regexm(time5,\"([0-9]h)[(]([0-9]+/[0-9]+)[)$]\")\n",
    "    count if `micondtime' & `recond' & `rpcond'\n",
    "    replace time5c = regexs(1) if `micondtime' & `recond' & `rpcond'\n",
    "    replace time5d = regexs(2) if `miconddate' & `recond' & `rpcond'\n",
    "\n",
    "    //Truong hop aah/aa/a\n",
    "    local rpcond regexm(time5,\"([0-9]+h/[0-9]+)/([0-9]+$)\")\n",
    "    count if `micondtime' & `recond' & `rpcond'\n",
    "    replace time5c = regexs(1) if `micondtime' & `recond' & `rpcond'\n",
    "    replace time5d = regexs(2) if `miconddate' & `recond' & `rpcond'\n",
    "\n",
    "    //Truong hop: aah,aa/aa/aa\n",
    "    local rpcond regexm(time5,\"([0-9]+h),([0-9]+/[0-9]+/[0-9]+$)\")\n",
    "    count if `micondtime' & `recond' & `rpcond'\n",
    "    replace time5c = regexs(1) if `micondtime' & `recond' & `rpcond'\n",
    "    replace time5d = regexs(2) if `miconddate' & `recond' & `rpcond'\n",
    "\n",
    "    //truong hop: aa:aa:aa\n",
    "    replace time5c = time5 if t5check==\"aa:aa:aa\"\n",
    "\n",
    "    //truong hop: aa:aa/aa\n",
    "    local rpcond regexm(time5,\"([0-9]+:[0-9]+)/([0-9]+$)\")\n",
    "    count if `micondtime' & `recond2' & `rpcond'\n",
    "    replace time5c = regexs(1) if `micondtime' & `recond2' & `rpcond'\n",
    "    replace time5d = regexs(2) if `miconddate' & `recond2' & `rpcond'\n",
    "\n",
    "    //Truong hop: aa/aa/aa, ma dieu tra 401\n",
    "    local rpcond regexm(time5,\"([0-9][0-9])/([0-9][0-9])/([0-9][0-9])\")\n",
    "    count if `micondtime' & `rpcond'\n",
    "    replace time5c = regexs(2) + \"h\" + regexs(1) if `micondtime' & `rpcond' & madieutra==401\n",
    "    replace time5d = regexs(3) if `miconddate' & `rpcond' & madieutra==401\n",
    "\n",
    "    //Truong hop: aaHaa aa/a\n",
    "    local rpcond regexm(time5,\"([0-9]+H[0-9]+)[ ]([0-9]+/[0-9]+)\")\n",
    "    count if `micondtime' & `rpcond'\n",
    "    replace time5c = regexs(1) if `micondtime' & `rpcond'\n",
    "    replace time5d = regexs(2) if `miconddate' & `rpcond'\n",
    "\n",
    "    //truong hop: aaH a/aa\n",
    "    local rpcond regexm(time5,\"([0-9]+H)[ ]([0-9]+/[0-9]+)\")\n",
    "    count if `micondtime' & `rpcond'\n",
    "    replace time5c = regexs(1) if `micondtime' & `rpcond'\n",
    "    replace time5d = regexs(2) if `miconddate' & `rpcond'\n",
    "\n",
    "    //truong hop: aa:aa. Chi co thoi gian\n",
    "    replace time5c = time5 if `micondtime' & t5check==\"aa:aa\"\n",
    "\n",
    "    //Truong hop: aa/aa/aaaaaa:aa:aa\n",
    "    local rpcond regexm(time5,\"([0-9]+/[0-9]+/[0-9][0-9][0-9][0-9])([0-9][0-9]:[0-9][0-9]:[0-9][0-9]$)\")\n",
    "    count if `micondtime' & `rpcond'\n",
    "    replace time5c = regexs(2) if `micondtime' & `rpcond'\n",
    "    replace time5d = regexs(1) if `miconddate' & `rpcond'\n",
    "\n",
    "    //truong hop: aa::aa/aa\n",
    "    local rpcond regexm(time5,\"([0-9]+::[0-9]+)/([0-9]+$)\")\n",
    "    count if `micondtime' & `rpcond'\n",
    "    replace time5c = regexs(1) if `micondtime' & `rpcond'\n",
    "    replace time5d = regexs(2) if `miconddate' & `rpcond'\n",
    "\n",
    "    //truong hop aa/aag\n",
    "    replace time5c=time5 if `micondtime' & inlist(t5check,\"aa\",\"aag\")\n",
    "\n",
    "    //truong hop a/aa/aaaa\n",
    "    replace time5d=time5 if `miconddate' & t5check==\"a/aa/aaaa\"\n",
    "\n",
    "    //truong hop aa;aa/aa\n",
    "    local rpcond regexm(time5,\"([0-9]+;[0-9]+)/([0-9]+$)\")\n",
    "    count if `micondtime' & `rpcond'\n",
    "    replace time5c = regexs(1) if `micondtime' & `rpcond'\n",
    "    replace time5d = regexs(2) if `miconddate' & `rpcond'\n",
    "}"
   ]
  },
  {
   "cell_type": "code",
   "execution_count": 9,
   "metadata": {
    "collapsed": true
   },
   "outputs": [
    {
     "name": "stdout",
     "output_type": "stream",
     "text": [
      "\n",
      "\n",
      "\n",
      "\n",
      "    Ban hành kết quả |      Freq.     Percent        Cum.\n",
      "------------------------+-----------------------------------\n",
      "              9/10/2019 |          3      100.00      100.00\n",
      "------------------------+-----------------------------------\n",
      "                  Total |          3      100.00\n",
      "\n"
     ]
    }
   ],
   "source": [
    "local micondtime mi(time5c) & !mi(time5)\n",
    "local miconddate mi(time5d) & !mi(time5)\n",
    "\n",
    "tab time5 if `micondtime'\n",
    "qui tab time5 if `miconddate' //Không hiển thị kết quả bởi vì dài hơn 1.5k dòng."
   ]
  },
  {
   "cell_type": "markdown",
   "metadata": {},
   "source": [
    "## Thêm ngày ban hành kết quả nếu không có thông tin trong biến số dựa vào thời gian kết thúc thí nghiệm (time4)\n",
    "\n",
    "Thận trọng với thời gian gần sáng vì có thể khác biệt với time4 (thời gian kết thúc thí nghiệm)"
   ]
  },
  {
   "cell_type": "code",
   "execution_count": 10,
   "metadata": {
    "collapsed": true
   },
   "outputs": [
    {
     "name": "stdout",
     "output_type": "stream",
     "text": [
      "\n",
      "\n",
      "(27 missing values generated)\n",
      "\n",
      "(582 real changes made)\n",
      "\n",
      "headtime5c: all characters numeric; replaced as byte\n",
      "(27 missing values generated)\n",
      "\n",
      "\n",
      " headtime5c |      Freq.     Percent        Cum.\n",
      "------------+-----------------------------------\n",
      "          0 |          2        0.03        0.03\n",
      "          1 |        132        1.92        1.95\n",
      "          2 |          9        0.13        2.08\n",
      "          3 |         59        0.86        2.94\n",
      "          4 |         22        0.32        3.26\n",
      "          5 |         16        0.23        3.49\n",
      "          6 |         21        0.31        3.79\n",
      "          7 |        141        2.05        5.84\n",
      "          8 |        145        2.11        7.95\n",
      "          9 |        240        3.49       11.44\n",
      "         10 |        591        8.59       20.03\n",
      "         11 |        349        5.07       25.10\n",
      "         12 |        106        1.54       26.64\n",
      "         13 |      1,252       18.20       44.84\n",
      "         14 |      2,549       37.05       81.89\n",
      "         15 |        394        5.73       87.62\n",
      "         16 |        302        4.39       92.01\n",
      "         17 |         89        1.29       93.30\n",
      "         18 |         98        1.42       94.72\n",
      "         19 |        102        1.48       96.21\n",
      "         20 |         53        0.77       96.98\n",
      "         21 |         39        0.57       97.54\n",
      "         22 |         99        1.44       98.98\n",
      "         23 |         70        1.02      100.00\n",
      "------------+-----------------------------------\n",
      "      Total |      6,880      100.00\n"
     ]
    }
   ],
   "source": [
    "// Tạo biến giờ trả kết quả.\n",
    "cap drop headtime5c\n",
    "gen headtime5c=ustrleft(time5c,2)\n",
    "replace headtime5c = regexr(headtime5c,\":|h\",\"\")\n",
    "destring headtime5c, replace\n",
    "tab headtime5c"
   ]
  },
  {
   "cell_type": "markdown",
   "metadata": {},
   "source": [
    "<h3 style=\"line-height:1.5;\"> Nếu giờ trả kết quả trong khoảng thời gian trước giờ làm buổi sáng thì có thể là thời gian kết thúc thí nghiệm là của ngày hôm trước. Giả sử mốc 8h là thời gian bắt đầu ca sáng chung cho các điểm máy </h3>"
   ]
  },
  {
   "cell_type": "code",
   "execution_count": 11,
   "metadata": {
    "collapsed": true
   },
   "outputs": [
    {
     "name": "stdout",
     "output_type": "stream",
     "text": [
      "\n",
      "\n",
      "\n",
      "Checking missings in time4d:\n",
      "17 observations with missing values\n",
      "\n",
      "---------------\n",
      "        |    #\n",
      "--------+------\n",
      " time4d |   17\n",
      "---------------\n",
      "\n",
      "\n",
      "  +--------------------------------------------------------------------------+\n",
      "  | madieu~a   time1   time2   time3   time4   time5   time6   time7   time8 |\n",
      "  |--------------------------------------------------------------------------|\n",
      "  |      403   06:00   06:35   08:30   10:30   10:35   10:40   10:40         |\n",
      "  |      403   06:05   06:40   08:35   10:35   10:40   10:45   10:45         |\n",
      "  |      403   06:00   06:35   08:30   10:30   10:35   10:40   10:40   14:00 |\n",
      "  |      403   06:00   06:35   08:30   10:30   10:35   10:40   10:40   14:20 |\n",
      "  |      403   06:00   06:35   08:30   10:30   10:35   10:40   10:40         |\n",
      "  |--------------------------------------------------------------------------|\n",
      "  |      403   06:00   06:35   08:30   10:30   10:35   10:40   10:40   15:00 |\n",
      "  |      403   06:00   06:35   08:30   10:30   10:35   10:40   10:40   13:30 |\n",
      "  |      403   06:00   06:35   08:30   10:30   10:35   10:40   10:40   14:10 |\n",
      "  |      403   06:00   06:35   08:30   10:30   10:35   10:40   10:40         |\n",
      "  |      403   06:00   06:35   08:30   10:30   10:35   10:40   10:40   14:15 |\n",
      "  |--------------------------------------------------------------------------|\n",
      "  |      403   06:00   06:35   08:30   10:30   10:35   10:40   10:40         |\n",
      "  |      403   06:00   06:35   08:30   10:30   10:35   10:40   10:40   14:17 |\n",
      "  |      403   06:00   06:35   08:30   10:30   10:35   10:40   10:40         |\n",
      "  |      403   06:00   06:35   08:30   10:30   10:35   10:40   10:40   14:21 |\n",
      "  |      403   06:00   06:35   08:30   10:30   10:35   10:40   10:40         |\n",
      "  |--------------------------------------------------------------------------|\n",
      "  |      403   06:00   06:35   08:30   10:30   10:35   10:40   10:40   14:25 |\n",
      "  |      403   06:00   06:35   08:30   10:30   10:35   10:40   10:40         |\n",
      "  +--------------------------------------------------------------------------+\n"
     ]
    }
   ],
   "source": [
    "local miconddate mi(time5d) & !mi(time5)\n",
    "missings report time4d if `miconddate'\n",
    "list madieutra time1-time8 if `miconddate' & mi(time4d), noobs"
   ]
  },
  {
   "cell_type": "markdown",
   "metadata": {},
   "source": [
    "### Đây chính là điểm ở Đông Hưng chưa có ngày tháng (madieutra=403)\n",
    "### Chuyển ngày trả kết quả thành ngày kết thúc thí nghiệm"
   ]
  },
  {
   "cell_type": "code",
   "execution_count": 12,
   "metadata": {
    "collapsed": true
   },
   "outputs": [
    {
     "name": "stdout",
     "output_type": "stream",
     "text": [
      "\n",
      "(1,494 real changes made)\n",
      "\n",
      "  38\n",
      "\n",
      "\n",
      "(46 missing values generated)\n",
      "\n",
      "\n",
      "  +-------------------------------------------------------------------------------------+\n",
      "  |     time4d   time4c   headt~4c      time5     time5c   time5d   headt~5c   headch~k |\n",
      "  |-------------------------------------------------------------------------------------|\n",
      "  | 24/09/2019    17:46         17   03:25:04   03:25:04                   3        -14 |\n",
      "  | 24/09/2019    17:47         17   03:24:45   03:24:45                   3        -14 |\n",
      "  | 24/09/2019    17:48         17   03:24:21   03:24:21                   3        -14 |\n",
      "  | 24/09/2019    17:49         17   03:24:00   03:24:00                   3        -14 |\n",
      "  | 24/09/2019    17:50         17   03:23:22   03:23:22                   3        -14 |\n",
      "  |-------------------------------------------------------------------------------------|\n",
      "  | 24/09/2019    17:51         17   03:23:06   03:23:06                   3        -14 |\n",
      "  | 24/09/2019    18:01         18   03:22:17   03:22:17                   3        -15 |\n",
      "  | 24/09/2019    18:02         18   03:21:55   03:21:55                   3        -15 |\n",
      "  | 24/09/2019    18:03         18   03:21:42   03:21:42                   3        -15 |\n",
      "  | 24/09/2019    18:04         18   03:27:24   03:27:24                   3        -15 |\n",
      "  |-------------------------------------------------------------------------------------|\n",
      "  | 24/09/2019    18:04         18   03:21:20   03:21:20                   3        -15 |\n",
      "  | 24/09/2019    18:07         18   03:27:45   03:27:45                   3        -15 |\n",
      "  | 24/09/2019    18:08         18   03:20:43   03:20:43                   3        -15 |\n",
      "  | 24/09/2019    18:09         18   03:26:43   03:26:43                   3        -15 |\n",
      "  | 24/09/2019    18:10         18   03:26:17   03:26:17                   3        -15 |\n",
      "  |-------------------------------------------------------------------------------------|\n",
      "  | 29/09/2019    22:13         22   00:39:29   00:39:29                   0        -22 |\n",
      "  | 29/09/2019    22:55         22   00:39:16   00:39:16                   0        -22 |\n",
      "  | 09/10/2019    22:15         22   05:51:00   05:51:00                   5        -17 |\n",
      "  | 11/10/2019    20:50         20   07:39:20   07:39:20                   7        -13 |\n",
      "  | 11/10/2019    20:53         20   07:39:58   07:39:58                   7        -13 |\n",
      "  |-------------------------------------------------------------------------------------|\n",
      "  | 11/10/2019    20:53         20   07:40:19   07:40:19                   7        -13 |\n",
      "  | 11/10/2019    20:55         20   07:40:56   07:40:56                   7        -13 |\n",
      "  | 11/10/2019    20:52         20   07:43:17   07:43:17                   7        -13 |\n",
      "  | 11/10/2019    20:51         20   07:39:44   07:39:44                   7        -13 |\n",
      "  | 11/10/2019    20:55         20   07:41:18   07:41:18                   7        -13 |\n",
      "  +-------------------------------------------------------------------------------------+\n",
      "\n",
      "\n",
      "  +-------------------------------------------------------------------------------------+\n",
      "  |     time4d   time4c   headt~4c      time5     time5c   time5d   headt~5c   headch~k |\n",
      "  |-------------------------------------------------------------------------------------|\n",
      "  | 22/09/2019     6:46          6   07:12:56   07:12:56                   7          1 |\n",
      "  | 24/09/2019     1:25          1   01:41:02   01:41:02                   1          0 |\n",
      "  | 24/09/2019    01:26          1   01:40:25   01:40:25                   1          0 |\n",
      "  | 25/09/2019     3:03          3   06:18:21   06:18:21                   6          3 |\n",
      "  | 25/09/2019     2:20          2   06:18:45   06:18:45                   6          4 |\n",
      "  |-------------------------------------------------------------------------------------|\n",
      "  | 25/09/2019     2:32          2   06:21:17   06:21:17                   6          4 |\n",
      "  | 25/09/2019     2:22          2   06:19:14   06:19:14                   6          4 |\n",
      "  | 25/09/2019     2:33          2   06:19:41   06:19:41                   6          4 |\n",
      "  | 25/09/2019     2:33          2   06:20:05   06:20:05                   6          4 |\n",
      "  | 11/10/2019                   .   07:40:33   07:40:33                   7          . |\n",
      "  |-------------------------------------------------------------------------------------|\n",
      "  | 12/10/2019     1:56          1   07:42:22   07:42:22                   7          6 |\n",
      "  | 14/10/2019     2:29          2   05:42:08   05:42:08                   5          3 |\n",
      "  | 15/10/2019    00:40          0   06:47:23   06:47:23                   6          6 |\n",
      "  +-------------------------------------------------------------------------------------+\n"
     ]
    }
   ],
   "source": [
    "replace time5d=time4d if inrange(headtime5c,8,23) & mi(time5d)\n",
    "count if inrange(headtime5c,0,7) & mi(time5d)\n",
    "\n",
    "// Tạo biến check thời gian chênh lệch\n",
    "cap drop headcheck\n",
    "gen headcheck=headtime5c-headtime4c\n",
    "list time4d time4c headtime4c time5* headtime5c headcheck if inrange(headtime5c,0,7) & mi(time5d) & headcheck<0, noobs\n",
    "list time4d time4c headtime4c time5* headtime5c headcheck if inrange(headtime5c,0,7) & mi(time5d) & headcheck>=0, noobs"
   ]
  },
  {
   "cell_type": "code",
   "execution_count": 13,
   "metadata": {
    "collapsed": true
   },
   "outputs": [],
   "source": [
    "// Chuyển đổi ngày tháng của time4 cho time5\n",
    "qui {\n",
    "local miconddate mi(time5d) & !mi(time5)\n",
    "replace time5d = time4d if `miconddate' & headcheck>=0 & inrange(headtime5c,0,7)\n",
    "local rpcond regexm(time4d,\"(^[0-9][0-9])(/[0-9]+/[0-9]+)\")\n",
    "replace time5d = strofreal(real(regexs(1))+1)+regexs(2) /// \n",
    "if `miconddate' & headcheck<0 & `rpcond' & inrange(headtime5c,0,7)\n",
    "}"
   ]
  },
  {
   "cell_type": "markdown",
   "metadata": {},
   "source": [
    "## Làm sạch ngày ban hành kết quả"
   ]
  },
  {
   "cell_type": "code",
   "execution_count": 14,
   "metadata": {
    "collapsed": true
   },
   "outputs": [],
   "source": [
    "qui {\n",
    "replace time5d = regexr(time5d,\"[(]|[)]\",\"\")\n",
    "replace time5d = regexr(time5d,\"[)$]\",\"\")\n",
    "replace time5d = regexr(time5d,\"^/\",\"\")\n",
    "}"
   ]
  },
  {
   "cell_type": "markdown",
   "metadata": {},
   "source": [
    "## Thu thập thông tin từ ngày 18/09/2019 đến ngày 17/10/2019\n",
    "\n",
    "Như vậy nếu ngày là >17 thì là vào tháng 9 còn nhỏ hơn 18 là ngày của tháng 10"
   ]
  },
  {
   "cell_type": "code",
   "execution_count": 15,
   "metadata": {
    "collapsed": true
   },
   "outputs": [],
   "source": [
    "qui {\n",
    "    tab time5d if strlen(time5d)==2 | strlen(time5d)==5\n",
    "    list time5 time5d time4d if strlen(time5d)==1, noobs\n",
    "    tab time5d if strlen(time5d)==4\n",
    "    tab time5d if strlen(time5d)==7\n",
    "    tab time5d if strlen(time5d)==8\n",
    "    tab time5d if strlen(time5d)==9\n",
    "    tab time5d if regexm(time5d,\"102019\")\n",
    "    tab time5d if strlen(time5d)==10\n",
    "}"
   ]
  },
  {
   "cell_type": "code",
   "execution_count": 16,
   "metadata": {
    "collapsed": true
   },
   "outputs": [],
   "source": [
    "qui {\n",
    "    replace time5d = time5d + \"/09/2019\" if real(time5d)>17 & strlen(time5d)==2\n",
    "    replace time5d = time5d + \"/10/2019\" if real(time5d)<18 & strlen(time5d)==2\n",
    "    replace time5d = time5d + \"/2019\" if strlen(time5d)==5\n",
    "    replace time5d = \"20/09/2019\" if time5==\"15h55220/9\" & strlen(time5d)==1\n",
    "    replace time5d = time5d + \"10/2019\" if strlen(time5d)==1\n",
    "    replace time5d = \"26/09/2019\" if strlen(time5d)==3\n",
    "    replace time5d = time5d + \"/2019\" if strlen(time5d)==4\n",
    "    replace time5d = regexr(time5d,\"(20$|21$|22$)\",\"19\")\n",
    "    replace time5d = regexr(time5d,\"(19$)\",\"2019\") if strlen(time5d)==7\n",
    "    replace time5d = \"3/10/2019\" if time5d==\"310/2019\"\n",
    "    replace time5d = \"8/10/2019\" if time5d==\"810/2019\"\n",
    "    replace time5d = \"9/10/2019\" if time5d==\"910/2019\"\n",
    "    replace time5d = regexr(time5d,\"(19$)\",\"2019\") if strlen(time5d)==8\n",
    "}"
   ]
  },
  {
   "cell_type": "markdown",
   "metadata": {},
   "source": [
    "<h3 style=\"line-height:1.5;\"> Còn 1 số trường hợp không phải là của Đông Hưng nhưng mà không lấy được thời gian của time4 vì không có thông tin của time5 </h3>"
   ]
  },
  {
   "cell_type": "code",
   "execution_count": 17,
   "metadata": {
    "collapsed": true
   },
   "outputs": [
    {
     "name": "stdout",
     "output_type": "stream",
     "text": [
      "\n",
      "Checking missings in time4d time5 time5c time5d:\n",
      "26 observations with missing values\n",
      "\n",
      "---------------\n",
      "        |    #\n",
      "--------+------\n",
      " time4d |    1\n",
      "  time5 |   23\n",
      " time5c |   26\n",
      " time5d |   23\n",
      "---------------\n"
     ]
    }
   ],
   "source": [
    "missings report time4d time5* if madieutra!=403"
   ]
  },
  {
   "cell_type": "markdown",
   "metadata": {},
   "source": [
    "<h2 style=\"background-color: DodgerBlue;color: white; padding: 20px;\"> <b>Lam sach <i>time6</i>: Noi gui nhan duoc ket qua</b> </h2>\n",
    "(missing ban dau cua time6 la 24)"
   ]
  },
  {
   "cell_type": "code",
   "execution_count": 18,
   "metadata": {
    "collapsed": true
   },
   "outputs": [],
   "source": [
    "* Khu wordcount time6=3\n",
    "qui {\n",
    "    cap drop time6clean\n",
    "    clonevar time6clean=time6\n",
    "    replace time6clean = subinstr(time6clean,\"  \",\" \",.)\n",
    "    replace time6clean = subinstr(time6clean,\" ngày\",\"\",.)\n",
    "    replace time6clean = regexr(time6clean,\"[g|:][ ]\",\"h\")\n",
    "    replace time6clean = subinstr(time6clean,\"PM\",\"\",.)\n",
    "    replace time6clean = regexr(time6clean,\"(p$)\",\"\")\n",
    "    replace time6clean = \"14h10\" if time6clean==\"14h 10\"\n",
    "    replace time6clean = \"13h50\" if time6clean==\"13h 50\"\n",
    "    tab time6clean if wordcount(time6clean)==3\n",
    "}"
   ]
  },
  {
   "cell_type": "code",
   "execution_count": 19,
   "metadata": {
    "collapsed": true
   },
   "outputs": [],
   "source": [
    "qui {\n",
    "    gen time6c=\"\"\n",
    "    gen time6d=\"\"\n",
    "\n",
    "    local cond wordcount(time6clean)==2\n",
    "    local w1   word(strlower(time6clean),1)\n",
    "    local w2   word(strlower(time6clean),2)\n",
    "    replace time6c=`w1' if `cond' & regexm(`w1',\"h|:\")\n",
    "    replace time6c=`w2' if `cond' & regexm(`w2',\"h|:\")\n",
    "    replace time6d=`w2' if `cond' & regexm(`w1',\"h|:\")\n",
    "    replace time6d=`w1' if `cond' & regexm(`w2',\"h|:\")\n",
    "}"
   ]
  },
  {
   "cell_type": "code",
   "execution_count": 20,
   "metadata": {
    "collapsed": true
   },
   "outputs": [],
   "source": [
    "qui {\n",
    "    local micondtime mi(time6c) & !mi(time6clean)\n",
    "    local miconddate mi(time6d) & !mi(time6clean)\n",
    "\n",
    "    cap drop t6check\n",
    "    clonevar t6check=time6clean\n",
    "    forvalues i=0/9 {\n",
    "        qui replace t6check=subinstr(t6check,\"`i'\",\"a\",.)\n",
    "    }\n",
    "}"
   ]
  },
  {
   "cell_type": "code",
   "execution_count": 21,
   "metadata": {
    "collapsed": true
   },
   "outputs": [],
   "source": [
    "qui {\n",
    "    tab t6check if `micondtime', sort\n",
    "    local rpcond regexm(lower(time6clean),\"([0-9]+h[0-9]+)[ ]([0-9]+/[0-9]+$)\")\n",
    "    tab t6check if `micondtime' & `rpcond'\n",
    "    tab t6check if `micondtime' & regexm(lower(time6clean),\"[(]\"), sort\n",
    "    tab time6clean if `micondtime' & `rpcond'\n",
    "    tab time6clean if `micondtime', sort\n",
    "}"
   ]
  },
  {
   "cell_type": "code",
   "execution_count": 22,
   "metadata": {
    "collapsed": true
   },
   "outputs": [],
   "source": [
    "qui {\n",
    "    local micondtime mi(time6c) & !mi(time6clean)\n",
    "    local miconddate mi(time6d) & !mi(time6clean)\n",
    "\n",
    "    //Truong hop: aa:aa/aa\n",
    "    local rpcond regexm(time6clean,\"(^[0-9]+:[0-9]+)/([0-9]+$)\")\n",
    "    replace time6c = regexs(1) if `micondtime' & `rpcond'\n",
    "    replace time6d = regexs(2) if `miconddate' & `rpcond'\n",
    "\n",
    "    //Truong hop: aahaa\n",
    "    local rpcond regexm(time6clean,\"(^[0-9]+[h|g][0-9]+$)\")\n",
    "    replace time6c = time6clean if `micondtime' & `rpcond'\n",
    "\n",
    "    //Truong hop: aa/aa/aa cua ma diem 401\n",
    "    local rpcond regexm(time6clean,\"(^[0-9]+)/([0-9]+)/([0-9]+$)\")\n",
    "    replace time6c = regexs(2) + \"h\" + regexs(1) if `micondtime' & `rpcond'\n",
    "    replace time6d = regexs(3) if `miconddate' & `rpcond'\n",
    "\n",
    "    //Truong hop: aagaa aa.aa.aa\n",
    "    local rpcond regexm(time6clean,\"(^[0-9]+g[0-9]+)[ ]([0-9]+.[0-9]+.[0-9]+$)\")\n",
    "    replace time6c = regexs(1) if `micondtime' & `rpcond'\n",
    "    replace time6d = regexs(2) if `miconddate' & `rpcond'\n",
    "\n",
    "    //Truong hop: aah\n",
    "    replace time6c = time6clean if t6check==\"aah\"\n",
    "\n",
    "    //Truong hop: aaHaa a/aa\n",
    "    local rpcond regexm(lower(time6clean),\"(^[0-9]+h[0-9]+)[ ]([0-9]+/[0-9]+$)\")\n",
    "    replace time6c = regexs(1) if `micondtime' & `rpcond'\n",
    "    replace time6d = regexs(2) if `miconddate' & `rpcond'\n",
    "\n",
    "    //Truong hop: aa:aa:aa\n",
    "    replace time6c = time6clean if `micondtime' & t6check==\"aa:aa:aa\"\n",
    "\n",
    "    //Truong hop: a/aa/aaaa:aa\n",
    "    local rpcond regexm(time6clean, \"(^[0-9]+/[0-9]+/[0-9][0-9])([0-9]+:[0-9][0-9]$)\")\n",
    "    replace time6c = regexs(2) if `micondtime' & `rpcond'\n",
    "    replace time6d = regexs(1) if `miconddate' & `rpcond'\n",
    "\n",
    "    //Truong hop: aa:aa\n",
    "    replace time6c = time6clean if `micondtime' & t6check==\"aa:aa\"\n",
    "\n",
    "    //Truong hop: 13/20 01/10\n",
    "    replace time6c = \"13h20\" if time6clean==\"13/20 01/10\"\n",
    "    replace time6d = \"01/10\" if time6clean==\"13/20 01/10\"\n",
    "\n",
    "    //Truong hop: 1403\n",
    "    replace time6c = \"14h03\" if time6clean==\"1403\"\n",
    "\n",
    "    //Truong hop: 830/02\n",
    "    replace time6c = \"08h30\" if time6clean==\"830/02\"\n",
    "    replace time6d = \"02/10/2019\" if time6clean==\"830/02\"\n",
    "\n",
    "    //Truong hop: aah(a/aa)\n",
    "    local rpcond regexm(time6clean,\"(^[0-9]+h[0-9]*)[(]([0-9]+/[0-9]+)[)$]\")\n",
    "    replace time6c = regexs(1) if `micondtime' & `rpcond'\n",
    "    replace time6d = regexs(2) if `miconddate' & `rpcond'\n",
    "\n",
    "    //Truong hop: 14h35(1((10/10)\n",
    "    replace time6c = \"14h35\"      if time6clean==\"14h35(1((10/10)\"\n",
    "    replace time6d = \"10/10/2019\" if time6clean==\"14h35(1((10/10)\"\n",
    "\n",
    "    //Truong hop: ahaa/aa\n",
    "    local rpcond regexm(time6clean,\"(^[0-9]+h[0-9]+)/([0-9]+$)\")\n",
    "    replace time6c = regexs(1) if `micondtime' & `rpcond'\n",
    "    replace time6d = regexs(2) if `miconddate' & `rpcond'\n",
    "\n",
    "    //Truong hop: aaH aa/a\n",
    "    local rpcond regexm(time6clean,\"(^[0-9]+H)[ ]([0-9]+/[0-9]$)\")\n",
    "    replace time6c = regexs(1) if `micondtime' & `rpcond'\n",
    "    replace time6d = regexs(2) if `miconddate' & `rpcond'\n",
    "\n",
    "    //Truong hop: aah/aa/aa\n",
    "    local rpcond regexm(time6clean,\"(^[0-9]+h)/([0-9][0-9])/([0-9][0-9])\")\n",
    "    replace time6c = regexs(1) + regexs(2) if `micondtime' & `rpcond'\n",
    "    replace time6d = regexs(3) if `miconddate' & `rpcond'\n",
    "\n",
    "    //Truong hop: aahaap\n",
    "    replace time6c = regexr(time6clean,\"p\",\"\") if t6check==\"aahaap\" & `micondtime'\n",
    "\n",
    "    replace time6c = \"10h00\" if time6clean==\"10h/00/8\" & `micondtime'\n",
    "    replace time6d = \"08/10/2019\" if time6clean==\"10h/00/8\" & `miconddate'\n",
    "    replace time6c = \"14H50\" if time6clean==\"14H5018/9\" & `micondtime'\n",
    "    replace time6d = \"18/9/2019\" if time6clean==\"14H5018/9\" & `miconddate'\n",
    "    replace time6c = \"14h59\" if time6clean==\"14h594/10)\" & `micondtime'\n",
    "    replace time6d = \"4/10/2019\" if time6clean==\"14h594/10)\" & `miconddate'\n",
    "    replace time6c = \"15h\" if time6clean==\"15H 7/10\" & `micondtime'\n",
    "    replace time6d = \"7/10/2019\" if time6clean==\"15H 7/10\" & `miconddate'\n",
    "    replace time6c = \"8h25\" if time6clean==\"8H25\" & `micondtime'\n",
    "    replace time6c = \"8h\" if time6clean==\"8h\" & `micondtime'\n",
    "}"
   ]
  },
  {
   "cell_type": "code",
   "execution_count": 23,
   "metadata": {
    "collapsed": true
   },
   "outputs": [],
   "source": [
    "qui {\n",
    "    cap drop headtime6c \n",
    "    gen headtime6c = ustrleft(time6c,2)\n",
    "    replace headtime6c = regexr(headtime6c,\"g\",\"h\")\n",
    "    replace headtime6c = regexr(headtime6c,\"h|:\",\"\")\n",
    "    destring headtime6c, replace\n",
    "\n",
    "    cap drop t6headcheck\n",
    "    gen t6headcheck = headtime6c - headtime5c\n",
    "}"
   ]
  },
  {
   "cell_type": "code",
   "execution_count": 24,
   "metadata": {
    "collapsed": true
   },
   "outputs": [],
   "source": [
    "qui {\n",
    "    replace time6d = time5d if t6headcheck>=0 & !mi(t6headcheck) & mi(time6d)\n",
    "    local   rpcond regexm(time5d,\"(^[0-9][0-9])(/[0-9]+/[0-9]+)\")\n",
    "    replace time6d = strofreal(real(regexs(1))+1)+regexs(2) if mi(time6d) & t6headcheck<0 & `rpcond'\n",
    "\n",
    "    replace time6d = \"27/9\" if time6clean==\"13h3027/9\"\n",
    "    replace time6d = \"13h30\" if time6clean==\"13h3027/9\"\n",
    "}"
   ]
  },
  {
   "cell_type": "code",
   "execution_count": 25,
   "metadata": {
    "collapsed": true
   },
   "outputs": [
    {
     "name": "stdout",
     "output_type": "stream",
     "text": [
      "\n",
      "\n",
      "Checking missings in time6d:\n",
      "44 observations with missing values\n",
      "\n",
      "---------------\n",
      "        |    #\n",
      "--------+------\n",
      " time6d |   44\n",
      "---------------\n",
      "\n",
      "\n",
      "Checking missings in time5d:\n",
      "17 observations with missing values\n",
      "\n",
      "---------------\n",
      "        |    #\n",
      "--------+------\n",
      " time5d |   17\n",
      "---------------\n"
     ]
    }
   ],
   "source": [
    "missings report time6d\n",
    "missings report time5d if !mi(time6clean) & mi(time6d)"
   ]
  },
  {
   "cell_type": "code",
   "execution_count": 26,
   "metadata": {
    "collapsed": true
   },
   "outputs": [
    {
     "name": "stdout",
     "output_type": "stream",
     "text": [
      "\n",
      "     time6d |      Freq.     Percent        Cum.\n",
      "------------+-----------------------------------\n",
      "          3 |          1       33.33       33.33\n",
      "          8 |          1       33.33       66.67\n",
      "          9 |          1       33.33      100.00\n",
      "------------+-----------------------------------\n",
      "      Total |          3      100.00\n"
     ]
    }
   ],
   "source": [
    "tab time6d if strlen(time6d)==1"
   ]
  },
  {
   "cell_type": "code",
   "execution_count": 27,
   "metadata": {
    "collapsed": true
   },
   "outputs": [],
   "source": [
    "qui {\n",
    "    replace time6d = regexr(time6d,\"[(]\",\"\")\n",
    "    replace time6d = regexr(time6d,\"[)]\",\"\")\n",
    "    replace time6d = time6d + \"/10/2019\" if strlen(time6d)==1\n",
    "    replace time6d = time6d + \"/10/2019\" if strlen(time6d)==2 & real(time6d)<18\n",
    "    replace time6d = time6d + \"/09/2019\" if strlen(time6d)==2 & real(time6d)>17\n",
    "    replace time6d = \"20/09/2019\" if strlen(time6d)==3 & id==178\n",
    "    replace time6d = \"01/10/2019\" if strlen(time6d)==3 & id==346\n",
    "    replace time6d = time6d + \"/2019\" if strlen(time6d)==4\n",
    "    replace time6d = time6d + \"/2019\" if strlen(time6d)==5\n",
    "    replace time6d = regexr(time6d,\"([0-9][0-9]$)\",\"2019\") if strlen(time6d)==7\n",
    "    replace time6d = regexr(time6d,\"([0-9][0-9]$)\",\"2019\") if strlen(time6d)==8\n",
    "}"
   ]
  },
  {
   "cell_type": "code",
   "execution_count": 28,
   "metadata": {
    "collapsed": true
   },
   "outputs": [],
   "source": [
    "qui {\n",
    "    replace time6d=\"20/09/2019\" if time6clean==\"14h10,20/09/19\" & mi(time6d) & !mi(time6clean)\n",
    "    replace time6c=\"14h10\"      if time6clean==\"14h10,20/09/19\" & mi(time6c) & !mi(time6clean)   \n",
    "}"
   ]
  },
  {
   "cell_type": "code",
   "execution_count": 29,
   "metadata": {
    "collapsed": true
   },
   "outputs": [
    {
     "name": "stdout",
     "output_type": "stream",
     "text": [
      "\n",
      "Checking missings in time6d time6c:\n",
      "17 observations with missing values\n",
      "\n",
      "---------------\n",
      "        |    #\n",
      "--------+------\n",
      " time6d |   17\n",
      "---------------\n"
     ]
    }
   ],
   "source": [
    "missings report time6d time6c if !mi(time6) //Chi con 17 truong hop cua Dong Hung, Thai Binh cua 403"
   ]
  },
  {
   "cell_type": "code",
   "execution_count": 30,
   "metadata": {
    "collapsed": true
   },
   "outputs": [],
   "source": [
    "qui {\n",
    "    list time6clean if mi(time6d,time6c) & !mi(time6clean)\n",
    "    di strlen(time6clean[1727])\n",
    "    count if strpos(time6clean,\"  \")\n",
    "    list time6clean time6d time6c if strpos(time6clean, \"  \")\n",
    "    //Van con truong hop 14H50  18/9 vi H  la chu in hoa khong phai chu in thuong\n",
    "    //Sau khi phat hien thi da them option strlower vao local w o tren\n",
    "}"
   ]
  },
  {
   "cell_type": "markdown",
   "metadata": {},
   "source": [
    "<h2 style=\"background-color: DodgerBlue; color: white; padding: 20px; text-align: center;\"><b>TIME7: Làm sạch thời gian BS có kết quả <i>time7</i></b></h2>"
   ]
  },
  {
   "cell_type": "code",
   "execution_count": 31,
   "metadata": {
    "collapsed": true
   },
   "outputs": [
    {
     "name": "stdout",
     "output_type": "stream",
     "text": [
      "\n",
      "Checking missings in time7:\n",
      "179 observations with missing values\n",
      "\n",
      "---------------\n",
      "       |     #\n",
      "-------+-------\n",
      " time7 |   179\n",
      "---------------\n"
     ]
    }
   ],
   "source": [
    "missings report time7"
   ]
  },
  {
   "cell_type": "code",
   "execution_count": 32,
   "metadata": {
    "collapsed": true
   },
   "outputs": [],
   "source": [
    "qui {\n",
    "    cap drop time7clean\n",
    "    clonevar time7clean=time7\n",
    "    replace time7clean = regexr(time7clean,\"g  \", \"g\")  if wordcount(time7clean)==3\n",
    "    replace time7clean = regexr(time7clean,\"ngày \",\"\")  if wordcount(time7clean)==3\n",
    "    replace time7clean = regexr(time7clean,\"h \", \"h\")   if wordcount(time7clean)==3\n",
    "    replace time7clean = regexr(time7clean,\" PM\",\"\")    if wordcount(time7clean)==3\n",
    "    replace time7clean = regexr(time7clean,\"4 \", \"4\")   if wordcount(time7clean)==3\n",
    "    tab time7clean if wordcount(time7clean)==3\n",
    "}"
   ]
  },
  {
   "cell_type": "code",
   "execution_count": 33,
   "metadata": {
    "collapsed": true
   },
   "outputs": [],
   "source": [
    "qui {\n",
    "    tab time7clean if regexm(time7clean,\"h \")\n",
    "    replace time7clean = \"13h50\" if time7clean==\"13h 50p\"\n",
    "}\n",
    "//Con 5 truong hop la do 13h 50p thi bi nham da chinh lai o phan tren w"
   ]
  },
  {
   "cell_type": "code",
   "execution_count": 34,
   "metadata": {
    "collapsed": true
   },
   "outputs": [],
   "source": [
    "qui {\n",
    "    * cap drop time7c //Lệnh này có thể làm xóa đi biến time7clean\n",
    "    * Xây dựng phương pháp khác ngoài việc sử dụng cap drop\n",
    "    cap drop time7c \n",
    "    gen time7c=\"\"\n",
    "    cap drop time7d\n",
    "    gen time7d=\"\"\n",
    "    la var time7d \"Ngay BS co ket qua\"\n",
    "    la var time7c \"Gio BS co ket qua\"\n",
    "    \n",
    "    local cond wordcount(time7clean)==2\n",
    "    local w1   word(strlower(time7clean),1)\n",
    "    local w2   word(strlower(time7clean),2)\n",
    "    replace time7c=`w1' if `cond' & regexm(`w1',\"h|:\")\n",
    "    replace time7c=`w2' if `cond' & regexm(`w2',\"h|:\")\n",
    "    replace time7d=`w2' if `cond' & regexm(`w1',\"h|:\")\n",
    "    replace time7d=`w1' if `cond' & regexm(`w2',\"h|:\")\n",
    "\n",
    "    replace time7c=`w1' if `cond' & regexm(`w1',\"g\")\n",
    "    replace time7d=`w2' if `cond' & regexm(`w2',\".\") & regexm(`w1',\"g\")\n",
    "}"
   ]
  },
  {
   "cell_type": "code",
   "execution_count": 35,
   "metadata": {
    "collapsed": true
   },
   "outputs": [
    {
     "name": "stdout",
     "output_type": "stream",
     "text": [
      "\n",
      "Checking missings in time7d time7c:\n",
      "2373 observations with missing values\n",
      "\n",
      "-----------------\n",
      "        |      #\n",
      "--------+--------\n",
      " time7d |   2373\n",
      " time7c |   2373\n",
      "-----------------\n"
     ]
    }
   ],
   "source": [
    "missings report time7d time7c if !mi(time7clean)"
   ]
  },
  {
   "cell_type": "code",
   "execution_count": 36,
   "metadata": {
    "collapsed": true
   },
   "outputs": [],
   "source": [
    "qui {\n",
    "    cap di t7check\n",
    "    gen t7check = time7clean\n",
    "    forvalues i=0/9 {\n",
    "        replace t7check = subinstr(t7check,\"`i'\",\"a\",.)\n",
    "    }\n",
    "}"
   ]
  },
  {
   "cell_type": "code",
   "execution_count": 37,
   "metadata": {
    "collapsed": true
   },
   "outputs": [
    {
     "name": "stdout",
     "output_type": "stream",
     "text": [
      "\n",
      "\n",
      "\n",
      "\n",
      "             t7check |      Freq.     Percent        Cum.\n",
      "---------------------+-----------------------------------\n",
      "            aa:aa/aa |      1,027       43.28       43.28\n",
      "             a:aa/aa |        558       23.51       66.79\n",
      "               aahaa |        253       10.66       77.45\n",
      "            aa/aa/aa |        187        7.88       85.34\n",
      "                 aah |         61        2.57       87.91\n",
      "     aahaa,aa/a/aaaa |         42        1.77       89.68\n",
      "            aahaa/aa |         38        1.60       91.28\n",
      "            a:aa/aaa |         28        1.18       92.46\n",
      "    aahaa,aa/aa/aaaa |         28        1.18       93.64\n",
      "     aahaa,a/aa/aaaa |         25        1.05       94.69\n",
      "               aa:aa |         19        0.80       95.49\n",
      "      aah,aa/aa/aaaa |         12        0.51       96.00\n",
      "            ah(a/aa) |         12        0.51       96.50\n",
      "                ahaa |         12        0.51       97.01\n",
      "       aah,a/aa/aaaa |          8        0.34       97.35\n",
      "           ah(aa/aa) |          7        0.29       97.64\n",
      "        aahaa(aa/aa) |          6        0.25       97.89\n",
      "               aagaa |          5        0.21       98.10\n",
      "                aaha |          5        0.21       98.31\n",
      "           aah/aa/aa |          3        0.13       98.44\n",
      "          aaha(aa/a) |          3        0.13       98.57\n",
      "             aahaa/a |          3        0.13       98.69\n",
      "              aahaap |          3        0.13       98.82\n",
      "                  ah |          3        0.13       98.95\n",
      "                   K |          2        0.08       99.03\n",
      "          aaha(a/aa) |          2        0.08       99.12\n",
      "         aahaa(aa/a) |          2        0.08       99.20\n",
      "      aahaa,aa/aa/aa |          2        0.08       99.28\n",
      "          ahaa(a/aa) |          2        0.08       99.37\n",
      "          ahaa(aa/a) |          2        0.08       99.45\n",
      "           :aa:aa/aa |          1        0.04       99.49\n",
      "           aa/a aa/a |          1        0.04       99.54\n",
      "        aa/aa (aa/a) |          1        0.04       99.58\n",
      "                aaaa |          1        0.04       99.62\n",
      "            aaaa a/a |          1        0.04       99.66\n",
      "           aaaa aa/a |          1        0.04       99.71\n",
      "      aaha,aa/a/aaaa |          1        0.04       99.75\n",
      "     aaha,aa/aa/aaaa |          1        0.04       99.79\n",
      "         aahaa(a/aa) |          1        0.04       99.83\n",
      "              aahaaa |          1        0.04       99.87\n",
      "       aahaaaa/aa/aa |          1        0.04       99.92\n",
      "            ah/aa/aa |          1        0.04       99.96\n",
      "                 aha |          1        0.04      100.00\n",
      "---------------------+-----------------------------------\n",
      "               Total |      2,373      100.00\n"
     ]
    }
   ],
   "source": [
    "local midate mi(time7d) & !mi(time7clean)\n",
    "local mitime mi(time7c) & !mi(time7clean)\n",
    "\n",
    "tab t7check if `mitime', sort\n",
    "* tab t7check if `midate', sort"
   ]
  },
  {
   "cell_type": "code",
   "execution_count": 38,
   "metadata": {
    "collapsed": true
   },
   "outputs": [],
   "source": [
    "qui {\n",
    "    local midate mi(time7d) & !mi(time7clean)\n",
    "    local mitime mi(time7c) & !mi(time7clean)\n",
    "\n",
    "    * truong hop aa:aa/aa hoac a:aa/aa: Tong so = 1613\n",
    "    local rpcond regexm(time7clean,\"(^[0-9]+:[0-9]+)/([0-9]+$)\")\n",
    "    replace time7clean=\"9:30/20\" if time7clean==\"9:30/120\"\n",
    "\n",
    "    replace time7c = regexs(1) if `mitime' & `rpcond'\n",
    "    replace time7d = regexs(2) if `midate' & `rpcond'\n",
    "\n",
    "    * truong hop aahaa, aah, aaha, ah, aha, ahaa: tong so=331\n",
    "    local rpcond regexm(time7clean, \"([0-9]+h[0-9]*$)\")\n",
    "    replace time7clean=\"14h34\" if time7clean==\"14h340\"\n",
    "    replace time7c = time7clean if `mitime' & `rpcond'\n",
    "\n",
    "    * truong hop: aa/aa/aa cua 401: BV Bach Mai = 183\n",
    "    local rpcond regexm(time7clean, \"(^[0-9]+)/([0-9]+)/([0-9]+$)\")\n",
    "    replace time7c = regexs(2) + \"h\" + regexs(1) if `mitime' & `rpcond' & madieutra==401\n",
    "    replace time7d = regexs(3) if `midate' & `rpcond' & madieutra==401\n",
    "\n",
    "    * truong hop: aahaa,aa/a/aaaa ... 8 to hop khac nhau tong so = 119\n",
    "    local rpcond regexm(time7clean,\"(^[0-9]+h[0-9]*),([0-9]+/[0-9]+/[0-9]+$)\")\n",
    "    replace time7c = regexs(1) if `mitime' & `rpcond'\n",
    "    replace time7d = regexs(2) if `midate' & `rpcond'\n",
    "\n",
    "    * Truong hop: aahaa/aa aahaa/a tong = 41\n",
    "    local rpcond regexm(time7clean,\"(^[0-9]+h[0-9]+)/([0-9]+$)\")\n",
    "    replace time7c = regexs(1) if `mitime' & `rpcond'\n",
    "    replace time7d = regexs(2) if `midate' & `rpcond'\n",
    "\n",
    "    * truong hop: aa:aa. Tong=19\n",
    "    replace time7c = time7clean if t7check==\"aa:aa\" & `mitime'\n",
    "\n",
    "    * truong hop: ah(a/aa): tong=37\n",
    "    local rpcond regexm(time7clean,\"(^[0-9]+h[0-9]*)[(]([0-9]+/[0-9]*)[)$]\")\n",
    "    replace time7c = regexs(1) if `mitime' & `rpcond'\n",
    "    replace time7d = regexs(2) if `midate' & `rpcond'\n",
    "\n",
    "    * truong hop: aagaa; Tong=5\n",
    "    replace time7c = time7clean if t7check==\"aagaa\" & `mitime'\n",
    "\n",
    "    * truong hop aa/aa/aa khong phai la cua 401. Tong con lai bang 4\n",
    "    local rpcond regexm(time7clean,\"(^[0-9]+)/([0-9]+)/([0-9]+$)\")\n",
    "    replace time7c = regexs(1) + \"h\" + regexs(2) if `mitime' & `rpcond'\n",
    "    replace time7d = regexs(3) if `midate' & `rpcond'\n",
    "\n",
    "    * Truong hop: aah/aa/aa Tong=4\n",
    "    local rpcond regexm(time7clean, \"(^[0-9]+h)/([0-9]+)/([0-9]+$)\")\n",
    "    replace time7c = regexs(1) + \"h\" + regexs(2) if `mitime' & `rpcond'\n",
    "    replace time7d = regexs(3)                   if `midate' & `rpcond'\n",
    "\n",
    "    * Truong hop: aahaap 3\n",
    "    replace time7c = subinstr(time7clean, \"p\",\"\",.) if t7check==\"aahaap\" & `mitime'\n",
    "\n",
    "    replace time7c = \"10h50\" if time7clean==\"1050 23/9\" & `mitime'\n",
    "    replace time7c = \"10h50\" if time7clean==\"1050 3/9\" & `mitime'\n",
    "    replace time7c = \"14h08\" if time7clean==\"14/8 24/9\" & `mitime'\n",
    "    replace time7c = \"15h40\" if time7clean==\"1540\" & `mitime'\n",
    "    replace time7c = \"16h25\" if time7clean==\"16/25 (23/9)\" & `mitime'\n",
    "    replace time7c = \"14h10\" if time7clean==\"14h1020/09/19\" & `mitime'\n",
    "    replace time7c = \"15:30\" if time7clean==\":15:30/07\" & `mitime'\n",
    "\n",
    "    replace time7d = \"23/9\" if time7clean==\"1050 23/9\" & `midate'\n",
    "    replace time7d = \"3/9\" if time7clean==\"1050 3/9\" & `midate'\n",
    "    replace time7d = \"24/9\" if time7clean==\"14/8 24/9\" & `midate'\n",
    "    replace time7d = \"23/9\" if time7clean==\"16/25 (23/9)\" & `midate'\n",
    "    replace time7d = \"20/09/19\" if time7clean==\"14h1020/09/19\" & `midate'\n",
    "    replace time7d = \"07\" if time7clean==\":15:30/07\" & `midate'\n",
    "}"
   ]
  },
  {
   "cell_type": "markdown",
   "metadata": {},
   "source": [
    "## Them missing ngay BS co ket qua dua vao ngay noi gui nhan duoc ket qua"
   ]
  },
  {
   "cell_type": "code",
   "execution_count": 39,
   "metadata": {
    "collapsed": true
   },
   "outputs": [],
   "source": [
    "*view \"C:\\Users\\DELL\\Dropbox\\ai_pt\\result\\20200515-master.smcl\""
   ]
  },
  {
   "cell_type": "code",
   "execution_count": 40,
   "metadata": {
    "collapsed": true
   },
   "outputs": [
    {
     "name": "stdout",
     "output_type": "stream",
     "text": [
      "\n",
      "\n",
      "Checking missings in time7c time7d:\n",
      "366 observations with missing values\n",
      "\n",
      "----------------\n",
      "        |     #\n",
      "--------+-------\n",
      " time7c |     2\n",
      " time7d |   366\n",
      "----------------\n",
      "\n",
      "\n",
      "Checking missings in time7 time7clean time7c time7d:\n",
      "545 observations with missing values\n",
      "\n",
      "--------------------\n",
      "            |     #\n",
      "------------+-------\n",
      "      time7 |   179\n",
      " time7clean |   179\n",
      "     time7c |   181\n",
      "     time7d |   545\n",
      "--------------------\n"
     ]
    }
   ],
   "source": [
    "missings report time7c time7d if !mi(time7clean)\n",
    "missings report time7 time7clean time7c time7d"
   ]
  },
  {
   "cell_type": "code",
   "execution_count": 41,
   "metadata": {
    "collapsed": true
   },
   "outputs": [
    {
     "name": "stdout",
     "output_type": "stream",
     "text": [
      "\n",
      "\n",
      ". replace time7d = time6d if htime7check==0 & mi(time7d)\n",
      "(305 real changes made)\n",
      "\n",
      ". replace time7d = time6d if htime7check==1 & mi(time7d)\n",
      "(30 real changes made)\n"
     ]
    }
   ],
   "source": [
    "qui {\n",
    "    cap drop headtime7c\n",
    "    gen headtime7c = ustrleft(time7c,2)\n",
    "    replace headtime7c = subinstr(headtime7c,\"h\",\"\",.)\n",
    "    replace headtime7c = subinstr(headtime7c,\"g\",\"\",.)\n",
    "    replace headtime7c = subinstr(headtime7c,\":\",\"\",.)\n",
    "\n",
    "    tab time7clean if headtime7c==\"46\" //Truong hop nay khong biet la 14h hay la 16h\n",
    "    replace time7c = \"\" if time7clean==\"46:10 01/10\"\n",
    "    replace headtime7c = \"\" if time7clean==\"46:10 01/10\"\n",
    "    destring headtime7c, replace \n",
    "    \n",
    "    cap di htime7check\n",
    "    if !_rc drop htime7check\n",
    "    gen htime7check = headtime7c - headtime6c\n",
    "}\n",
    "\n",
    "replace time7d = time6d if htime7check==0 & mi(time7d)\n",
    "replace time7d = time6d if htime7check==1 & mi(time7d)"
   ]
  },
  {
   "cell_type": "code",
   "execution_count": 42,
   "metadata": {
    "collapsed": true
   },
   "outputs": [
    {
     "name": "stdout",
     "output_type": "stream",
     "text": [
      "\n",
      "\n",
      ". list time6d time6c time7d time7c if mi(time7d) & htime7check==-10\n",
      "\n",
      "      +--------------------------------------+\n",
      "      |    time6d   time6c   time7d   time7c |\n",
      "      |--------------------------------------|\n",
      "  39. | 24/9/2019      17h              7h35 |\n",
      "  41. | 24/9/2019    17h10              7h45 |\n",
      "  42. | 24/9/2019    17h10              7h45 |\n",
      "  43. | 24/9/2019    17h10              7h45 |\n",
      "      +--------------------------------------+\n"
     ]
    }
   ],
   "source": [
    "qui {\n",
    "    tab htime7check if mi(time7d), m sort\n",
    "    tab time6d if mi(time7d) & htime7check==0, m sort\n",
    "}\n",
    "list time6d time6c time7d time7c if mi(time7d) & htime7check==-10"
   ]
  },
  {
   "cell_type": "markdown",
   "metadata": {},
   "source": [
    "<div class=\"alert-danger\"> \n",
    "<h3>Những trường hợp missing thời điểm BS nhận được kết quả thì còn cần trao đổi thêm vì htime7check không cho thấy là trong cùng 1 ngày. Và cũng không biết được rằng của ngày hôm đó trong ca trực hay là của ngày hôm sau khi bắt đầu buổi sáng. Ngoài ra thì còn có những điểm không nhập thông tin này thì không thể nào biết được. Cần trao đổi lại với</h3>\n",
    "</div>"
   ]
  },
  {
   "cell_type": "markdown",
   "metadata": {},
   "source": [
    "### Lam sach ngay voi du ngay thang nam cua `time7d`"
   ]
  },
  {
   "cell_type": "code",
   "execution_count": 43,
   "metadata": {
    "collapsed": true
   },
   "outputs": [],
   "source": [
    "cap di time7dlen \n",
    "if !_rc drop time7dlen\n",
    "gen time7dlen = strlen(time7d)"
   ]
  },
  {
   "cell_type": "code",
   "execution_count": 44,
   "metadata": {
    "collapsed": true
   },
   "outputs": [
    {
     "name": "stdout",
     "output_type": "stream",
     "text": [
      "\n",
      "  time7dlen |      Freq.     Percent        Cum.\n",
      "------------+-----------------------------------\n",
      "          0 |        210        3.04        3.04\n",
      "          1 |          4        0.06        3.10\n",
      "          2 |      1,848       26.76       29.85\n",
      "          3 |          3        0.04       29.90\n",
      "          4 |        610        8.83       38.73\n",
      "          5 |        818       11.84       50.57\n",
      "          6 |         91        1.32       51.89\n",
      "          7 |        206        2.98       54.87\n",
      "          8 |        171        2.48       57.35\n",
      "          9 |      2,287       33.11       90.46\n",
      "         10 |        659        9.54      100.00\n",
      "------------+-----------------------------------\n",
      "      Total |      6,907      100.00\n"
     ]
    }
   ],
   "source": [
    "tab time7dlen"
   ]
  },
  {
   "cell_type": "code",
   "execution_count": 45,
   "metadata": {
    "collapsed": true
   },
   "outputs": [],
   "source": [
    "qui {\n",
    "    replace time7d = time7d + \"/10/2029\" if strlen(time7d)==1\n",
    "    replace time7d = time7d + \"/10/2019\" if strlen(time7d)==2 & real(time7d)<18\n",
    "    replace time7d = time7d + \"/09/2019\" if strlen(time7d)==2 & real(time7d)>17\n",
    "    replace time7d = \"10/10/2019\"        if strlen(time7d)==3 & time7d==\"/10\"\n",
    "    replace time7d = \"3/9/2019\"          if strlen(time7d)==3 & time7d==\"3/9\"\n",
    "    replace time7d = time7d + \"/2019\"    if strlen(time7d)==4\n",
    "    replace time7d = \"30/9/2019\"         if strlen(time7d)==5 & time7d==\",30/9\"\n",
    "    replace time7d = \"04/10/2019\"        if strlen(time7d)==5 & time7d==\"4/810\"\n",
    "    replace time7d = time7d + \"/2019\"    if strlen(time7d)==5\n",
    "    replace time7d = subinstr(time7d,\"(\",\"\",.) if time7dlen==6\n",
    "    replace time7d = subinstr(time7d,\")\",\"\",.) if time7dlen==6\n",
    "    replace time7d = time7d + \"/2019\"          if time7dlen==6 & strlen(time7d)<7 \n",
    "    replace time7d = subinstr(time7d,\")\",\"\",.) if time7dlen==7\n",
    "    replace time7d = time7d + \"/2019\" if time7dlen==7 & strpos(time7d,\"(\")\n",
    "    replace time7d = subinstr(time7d,\"(\",\"\",.)         if time7dlen==7\n",
    "    replace time7d = regexr(time7d,\"([.][0-9][0-9]$)\",\".2019\") if time7dlen==7 \n",
    "    replace time7d = regexr(time7d,\"([/][0-9][0-9]$)\",\"/2019\") if time7dlen==7\n",
    "    replace time7d = \"25/09/2019\" if time7d==\"25/09/20\"\n",
    "    replace time7d = regexr(time7d,\"([.][0-9][0-9]$)\",\".2019\") if time7dlen==8 \n",
    "    replace time7d = regexr(time7d,\"([/][0-9][0-9]$)\",\"/2019\") if time7dlen==8\n",
    "}"
   ]
  },
  {
   "cell_type": "markdown",
   "metadata": {},
   "source": [
    "<h2 style=\"background-color:DodgerBlue;color:white;padding:20px;text-align:center;\"><b>TIME8: Lam sach <i>time8</i>: Thoi gian BN bat dau dieu tri</b></h2>"
   ]
  },
  {
   "cell_type": "code",
   "execution_count": 46,
   "metadata": {
    "collapsed": true
   },
   "outputs": [
    {
     "name": "stdout",
     "output_type": "stream",
     "text": [
      "\n",
      "Checking missings in time8:\n",
      "5190 observations with missing values\n",
      "\n",
      "----------------\n",
      "       |      #\n",
      "-------+--------\n",
      " time8 |   5190\n",
      "----------------\n"
     ]
    }
   ],
   "source": [
    "missings report time8"
   ]
  },
  {
   "cell_type": "code",
   "execution_count": 47,
   "metadata": {
    "collapsed": true
   },
   "outputs": [],
   "source": [
    "qui {\n",
    "    cap drop time8clean\n",
    "    clonevar time8clean = time8\n",
    "    local time8avai real(ustrleft(time8clean,1))>=0 & real(ustrleft(time8clean,1))<=9\n",
    "    cap drop t8check\n",
    "    gen t8check = time8clean\n",
    "    forvalue i=0/9 {\n",
    "        replace t8check = subinstr(t8check,\"`i'\",\"a\",.) if `time8avai'\n",
    "    }\n",
    "    replace t8check = \"\" if !(`time8avai')\n",
    "}"
   ]
  },
  {
   "cell_type": "code",
   "execution_count": 48,
   "metadata": {
    "collapsed": true
   },
   "outputs": [],
   "source": [
    "qui {\n",
    "    gen time8d = \"\"\n",
    "    gen time8c = \"\"\n",
    "\n",
    "    * truong hop: ahaa aa/aa\n",
    "    local rpcond regexm(time8clean,\"(^[0-9]+h[0-9]*)[ ]([0-9]+/[0-9]+$)\")\n",
    "    replace time8c = regexs(1) if `rpcond'\n",
    "    replace time8d = regexs(2) if `rpcond'\n",
    "\n",
    "    * Truong hop: a/aa\n",
    "    local rpcond regexm(time8clean,\"(^[0-9]+/[0-9]+$)\")\n",
    "    replace time8d = time8clean if `rpcond'\n",
    "\n",
    "    * truong hop: aa:aa/ aa-aa-aaaa\n",
    "    local rpcond regexm(time8clean,\"(^[0-9]+:[0-9]+)/[ ]([0-9]+[-][0-9]+[-][0-9]+$)\")\n",
    "    replace time8c = regexs(1) if `rpcond' & mi(time8c)\n",
    "    replace time8d = regexs(2) if `rpcond' & mi(time8d)\n",
    "\n",
    "    * truong hop: a/aa/aaaa\n",
    "    local rpcond regexm(time8clean,\"(^[0-9]+[/][0-9]+[/][0-9]+$)\")\n",
    "    replace time8d = time8clean if `rpcond' & mi(time8d)\n",
    "\n",
    "    local rpcond regexm(time8clean,\"([0-9]+h[0-9]*)[ ][(]([0-9]+/[0-9]+)[)$]\")\n",
    "    replace time8c = regexs(1) if `rpcond' & mi(time8c)\n",
    "    replace time8d = regexs(2) if `rpcond' & mi(time8d)\n",
    "\n",
    "    local rpcond regexm(word(time8clean,2),\":\") & wordcount(time8clean)==2\n",
    "    replace time8c = word(time8clean,2) if `rpcond' & mi(time8c)\n",
    "    replace time8d = word(time8clean,1) if `rpcond' & mi(time8d)\n",
    "    \n",
    "    * truong hop wordcount =2\n",
    "    local rpcond regexm(word(time8clean,1),\":\") & wordcount(time8clean)==2\n",
    "    replace time8c = word(time8clean,1) if `rpcond' & mi(time8c)\n",
    "    replace time8d = word(time8clean,2) if `rpcond' & mi(time8d)\n",
    "    \n",
    "    replace time8clean = regexr(time8clean,\"h[ ]+\",\"h\") if wordcount(time8clean)==3\n",
    "    replace time8clean = regexr(time8clean,\"g[ ]+\",\"g\") if wordcount(time8clean)==3\n",
    "    replace time8clean = regexr(time8clean,\" ngày\",\"\")\n",
    "    replace time8c = word(time8clean,1) if regexm(word(time8clean,1),\"h\") & wordcount(time8clean)==2 & mi(time8c)\n",
    "    replace time8d = word(time8clean,2) if regexm(word(time8clean,1),\"h\") & wordcount(time8clean)==2 & mi(time8d)\n",
    "}"
   ]
  },
  {
   "cell_type": "markdown",
   "metadata": {},
   "source": [
    "<h3 style=\"background-color:rgba(30,144,255,0.7);color:white;padding:20px;\"> Tạo lại biến <b>t8check</b> sau khi thay đổi biến time8clean </h3>"
   ]
  },
  {
   "cell_type": "code",
   "execution_count": 49,
   "metadata": {
    "collapsed": true
   },
   "outputs": [],
   "source": [
    "qui { \n",
    "    cap drop t8check\n",
    "    gen t8check = time8clean\n",
    "    forvalue i=0/9 {\n",
    "        replace t8check = subinstr(t8check,\"`i'\",\"a\",.) if `time8avai'\n",
    "    }\n",
    "    replace t8check = \"\" if !(`time8avai')\n",
    "}"
   ]
  },
  {
   "cell_type": "code",
   "execution_count": 50,
   "metadata": {
    "collapsed": true
   },
   "outputs": [],
   "source": [
    "qui {\n",
    "    replace time8c = word(time8clean,1) if regexm(word(time8clean,1),\"g\") & mi(time8c) & wordcount(time8clean)==2\n",
    "    replace time8d = word(time8clean,2) if regexm(word(time8clean,1),\"g\") & mi(time8d) & wordcount(time8clean)==2\n",
    "    replace time8c = word(time8clean,1) if regexm(word(time8clean,1),\"H\") & mi(time8c) & wordcount(time8clean)==2\n",
    "    replace time8d = word(time8clean,2) if regexm(word(time8clean,1),\"H\") & mi(time8d) & wordcount(time8clean)==2\n",
    "\n",
    "    * truong hop aa.a.aa\n",
    "    local rpcond regexm(time8clean,\"(^[0-9]+[.][0-9]+[.][0-9]+$)\")\n",
    "    replace time8d = time8clean if `rpcond' & mi(time8d)\n",
    "\n",
    "    * truong hop:  aa/aa/aa chuyển ...\n",
    "    local rpcond regexm(word(time8clean,1),\"(^[0-9]+/[0-9]+/[0-9]+$)\")\n",
    "    replace time8d = regexs(1) if `rpcond' & mi(time8d)\n",
    "\n",
    "    * truong hop aa:aa/aa\n",
    "    local rpcond regexm(time8clean,\"([0-9]+:[0-9]+)/([0-9]+$)\")\n",
    "    replace time8c = regexs(1) if `rpcond' & mi(time8c)\n",
    "    replace time8d = regexs(2) if `rpcond' & mi(time8d)\n",
    "\n",
    "    * truong hop: aa:aa\n",
    "    replace time8c = time8clean if t8check==\"aa:aa\" & mi(time8c)\n",
    "    replace time8c = time8clean if t8check==\"aagaa\" & mi(time8c)\n",
    "    replace time8c = time8clean if t8check==\"ahaa\"  & mi(time8c)\n",
    "\n",
    "    * truong hop: aahaa*...\n",
    "    replace time8c = regexs(0)  if regexm(time8clean,\"([0-9]+h[0-9][0-9]*)\") & !mi(time8clean) & mi(time8c)\n",
    "    replace time8c = \"7h30\"     if time8clean==\"7/30 03/10\" & mi(time8c)\n",
    "    replace time8d = \"03/10\"    if time8clean==\"7/30 03/10\" & mi(time8d)\n",
    "    replace time8d = \"18/9/19\"  if time8clean==\"18/9 19\" & mi(time8d)\n",
    "    replace time8d = \"19/9/19\"  if time8clean==\"19/9 19\" & mi(time8d)\n",
    "    \n",
    "    local rpcond regexm(time8clean,\"([0-9]h/[0-9][0-9])/([0-9]+$)\")\n",
    "    replace time8c = regexs(1) if `rpcond' & mi(time8c)\n",
    "    replace time8d = regexs(2) if `rpcond' & mi(time8d)\n",
    "    replace time8c = \"7h00\"    if time8clean==\"7:00/4/11\" & mi(time8c)\n",
    "    replace time8d = \"4/11\"    if time8clean==\"7:00/4/11\" & mi(time8d)\n",
    "    replace time8c = \"14h00\"   if time8clean==\"14 (14/10)\" & mi(time8c)\n",
    "    replace time8d = \"14/10\"   if time8clean==\"14 (14/10)\" & mi(time8d)\n",
    "    replace time8d = \"24/9/19\" if time8clean==\"24.9 /19\" & mi(time8d)\n",
    "    replace time8d = \"16/9/19\" if time8clean==\"16/9 19/\" & mi(time8d)\n",
    "    replace time8c = \"10h30\"   if time8clean==\"10H309/10\" & mi(time8c)\n",
    "    replace time8d = \"09/10\"   if time8clean==\"10H309/10\" & mi(time8d)\n",
    "    replace time8c = \"10h15\"   if time8clean==\"10H1520/9\" & mi(time8c)\n",
    "    replace time8d = \"20/9\"    if time8clean==\"10H1520/9\" & mi(time8d)\n",
    "    replace time8c = \"10h15\"   if time8clean==\"10H1520/9\" & mi(time8c)\n",
    "    replace time8d = \"20/9\"    if time8clean==\"10H1520/9\" & mi(time8d)\n",
    "    \n",
    "    local rpcond regexm(time8d,\"(^[0-9][0-9])/([0-9][0-9])/([0-9][0-9]$)\")\n",
    "    replace time8c = regexs(2) + \"h\" + regexs(1) if `rpcond' & madieutra==401\n",
    "    replace time8d = regexs(3) if `rpcond' & madieutra==401\n",
    "}\n"
   ]
  },
  {
   "cell_type": "markdown",
   "metadata": {},
   "source": [
    "<h3 style=\"background-color:rgba(30,144,255,0.7);color:white;padding:20px;\">\n",
    "    Làm sạch lại biến thời gian <b>time8d</b> </h3>"
   ]
  },
  {
   "cell_type": "code",
   "execution_count": 51,
   "metadata": {
    "collapsed": true
   },
   "outputs": [
    {
     "name": "stdout",
     "output_type": "stream",
     "text": [
      "\n",
      "(94 real changes made)\n",
      "\n",
      "(1 real change made)\n",
      "\n",
      "(1 real change made)\n",
      "\n",
      "\n",
      "     time8d |      Freq.     Percent        Cum.\n",
      "------------+-----------------------------------\n",
      "         01 |          1        4.55        4.55\n",
      "         02 |          2        9.09       13.64\n",
      "         03 |          1        4.55       18.18\n",
      "         04 |          2        9.09       27.27\n",
      "         07 |          2        9.09       36.36\n",
      "         10 |          1        4.55       40.91\n",
      "         15 |          1        4.55       45.45\n",
      "         16 |          2        9.09       54.55\n",
      "         17 |          2        9.09       63.64\n",
      "         20 |          1        4.55       68.18\n",
      "         23 |          2        9.09       77.27\n",
      "         26 |          3       13.64       90.91\n",
      "         27 |          1        4.55       95.45\n",
      "         28 |          1        4.55      100.00\n",
      "------------+-----------------------------------\n",
      "      Total |         22      100.00\n"
     ]
    }
   ],
   "source": [
    "replace time8d = \"\" if inlist(time8d,\"TƯ\",\"rõ\",\"trị\")\n",
    "replace time8d = subinstr(time8d,\"(\",\"\",.)\n",
    "replace time8d = subinstr(time8d,\")\",\"\",.)\n",
    "tab time8d if madieutra==401"
   ]
  },
  {
   "cell_type": "code",
   "execution_count": 52,
   "metadata": {
    "collapsed": true
   },
   "outputs": [],
   "source": [
    "// Doan lenh nay chi chay 1 lan khong thi se bi nham\n",
    "qui {\n",
    "    cap drop time8dlen\n",
    "    gen time8dlen = strlen(time8d)\n",
    "    replace time8d = \"09/10/2019\" if strlen(time8d)==1 \n",
    "    replace time8d = time8d + \"/10/2019\" if real(time8d)<18 & strlen(time8d)==2\n",
    "    replace time8d = time8d + \"/09/2019\" if real(time8d)>17 & strlen(time8d)==2  \n",
    "    replace time8d = time8d + \"/2019\" if strlen(time8d)==3\n",
    "    replace time8d = time8d + \"/2019\" if strlen(time8d)==4\n",
    "    replace time8d = time8d + \"/2019\" if strlen(time8d)==5\n",
    "\n",
    "    replace time8d = \"\" if time8d==\"115/10\"\n",
    "    replace time8d = regexr(time8d,\"([0-9][0-9]$)\",\"2019\") if strlen(time8d)==6\n",
    "\n",
    "    replace time8d = regexr(time8d,\"([0-9][0-9]$)\",\"2019\") if strlen(time8d)==7\n",
    "    replace time8d = regexr(time8d,\"([/][0-9][0-9]$)\",\"/2019\") if strlen(time8d)==8\n",
    "    replace time8d = regexr(time8d,\"([.][0-9][0-9]$)\",\".2019\") if strlen(time8d)==8\n",
    "}"
   ]
  },
  {
   "cell_type": "markdown",
   "metadata": {},
   "source": [
    "<h4 style=\"padding: 20px;line-height:1.5;\"><b>Ngày bắt đầu điều trị có thể nhỏ hơn ngày được xét nghiệm xpert bởi vì có thể xét nghiệm xpert sau khi có AFB dương tính, do vậy không bất ngờ gì khi tìm thấy ngày bắt đầu điều trị nhỏ hơn ngày được làm xn xpert</b></h4>"
   ]
  },
  {
   "cell_type": "code",
   "execution_count": 53,
   "metadata": {
    "collapsed": true
   },
   "outputs": [
    {
     "name": "stdout",
     "output_type": "stream",
     "text": [
      "(1 real change made)\n"
     ]
    }
   ],
   "source": [
    "replace time8d = \"15/10/2019\" if time8d==\"15/1014/10\" //madieutra=408"
   ]
  },
  {
   "cell_type": "markdown",
   "metadata": {},
   "source": [
    "<h3>Thống nhất các biến ngày về 1 định dạng và làm sạch định dạng tháng/ngày/năm</h3>"
   ]
  },
  {
   "cell_type": "code",
   "execution_count": 54,
   "metadata": {
    "collapsed": true
   },
   "outputs": [],
   "source": [
    "qui {\n",
    "    forvalue i=1/8 {\n",
    "        replace time`i'd = subinstr(time`i'd,\"sep\",\"/09/\",.)\n",
    "        replace time`i'd = subinstr(time`i'd,\"oct\",\"/10/\",.)\n",
    "        replace time`i'd = subinstr(time`i'd,\"aug\",\"/10/\",.)\n",
    "        replace time`i'd = subinstr(time`i'd,\"nov\",\"/10/\",.)\n",
    "        replace time`i'd = subinstr(time`i'd,\"jun\",\"/10/\",.)\n",
    "        replace time`i'd = subinstr(time`i'd,\"may\",\"/10/\",.)\n",
    "        replace time`i'd = subinstr(time`i'd,\"-\",\"/\",.)\n",
    "        replace time`i'd = subinstr(time`i'd,\".\",\"/\",.)\n",
    "    }\n",
    "}"
   ]
  },
  {
   "cell_type": "markdown",
   "metadata": {},
   "source": [
    "<h4 style=\"background-color: tomato;color: white;padding: 20px;line-height:1.5;\"><b>Nghiên cứu thực hiện tháng 9 và tháng 10 năm 2019, do vậy ngoài những tháng trên thì coi như là outlier và cần làm sạch cho những khoảng thời gian này. Trừ trường hợp của thời gian bắt đầu điều trị, vì có thể xn xpert cho người bệnh đã bắt đầu vào điều trị</b></h4>"
   ]
  },
  {
   "cell_type": "code",
   "execution_count": 55,
   "metadata": {
    "collapsed": true
   },
   "outputs": [],
   "source": [
    "// time5,time6, time7\n",
    "// Nhu vay con time1-time4 khong bi truong hop nhu vay thi se giu nguyen order trong bo du lieu\n",
    "cap program drop chuyenngay\n",
    "program define chuyenngay\n",
    "    syntax varlist\n",
    "    foreach v of varlist `varlist' {\n",
    "        local rpcond regexm(`v',\"^([0-9]+)/([0-9]+)/([0-9]+$)\")\n",
    "        cap drop `v'checkmonth\n",
    "        cap gen  `v'checkmonth = regexs(2) if `rpcond' //Tao bien lay 2 so o giua\n",
    "        cap destring `v'checkmonth, replace //Chuyen thanh dang so\n",
    "        cap clonevar `v'clean = `v' // tao bien ngay moi clean\n",
    "        cap replace `v'clean = regexs(2) + \"/\" + regexs(1) + \"/2019\" if `rpcond' & !inlist(`v'checkmonth,9,10)\n",
    "        // Thay doi bien moi nay neu ma thang khong phai la 9 hoac 10        \n",
    "    }\n",
    "end\n",
    "chuyenngay time5d time6d time7d"
   ]
  },
  {
   "cell_type": "code",
   "execution_count": 56,
   "metadata": {
    "collapsed": true
   },
   "outputs": [],
   "source": [
    "qui {\n",
    "    replace time5dclean=\"20/09/2019\" if time5d==\"20/92/2019\"\n",
    "    replace time5dclean=\"27/09/2019\" if time5d==\"27/06/2019\"\n",
    "    replace time6dclean=subinstr(time6dclean,\",\",\"\",.)\n",
    "    replace time6dclean=\"27/09/2019\" if time6dclean==\"06/27/2019\"\n",
    "    replace time6dclean=\"04/10/2019\" if time6dclean==\"40/4/2019\"\n",
    "    replace time6dclean=\"10/10/2019\" if time6dclean==\"0/10/2019\"\n",
    "    replace time6dclean=\"01/10/2019\" if time6dclean==\"2019/2019\"\n",
    "    replace time6dclean=\"05/11/2019\" if time6dclean==\"11/05/2019\"\n",
    "    replace time6dclean=\"24/09/2019\" if time6dclean==\"24/09/019\"\n",
    "    replace time6dclean=\"09/10/2019\" if time6dclean==\"9/10/2009\"\n",
    "    replace time7dclean=\"05/11/2019\" if time7dclean==\"11/05/2019\"\n",
    "    replace time7dclean = regexr(time7dclean,\"[0-9][0-9][0-9][0-9]$\",\"2019\") if !regexm(time7dclean,\"2019$\") & !mi(time7dclean)\n",
    "}"
   ]
  },
  {
   "cell_type": "code",
   "execution_count": 57,
   "metadata": {
    "collapsed": true
   },
   "outputs": [],
   "source": [
    "//Chinh sua time8 rieng\n",
    "qui {   \n",
    "    local rpcond regexm(time8d,\"^([0-9]+)/([0-9]+)/([0-9]+$)\")\n",
    "    cap drop time8dcheckmonth\n",
    "    gen time8dcheckmonth = regexs(2) if `rpcond'\n",
    "    destring time8dcheckmonth, replace \n",
    "    clonevar time8dclean=time8d\n",
    "    replace time8dclean = regexs(2) + \"/\" + regexs(1) + \"/2019\" if `rpcond' & time8dcheckmonth>12 & !mi(time8dcheckmonth)\n",
    "    replace time8dclean = \"17/10/2019\" if time8dclean==\"17/10/2109\"\n",
    "}"
   ]
  },
  {
   "cell_type": "code",
   "execution_count": 58,
   "metadata": {
    "collapsed": true
   },
   "outputs": [],
   "source": [
    "numlabel, add mask(#.) force"
   ]
  },
  {
   "cell_type": "code",
   "execution_count": 59,
   "metadata": {
    "collapsed": true
   },
   "outputs": [
    {
     "name": "stdout",
     "output_type": "stream",
     "text": [
      "\n",
      "\n",
      "\n",
      "           |     mitime8dclean\n",
      "       mtb |         0          1 |     Total\n",
      "-----------+----------------------+----------\n",
      "0.negative |       336      4,059 |     4,395 \n",
      "1.positive |     1,096      1,218 |     2,314 \n",
      "   2.trace |        19        122 |       141 \n",
      "   3.ERROR |         6         29 |        35 \n",
      " 9.Unknown |         1         11 |        12 \n",
      "-----------+----------------------+----------\n",
      "     Total |     1,458      5,439 |     6,897 \n"
     ]
    }
   ],
   "source": [
    "gen mitime8dclean=(mi(time8dclean))\n",
    "tab mtb mitime8dclean"
   ]
  },
  {
   "cell_type": "code",
   "execution_count": 60,
   "metadata": {
    "collapsed": true
   },
   "outputs": [],
   "source": [
    "la var gender \"(Clean) Gender of the patient\"\n",
    "la var age    \"(Clean) Age of the patient\"\n",
    "la var mtb    \"(Clean) Xpert result MTB\"\n",
    "la var rif    \"(Clean) Xpert result Rif\""
   ]
  },
  {
   "cell_type": "markdown",
   "metadata": {},
   "source": [
    "<h2 style=\"background-color:DodgerBlue;padding:20px;color:white;text-align: center;\"><b>Clean others factor</b></h2>"
   ]
  },
  {
   "cell_type": "code",
   "execution_count": 61,
   "metadata": {
    "collapsed": true
   },
   "outputs": [
    {
     "name": "stdout",
     "output_type": "stream",
     "text": [
      "\n",
      "\n",
      ". numlabel, add mask(#.) force\n",
      "\n",
      ". tab hiv hivss\n",
      "\n",
      "     Tình |\n",
      "    trạng |        (Clean) HIV status\n",
      "       HIV | 1.Unknown  2.Negativ  3.Positiv |     Total\n",
      "-----------+---------------------------------+----------\n",
      "        01 |         1          0          0 |         1 \n",
      "         1 |     6,111          0          0 |     6,111 \n",
      "       111 |         1          0          0 |         1 \n",
      "        1B |         1          0          0 |         1 \n",
      "         2 |         0        571          0 |       571 \n",
      "         3 |         0          0        194 |       194 \n",
      "-----------+---------------------------------+----------\n",
      "     Total |     6,114        571        194 |     6,879 \n"
     ]
    }
   ],
   "source": [
    "qui {\n",
    "    la de    hiv 1 \"Unknown\" 2 \"Negative\" 3 \"Positive\", replace\n",
    "    cap drop hivss\n",
    "    clonevar hivss=hiv\n",
    "    la var   hivss \"(Clean) HIV status\"\n",
    "    replace  hivss=\"1\" if inlist(hiv,\"01\",\"111\",\"1B\")\n",
    "    destring hivss, replace\n",
    "    la val hivss hiv\n",
    "}\n",
    "numlabel, add mask(#.) force\n",
    "tab hiv hivss"
   ]
  },
  {
   "cell_type": "markdown",
   "metadata": {},
   "source": [
    "<h2 style=\"padding:20px;color:red;line-height:1.5;\">\n",
    "Saving dataset up to May 22, 2020.\n",
    "</h2>"
   ]
  },
  {
   "cell_type": "code",
   "execution_count": 62,
   "metadata": {
    "collapsed": true
   },
   "outputs": [
    {
     "name": "stdout",
     "output_type": "stream",
     "text": [
      "file form4-20200522-combined.dta saved\n"
     ]
    }
   ],
   "source": [
    "save \"form4-20200522-combined.dta\" "
   ]
  },
  {
   "cell_type": "code",
   "execution_count": 248,
   "metadata": {
    "collapsed": true
   },
   "outputs": [
    {
     "name": "stdout",
     "output_type": "stream",
     "text": [
      "\n",
      "D:\\NTP\\GA-191231-GxAlert project\\1. Data\\1. Process\\Statadataset\n",
      "\n",
      "\n",
      "\n",
      "Checking missings in add:\n",
      "20 observations with missing values\n",
      "\n",
      "--------------------\n",
      "     |    #       %\n",
      "-----+--------------\n",
      " add |   20    0.29\n",
      "--------------------\n",
      "\n",
      "variable name not found\n"
     ]
    },
    {
     "name": "stderr",
     "output_type": "stream",
     "text": [
      "r(111);\n",
      "r(111);\n"
     ]
    },
    {
     "name": "stdout",
     "output_type": "stream",
     "text": [
      "\n",
      "\n"
     ]
    }
   ],
   "source": [
    "cd \"$gadataset\"\n",
    "use form4-20200522-combined.dta, clear\n",
    "\n",
    "missings report add, percent\n",
    "\n",
    "duplicates report madieutra name age gender add\n",
    "duplicates tag madieutra name age gender add, gen(dupid)\n",
    "local identification madieutra name age gender add\n",
    "\n",
    "* tao bien ID benh nhan bao gom ma diem nghien cuu, ten, tuoi, gioi, dia chi\n",
    "cap drop patid*\n",
    "sort `identification'\n",
    "egen patid1 = seq() if dupid==0, f(1) t(6303)\n",
    "egen patid2 = seq() if dupid==1, f(6304) t(6584) b(2)\n",
    "egen patid3 = seq() if dupid==2, f(6585) t(6598) b(3)\n",
    "gen patid = cond(!mi(patid1), patid1, cond(!mi(patid2), patid2, patid3))\n",
    "\n",
    "drop name patid1-patid3\n",
    "\n",
    "order patid madieutra stt gender age add rsample hivss labcode mtb rif time1c time1d time2c time2d time3c time3d ///\n",
    "time4c time4d time5c time5d time6c time6d time7c time7d time8c time8d pid snote time1-time8"
   ]
  },
  {
   "cell_type": "markdown",
   "metadata": {},
   "source": [
    "Hi c Alyssa,\n",
    "As you know, in the patient dataset we didn't have patient unique identification number. I use patient's name, age, gender, address and the study site to create a new ID for the patient (not truely correct but in this case we quite confident). In the data that I sent to you in this mail there is no patient name.\n",
    "\n",
    "I just re-ordered and some process variables for better look. Note that time1-time8 variables is the raw data import from excel spreadsheets.\n",
    "\n",
    "I still keep asking for the update version of the data cause in the data set that I had there was no data for site id 305. And for site ID 403, time data is only display hour, minute and second but not date.\n",
    "\n",
    "For the TTI, I am not sure that during data collection there were Xpert test for patient suspect to failure DS regimen? If had, the start treatment date could be less than date that the doctor received Xpert test result. I will wait for the answer to calculate TTI. \n",
    "\n",
    "Regarding to the instrument down time, I collect all data in the Form 2 (instrument down data). I see some site we could calculate instrument down time but not for all.\n",
    "\n",
    "Best regards,\n",
    "Cu\n"
   ]
  },
  {
   "cell_type": "code",
   "execution_count": 116,
   "metadata": {
    "collapsed": true
   },
   "outputs": [
    {
     "name": "stdout",
     "output_type": "stream",
     "text": [
      "\n",
      "(6,829 real changes made)\n",
      "(0 real changes made)\n",
      "(2,209 real changes made)\n",
      "(0 real changes made)\n",
      "(2,214 real changes made)\n",
      "(0 real changes made)\n",
      "(2,220 real changes made)\n",
      "(0 real changes made)\n",
      "(2,077 real changes made)\n",
      "(1 real change made)\n",
      "(2,272 real changes made)\n",
      "(0 real changes made)\n",
      "(2,009 real changes made)\n",
      "(0 real changes made)\n",
      "(617 real changes made)\n",
      "(0 real changes made)\n"
     ]
    }
   ],
   "source": [
    "forvalues i=1/8 {\n",
    "    replace time`i'c = subinstr(time`i'c, \"h\", \":\", .)\n",
    "    replace time`i'c = subinstr(time`i'c, \";\", \":\", .)\n",
    "    gen time`i'cl    = time`i'd + \" \" + time`i'c, b(time`i'c)\n",
    "}"
   ]
  },
  {
   "cell_type": "code",
   "execution_count": 117,
   "metadata": {},
   "outputs": [],
   "source": [
    "cap program drop chuyenngaygio\n",
    "program define chuyenngaygio\n",
    "    syntax varlist \n",
    "    foreach v in `varlist' {\n",
    "        qui egen dinhdang = noccur(`v'), s(\":\")\n",
    "        qui gen `v'_clock = clock(`v', \"DMY hms\") if dinhdang==2, a(`v')\n",
    "        qui replace `v'_clock = clock(`v', \"DMY hm\") if dinhdang==1\n",
    "        format `v'_clock %tC\n",
    "        drop dinhdang\n",
    "        drop `v'\n",
    "        ren `v'_clock `v'\n",
    "}\n",
    "end"
   ]
  },
  {
   "cell_type": "code",
   "execution_count": 118,
   "metadata": {},
   "outputs": [],
   "source": [
    "chuyenngaygio time*cl"
   ]
  },
  {
   "cell_type": "code",
   "execution_count": 119,
   "metadata": {},
   "outputs": [],
   "source": [
    "cap program drop chuyenngay\n",
    "program define chuyenngay\n",
    "    syntax varlist\n",
    "    foreach v in `varlist' {\n",
    "        qui gen `v'_dclean = date(`v', \"DMY\"), a(`v')\n",
    "        format `v'_dclean %tdDD/NN/CCYY\n",
    "        drop `v'\n",
    "        ren `v'_dclean `v'\n",
    "}\n",
    "end"
   ]
  },
  {
   "cell_type": "code",
   "execution_count": 120,
   "metadata": {},
   "outputs": [],
   "source": [
    "chuyenngay time*d"
   ]
  },
  {
   "cell_type": "code",
   "execution_count": 125,
   "metadata": {},
   "outputs": [],
   "source": [
    "order time1c, last\n",
    "order time2c, last\n",
    "order time3c, last\n",
    "order time4c, last\n",
    "order time5c, last\n",
    "order time6c, last\n",
    "order time7c, last\n",
    "order time8c, last"
   ]
  },
  {
   "cell_type": "code",
   "execution_count": 130,
   "metadata": {},
   "outputs": [],
   "source": [
    "la var patid \"Patient ID based on identification data\"\n",
    "la var time1cl \"(Clean) Thời gian lấy mẫu\"\n",
    "la var time1d  \"(Clean) Ngày lấy mẫu\"\n",
    "la var time2cl \"(Clean) Thời gian nhận mẫu\"\n",
    "la var time2d  \"(Clean) Ngày nhận mẫu\"\n",
    "la var time3cl \"(Clean) Thời gian bắt đầu xét nghiệm\"\n",
    "la var time3d  \"(Clean) Ngày bắt đầu xét nghiệm\"\n",
    "la var time4cl \"(Clean) Thời gian kết thúc xét nghiệm\"\n",
    "la var time4d  \"(Clean) Ngày kết thúc xét nghiệm\"\n",
    "la var time5cl \"(Clean) Thời gian ban hành kết quả\"\n",
    "la var time5d  \"(Clean) Ngày ban hành kết quả\"\n",
    "la var time6cl \"(Clean) Thời gian nơi gửi nhận kết quả\"\n",
    "la var time6d  \"(Clean) Ngày nơi gửi nhận kết quả\"\n",
    "la var time7cl \"(Clean) Thời gian bác sĩ nhận kết quả\"\n",
    "la var time7d  \"(Clean) Ngày bác sĩ nhận kết quả\"\n",
    "la var time8cl \"(Clean) Thời gian BN vào điều trị\"\n",
    "la var time8d  \"(Clean) Ngày BN bắt đầu điều trị\""
   ]
  },
  {
   "cell_type": "code",
   "execution_count": 136,
   "metadata": {
    "collapsed": true
   },
   "outputs": [
    {
     "name": "stdout",
     "output_type": "stream",
     "text": [
      "\n",
      "\n",
      "(3,694 missing values generated)\n",
      "\n",
      "\n",
      "(2,329 real changes made)\n",
      "\n",
      "(791 real changes made)\n",
      "\n",
      "(574 real changes made)\n",
      "\n",
      "\n"
     ]
    }
   ],
   "source": [
    "cap drop sitegr\n",
    "gen sitegr = 1 if inlist(madieutra, 101, 102), a(madieutra)\n",
    "la var sitegr \"Phân loại điểm nghiên cứu\"\n",
    "replace sitegr = 2 if inlist(madieutra, 201, 202, 203, 204, 205, 206, 207, 208, 209, 210)\n",
    "replace sitegr = 3 if inlist(madieutra, 301, 302, 303, 304, 305, 306, 307, 308, 309, 310)\n",
    "replace sitegr = 4 if inlist(madieutra, 401, 402, 403, 404, 405, 406, 407, 408, 409, 410)\n",
    "la de sitegr 1 \"Highest\" 2 \"High\" 3 \"Medium\" 4 \"Low\", modify\n",
    "la val sitegr sitegr"
   ]
  },
  {
   "cell_type": "code",
   "execution_count": 138,
   "metadata": {
    "collapsed": true
   },
   "outputs": [
    {
     "name": "stdout",
     "output_type": "stream",
     "text": [
      "\n",
      "  variable patid was float now int\n",
      "  variable sitegr was float now byte\n",
      "  variable gender was float now byte\n",
      "  variable mtb was float now byte\n",
      "  variable rif was float now byte\n",
      "  variable time1d was float now int\n",
      "  variable time2d was float now int\n",
      "  variable time3d was float now int\n",
      "  variable time4d was float now int\n",
      "  variable time5d was float now int\n",
      "  variable time6d was float now int\n",
      "  variable time7d was float now int\n",
      "  variable id was float now int\n",
      "  variable checkage was float now byte\n",
      "  variable control was float now byte\n",
      "  variable time3chour was float now byte\n",
      "  variable headcheck was float now byte\n",
      "  variable t6headcheck was float now byte\n",
      "  variable htime7check was float now byte\n",
      "  variable time7dlen was float now byte\n",
      "  variable time8dlen was float now byte\n",
      "  variable mitime8dclean was float now byte\n",
      "  variable rsample was str68 now str67\n",
      "  variable time1 was str19 now str18\n",
      "  variable time2 was str22 now str18\n",
      "  variable time3 was str19 now str18\n",
      "  variable time4 was str23 now str19\n",
      "  variable time5 was str23 now str19\n",
      "  variable tuoitrecon was str4 now str3\n",
      "  variable time6clean was str23 now str20\n",
      "  variable t6check was str23 now str20\n",
      "  variable time7clean was str23 now str20\n",
      "  variable t8check was str77 now str49\n",
      "  variable time7dclean was str11 now str10\n",
      "  variable time1c was str12 now str8\n",
      "  variable time4c was str10 now str8\n",
      "  (808,119 bytes saved)\n",
      "\n",
      "file form4-20200522-combined.dta saved\n"
     ]
    }
   ],
   "source": [
    "compress\n",
    "save \"form4-20200522-combined.dta\", replace"
   ]
  },
  {
   "cell_type": "code",
   "execution_count": 326,
   "metadata": {
    "collapsed": true
   },
   "outputs": [
    {
     "name": "stdout",
     "output_type": "stream",
     "text": [
      "\n",
      "\n",
      "\n",
      "\n",
      "    Result                           # of obs.\n",
      "    -----------------------------------------\n",
      "    not matched                             0\n",
      "    matched                             6,907  \n",
      "    -----------------------------------------\n",
      "\n",
      "\n",
      "\n"
     ]
    }
   ],
   "source": [
    "use form4-20200522-combined.dta, clear\n",
    "ren madieutra siteid\n",
    "merge m:1 siteid using siteinfo.dta, nogen keep(1 3)\n",
    "order sitename, a(siteid)\n",
    "order prov, a(sitename)\n",
    "order ntplevel, a(sitegr)"
   ]
  },
  {
   "cell_type": "code",
   "execution_count": 148,
   "metadata": {
    "scrolled": true
   },
   "outputs": [],
   "source": [
    "local putres \"D:\\NTP\\GA-191231-GxAlert project\\. docs\\prelimilary_results.xlsx\""
   ]
  },
  {
   "cell_type": "code",
   "execution_count": null,
   "metadata": {},
   "outputs": [],
   "source": [
    "// Quality Indicators per site (see protocol 6.4)\n",
    "\n",
    "// Total number of test conducted per Xpert site, by TB risk group classification\n",
    "// Number of patients receiving at least one Xpert test, per Xpert site, by TB risk group classification\n",
    "// The number and proportion of:  MTB positive Xpert tests, RIF positive test results, by TB risk group classification\n",
    "// The number and proportion of: persons with Xpert MTB/RIF confirmed Rifampin resistant TB, by TB risk group classification\n",
    "// The number and proportion of error, invalid and “no result” test results\n",
    " \n",
    "\n",
    "// Turn around times:"
   ]
  },
  {
   "cell_type": "code",
   "execution_count": 340,
   "metadata": {
    "hide_input": false
   },
   "outputs": [],
   "source": [
    "la de siteid 101 \"Bệnh viện phổi Trung ương\" ///\n",
    "102 \"Bệnh viện Phạm Ngọc Thạch, tp HCM\" ///\n",
    "201 \"Bệnh viện lao và bệnh phổi Hải Phòng\" ///\n",
    "202 \"Bệnh viện phổi Nam Định\" ///\n",
    "203 \"Bệnh viện phổi Hưng Yên\" ///\n",
    "204 \"Bệnh viện Phạm Ngọc Thạch, Quảng Nam\" ///\n",
    "205 \"Bệnh viện lao và bệnh phổi Quảng Ngãi\" ///\n",
    "206 \"TTYT Quận 6 tp HCM\" ///\n",
    "207 \"Bệnh viện phổi Đồng Nai\" ///\n",
    "208 \"Bệnh viện 30-4 Sóc Trăng\" ///\n",
    "209 \"TTYTDP An Giang\" ///\n",
    "210 \"Bệnh viện lao và bệnh phổi Cần Thơ\" ///\n",
    "301 \"Bệnh viện đa khoa Ý Yên Nam Định\" ///\n",
    "302 \"Bệnh viện 74 Trung ương\" ///\n",
    "303 \"Bệnh viện phổi Thái Bình\" ///\n",
    "304 \"Bệnh viện chuyên khoa lao và bệnh phổi Quảng Trị\" ///\n",
    "306 \"TTYT Quận Hóc Môn, tp HCM\" ///\n",
    "307 \"Bệnh viện Nhi đồng 1, tp HCM\" ///\n",
    "308 \"TTYT thị xã Thuận An, tp HCM\" ///\n",
    "309 \"TTYT Trảng Bàng, Tây Ninh\" ///\n",
    "310 \"Bệnh viện lao và bệnh phổi Vĩnh Long\" ///\n",
    "401 \"Bệnh viện Bạch Mai\" ///\n",
    "402 \"Phòng khám đa khoa Linh Đàm, Hoàng Mai, Hà Nội\" ///\n",
    "403 \"Bệnh viện đa khoa Đông Hưng, Thái Bình\" ///\n",
    "404 \"TTKSBT Hoà Bình\" ///\n",
    "405 \"TTYT Hải Châu, Đà Nẵng\" ///\n",
    "406 \"Bệnh viện Đại học Y Dược, tp HCM\" ///\n",
    "407 \"TTYT Cai Lậy, Tiền Giang\" ///\n",
    "408 \"TTYT thị xã Hồng Ngự, Đồng Tháp\" ///\n",
    "409 \"TTYT Ba Tri, Bến Tre\" ///\n",
    "410 \"TTYT Vĩnh Châu, Sóc Trăng\" \n",
    "la val siteid siteid"
   ]
  },
  {
   "cell_type": "code",
   "execution_count": 159,
   "metadata": {
    "collapsed": true
   },
   "outputs": [
    {
     "name": "stdout",
     "output_type": "stream",
     "text": [
      "\n",
      "\n",
      "file D:\\NTP\\GA-191231-GxAlert project\\. docs\\prelimilary_results.xlsx saved\n"
     ]
    }
   ],
   "source": [
    "putexcel set \"`putres'\", sheet(Table1, replace) modify\n",
    "putexcel A1 = \"Total number of test conducted per Xpert site\", bold\n",
    "\n",
    "qui do \"D:\\Dropbox\\mywork\\codes\\. sources\\table2.ado\"\n",
    "table2, vars(siteid cat) one cformat(%2.1f) saving(\"`putres'\", sheet(Table1, modify) cell(A2))\n",
    "\n",
    "putexcel set \"`putres'\", sheet(Table2, replace) modify\n",
    "putexcel A1 = \"Number of patients receiving at least one Xpert test, per Xpert site\", bold\n",
    "\n",
    "preserve \n",
    "duplicates drop patid, force\n",
    "table2, vars(siteid cat) one cformat(%2.1f) saving(\"`putres'\", sheet(Table2, modify) cell(A2))\n",
    "restore"
   ]
  },
  {
   "cell_type": "code",
   "execution_count": 327,
   "metadata": {},
   "outputs": [],
   "source": [
    "gen mtbpos = mtb==1\n",
    "gen rifpos = rif==1"
   ]
  },
  {
   "cell_type": "code",
   "execution_count": 328,
   "metadata": {},
   "outputs": [],
   "source": [
    "// qui do \"D:\\Dropbox\\mywork\\codes\\. sources\\table5.do\"\n",
    "// table5, vars(sitegr cat) by(mtbpos) row\n",
    "// table2, vars(mtbpos cat) by(sitegr)\n",
    "la var mtbpos \"MTB positive\"\n",
    "la var rifpos \"RIF positive\"\n",
    "putexcel set \"`putres'\", sheet(Table3, replace) modify\n",
    "putexcel A1 = \"The number and proportion of:  MTB positive Xpert tests, RIF positive test results\", bold\n",
    "table5, vars(mtbpos bin\\rifpos bin) by(sitegr) one saving(\"`putres'\", sheet(Table3, modify) cell(A3))"
   ]
  },
  {
   "cell_type": "code",
   "execution_count": 179,
   "metadata": {
    "collapsed": true
   },
   "outputs": [
    {
     "name": "stdout",
     "output_type": "stream",
     "text": [
      "\n",
      "\n",
      "       MTB |     RIF positive\n",
      "  positive |         0          1 |     Total\n",
      "-----------+----------------------+----------\n",
      "         0 |     4,593          0 |     4,593 \n",
      "         1 |     2,153        161 |     2,314 \n",
      "-----------+----------------------+----------\n",
      "     Total |     6,746        161 |     6,907 \n",
      "\n",
      "\n",
      "      dupid |      Freq.     Percent        Cum.\n",
      "------------+-----------------------------------\n",
      "          0 |         99       61.49       61.49\n",
      "          1 |         60       37.27       98.76\n",
      "          2 |          2        1.24      100.00\n",
      "------------+-----------------------------------\n",
      "      Total |        161      100.00\n"
     ]
    }
   ],
   "source": [
    "tab mtbpos rifpos\n",
    "tab dupid if 1.mtbpos & 1.rifpos\n",
    "\n",
    "preserve\n",
    "keep if mtbpos & rifpos\n",
    "duplicates drop patid, force\n",
    "table5, vars(siteid cat) one saving(\"`putres'\", sheet(Table3, modify) cell(A10))\n",
    "restore\n",
    "\n",
    "// The number and proportion of error, invalid and “no result” test results\n",
    "putexcel set \"`putres'\", sheet(Table4, replace) modify\n",
    "putexcel A1 = \"The number and proportion of:  MTB positive Xpert tests, RIF positive test resultsThe number and proportion of error, invalid and “no result” test results\", bold\n",
    "table5, vars(mtb cat) by(sitegr) one saving(\"`putres'\", sheet(Table4, modify) cell(A2))"
   ]
  },
  {
   "cell_type": "markdown",
   "metadata": {},
   "source": [
    "## Tính toán thời gian turn around time\n",
    "\n",
    "là khoảng thời gian từ time2 đến time7"
   ]
  },
  {
   "cell_type": "code",
   "execution_count": 329,
   "metadata": {
    "collapsed": true
   },
   "outputs": [
    {
     "name": "stdout",
     "output_type": "stream",
     "text": [
      "\n",
      "\n",
      "                                        ---------- difference ----------\n",
      "                            count       minimum      average     maximum\n",
      "------------------------------------------------------------------------\n",
      "time2d<time7d                2737         -3654    -7.611619          -1\n",
      "time2d=time7d                3645\n",
      "time2d>time7d                 128             1     151.8594        3652\n",
      "                       ----------\n",
      "jointly defined              6510         -3654    -.2142857        3652\n",
      "time7d missing only           379\n",
      "jointly missing                18\n",
      "                       ----------\n",
      "total                        6907\n",
      "\n",
      "\n",
      "       BS có kết quả |      Freq.     Percent        Cum.\n",
      "------------------------+-----------------------------------\n",
      "        10/14/2019 3:59 |          6        2.75        2.75\n",
      "        10/14/2019 8:00 |         13        5.96        8.72\n",
      "        10/16/2019 2:00 |         12        5.50       14.22\n",
      "        10/17/2019 8:00 |          4        1.83       16.06\n",
      "                  10:40 |         16        7.34       23.39\n",
      "                  10:45 |          1        0.46       23.85\n",
      "                    10h |          1        0.46       24.31\n",
      "                  12h34 |          1        0.46       24.77\n",
      "                   7h30 |          3        1.38       26.15\n",
      "                   7h35 |          1        0.46       26.61\n",
      "                   7h45 |          3        1.38       27.98\n",
      "                     8h |          3        1.38       29.36\n",
      "         9/18/2019 3:00 |          8        3.67       33.03\n",
      "         9/19/2019 2:29 |          5        2.29       35.32\n",
      "         9/19/2019 3:10 |          2        0.92       36.24\n",
      "         9/19/2019 3:59 |          4        1.83       38.07\n",
      "         9/19/2019 6:00 |          5        2.29       40.37\n",
      "         9/20/2019 3:30 |          2        0.92       41.28\n",
      "         9/20/2019 4:30 |         16        7.34       48.62\n",
      "         9/22/2019 4:30 |          4        1.83       50.46\n",
      "         9/23/2019 2:00 |          4        1.83       52.29\n",
      "         9/24/2019 2:00 |          6        2.75       55.05\n",
      "         9/24/2019 3:40 |          1        0.46       55.50\n",
      "         9/24/2019 8:00 |          7        3.21       58.72\n",
      "         9/25/2019 2:00 |          1        0.46       59.17\n",
      "         9/25/2019 3:00 |         25       11.47       70.64\n",
      "         9/25/2019 3:35 |          5        2.29       72.94\n",
      "         9/25/2019 8:00 |         10        4.59       77.52\n",
      "         9/26/2019 2:00 |          8        3.67       81.19\n",
      "         9/26/2019 4:30 |          5        2.29       83.49\n",
      "         9/26/2019 8:00 |         13        5.96       89.45\n",
      "         9/27/2019 2:00 |          1        0.46       89.91\n",
      "         9/27/2019 3:00 |          2        0.92       90.83\n",
      "         9/28/2019 8:00 |         14        6.42       97.25\n",
      "         9/30/2019 2:00 |          4        1.83       99.08\n",
      "                      K |          2        0.92      100.00\n",
      "------------------------+-----------------------------------\n",
      "                  Total |        218      100.00\n",
      "\n",
      "\n",
      "(6,720 missing values generated)\n",
      "\n",
      "\n",
      "\n",
      "time7cl_las |\n",
      "          t |      Freq.     Percent        Cum.\n",
      "------------+-----------------------------------\n",
      "  18sep20.. |          8        4.28        4.28\n",
      "  19sep20.. |          5        2.67        6.95\n",
      "  19sep20.. |          2        1.07        8.02\n",
      "  19sep20.. |          4        2.14       10.16\n",
      "  19sep20.. |          5        2.67       12.83\n",
      "  20sep20.. |          2        1.07       13.90\n",
      "  20sep20.. |         16        8.56       22.46\n",
      "  22sep20.. |          4        2.14       24.60\n",
      "  23sep20.. |          4        2.14       26.74\n",
      "  24sep20.. |          6        3.21       29.95\n",
      "  24sep20.. |          1        0.53       30.48\n",
      "  24sep20.. |          7        3.74       34.22\n",
      "  25sep20.. |          1        0.53       34.76\n",
      "  25sep20.. |         25       13.37       48.13\n",
      "  25sep20.. |          5        2.67       50.80\n",
      "  25sep20.. |         10        5.35       56.15\n",
      "  26sep20.. |          8        4.28       60.43\n",
      "  26sep20.. |          5        2.67       63.10\n",
      "  26sep20.. |         13        6.95       70.05\n",
      "  27sep20.. |          1        0.53       70.59\n",
      "  27sep20.. |          2        1.07       71.66\n",
      "  28sep20.. |         14        7.49       79.14\n",
      "  30sep20.. |          4        2.14       81.28\n",
      "  14oct20.. |          6        3.21       84.49\n",
      "  14oct20.. |         13        6.95       91.44\n",
      "  16oct20.. |         12        6.42       97.86\n",
      "  17oct20.. |          4        2.14      100.00\n",
      "------------+-----------------------------------\n",
      "      Total |        187      100.00\n",
      "\n",
      "(187 real changes made)\n",
      "\n",
      "(187 real changes made)\n",
      "\n",
      "\n",
      "                                        ---------- difference ----------\n",
      "                            count       minimum      average     maximum\n",
      "------------------------------------------------------------------------\n",
      "time2d<time7d                2866         -3654    -7.353803          -1\n",
      "time2d=time7d                3703\n",
      "time2d>time7d                 128             1     151.8594        3652\n",
      "                       ----------\n",
      "jointly defined              6697         -3654    -.2445871        3652\n",
      "time7d missing only           192\n",
      "jointly missing                18\n",
      "                       ----------\n",
      "total                        6907\n",
      "\n",
      "\n",
      "       BS có kết quả |      Freq.     Percent        Cum.\n",
      "------------------------+-----------------------------------\n",
      "                    10h |          1        7.14        7.14\n",
      "                  12h34 |          1        7.14       14.29\n",
      "                   7h30 |          3       21.43       35.71\n",
      "                   7h35 |          1        7.14       42.86\n",
      "                   7h45 |          3       21.43       64.29\n",
      "                     8h |          3       21.43       85.71\n",
      "                      K |          2       14.29      100.00\n",
      "------------------------+-----------------------------------\n",
      "                  Total |         14      100.00\n",
      "\n"
     ]
    }
   ],
   "source": [
    "compare time2d time7d\n",
    "\n",
    "tab time7 if mi(time7d)\n",
    "cap drop time7cl_last\n",
    "gen time7cl_last = clock(time7, \"MDY hm\") if mi(time7d) & ~mi(time7)\n",
    "format time7cl_last %tC\n",
    "tab time7cl_last\n",
    "\n",
    "replace time7d = dofc(time7cl_last) if mi(time7d) & ~mi(time7cl_last)\n",
    "replace time7cl = time7cl_last if mi(time7cl) & !mi(time7cl_last)\n",
    "\n",
    "compare time2d time7d\n",
    "tab time7 if mi(time7d) & !mi(time2d)\n",
    "drop time3chour time4 time5dcheckmonth time5dclean time6clean time6dcheckmonth time6dclean time7clean time7dlen time7dcheckmonth ///\n",
    "time7dclean time7cl_last time8clean time8dlen time8dcheckmonth time8dclean"
   ]
  },
  {
   "cell_type": "code",
   "execution_count": 214,
   "metadata": {},
   "outputs": [],
   "source": [
    "// Per site: number of tests conducted, mean turn around time (TAT) with 95% CI\n",
    "// Per site: for each person diagnosed with bac+TB based on the Xpert result\n",
    "// For Drug Sensitive TB: number, mean Time to Treatment Initiation (TTI) with 95% CI\n",
    "//  i.      Proportion of persons with a time to treatment initiation <=7 days\n",
    "\n",
    "// For Drug Resistant TB: number, mean Time to Treatment Initiation with a second line drug regimen (if available) with 95% CI\n",
    "//  i.      Proportion of persons with time to treatment initiation <=7 days"
   ]
  },
  {
   "cell_type": "code",
   "execution_count": 330,
   "metadata": {
    "collapsed": true
   },
   "outputs": [
    {
     "name": "stdout",
     "output_type": "stream",
     "text": [
      "\n",
      "\n",
      "      +---------------------------+\n",
      "      | patid     id       time7d |\n",
      "      |---------------------------|\n",
      "6842. |  6238   6867   08/10/2029 |\n",
      "6844. |  6240   6866   08/10/2029 |\n",
      "6850. |  6246   6865   03/10/2029 |\n",
      "6857. |  6253   6882   09/10/2029 |\n",
      "      +---------------------------+\n",
      "\n",
      "(1 real change made)\n",
      "\n",
      "(1 real change made)\n",
      "\n",
      "(1 real change made)\n",
      "\n",
      "(1 real change made)\n",
      "\n",
      "\n",
      "      +--------------------+\n",
      "      |            time7cl |\n",
      "      |--------------------|\n",
      "6842. | 08oct2029 09:58:09 |\n",
      "6844. | 08oct2029 09:58:09 |\n",
      "6850. | 03oct2029 14:20:05 |\n",
      "6857. | 09oct2029 14:00:15 |\n",
      "      +--------------------+\n",
      "\n",
      "(1 real change made)\n",
      "\n",
      "(1 real change made)\n",
      "\n",
      "(1 real change made)\n",
      "\n",
      "(1 real change made)\n",
      "\n",
      "(1 real change made)\n",
      "\n",
      "(1 real change made)\n",
      "\n",
      "(1 real change made)\n",
      "\n",
      "(1 real change made)\n",
      "\n",
      "(1 real change made)\n",
      "\n",
      "(1 real change made)\n",
      "\n",
      "(1 real change made)\n",
      "\n",
      "(1 real change made)\n",
      "\n",
      "(2 real changes made)\n",
      "\n",
      "(1 real change made)\n",
      "\n",
      "(2 real changes made)\n",
      "\n",
      "(1 real change made)\n"
     ]
    }
   ],
   "source": [
    "list patid id time7d if year(time7d)==2029\n",
    "replace time7d = d(08oct2019) if id==6867\n",
    "replace time7d = d(08oct2019) if id==6866\n",
    "replace time7d = d(03oct2019) if id==6865\n",
    "replace time7d = d(09oct2019) if id==6882\n",
    "\n",
    "list time7cl if inlist(id, 6867, 6866, 6865, 6882)\n",
    "replace time7cl = dhms(d(08oct2019), 9, 58, 9) if id==6867\n",
    "replace time7cl = dhms(d(08oct2019), 9, 58, 9) if id==6866\n",
    "replace time7cl = dhms(d(03oct2019), 14,20, 5) if id==6865\n",
    "replace time7cl = dhms(d(09oct2019), 14, 0,15) if id==6882\n",
    "\n",
    "replace time2d = d(09oct2019) if id==3514\n",
    "replace time2cl = dhms(d(09oct2019), 14,51,13) if id==3514\n",
    "replace time2d = d(09oct2019) if id==3515\n",
    "replace time2cl = dhms(d(09oct2019), 15,28,44) if id==3515\n",
    "replace time2d = d(16oct2019) if id==638\n",
    "replace time2cl = dhms(d(16oct2019),16,0,0) if id==638\n",
    "replace time2d = d(27sep2019) if id==326\n",
    "replace time2cl = dhms(d(27sep2019),8,30,0) if id==326\n",
    "\n",
    "replace time7d = d(18sep2019) if id==1117 | id==1118\n",
    "replace time2d = d(26sep2019) if id==271\n",
    "\n",
    "replace time7cl = dhms(d(18sep2019), 14,10,0) if id==1117 | id==1118\n",
    "replace time2cl = dhms(d(26sep2019), 7,48, 0) if id==271"
   ]
  },
  {
   "cell_type": "code",
   "execution_count": 331,
   "metadata": {
    "collapsed": true
   },
   "outputs": [
    {
     "name": "stdout",
     "output_type": "stream",
     "text": [
      "\n",
      "\n",
      "(210 missing values generated)\n",
      "\n",
      "(128 real changes made, 128 to missing)\n",
      "\n",
      "\n",
      "  +------------------------------------------------------------------------------------------------------------+\n",
      "  |           time1              time2               time7       time1d       time2d       time7d   tat     id |\n",
      "  |------------------------------------------------------------------------------------------------------------|\n",
      "  | 6:00/ 4-10-2019   11:00/ 4-10-2019   10:45/ 16-10-2019   04/10/2019   04/10/2019   16/10/2019    12   1267 |\n",
      "  | 9:00/ 4-10-2019   11:00/ 4-10-2019   10:45/ 16-10-2019   04/10/2019   04/10/2019   16/10/2019    12   1261 |\n",
      "  | 7:00/ 4-10-2019   11:00/ 4-10-2019   10:45/ 16-10-2019   04/10/2019   04/10/2019   16/10/2019    12   1259 |\n",
      "  | 8:00/ 4-10-2019   11:00/ 4-10-2019   10:45/ 16-10-2019   04/10/2019   04/10/2019   16/10/2019    12   1265 |\n",
      "  | 6:00/ 4-10-2019   11:00/ 4-10-2019   10:45/ 16-10-2019   04/10/2019   04/10/2019   16/10/2019    12   1260 |\n",
      "  |------------------------------------------------------------------------------------------------------------|\n",
      "  | 7:00/ 4-10-2019   11:00/ 4-10-2019   10:45/ 16-10-2019   04/10/2019   04/10/2019   16/10/2019    12   1266 |\n",
      "  | 8:30/ 4-10-2019   11:00/ 4-10-2019   10:45/ 16-10-2019   04/10/2019   04/10/2019   16/10/2019    12   1258 |\n",
      "  |    8h30 (08/10)       8h30 (09/10)         10h (05/11)   08/10/2019   09/10/2019   05/11/2019    27   1674 |\n",
      "  |    10h30 (25/9)       13h30 (25/9)         10h (07/10)   25/09/2019   25/09/2019   07/10/2019    12   1601 |\n",
      "  |       9h (27/9)      10h30 (03/10)         10h (05/11)   27/09/2019   03/10/2019   05/11/2019    33   1645 |\n",
      "  |------------------------------------------------------------------------------------------------------------|\n",
      "  |      10h (16/9)       10h15 (18/9)         10h (07/10)   16/09/2019   18/09/2019   07/10/2019    19   1562 |\n",
      "  |      16h (20/9)         10h (24/9)         10h (07/10)   20/09/2019   24/09/2019   07/10/2019    13   1596 |\n",
      "  |   10h45 (08/10)       8h30 (09/10)         10h (05/11)   08/10/2019   09/10/2019   05/11/2019    27   1675 |\n",
      "  |      14h (13/9)       10h15 (18/9)         10h (07/10)   13/09/2019   18/09/2019   07/10/2019    19   1563 |\n",
      "  |      8h (08/10)       8h30 (09/10)         10h (05/11)   08/10/2019   09/10/2019   05/11/2019    27   1673 |\n",
      "  |------------------------------------------------------------------------------------------------------------|\n",
      "  |      8h (08/10)       8h30 (09/10)         10h (05/11)   08/10/2019   09/10/2019   05/11/2019    27   1672 |\n",
      "  |      10h (23/9)         10h (24/9)         10h (07/10)   23/09/2019   24/09/2019   07/10/2019    13   1594 |\n",
      "  |      16h (20/9)         10h (24/9)         10h (07/10)   20/09/2019   24/09/2019   07/10/2019    13   1593 |\n",
      "  |      14h (25/9)      10h30 (03/10)         10h (05/11)   25/09/2019   03/10/2019   05/11/2019    33   1646 |\n",
      "  |     7h30 (23/9)         10h (24/9)         10h (07/10)   23/09/2019   24/09/2019   07/10/2019    13   1595 |\n",
      "  |------------------------------------------------------------------------------------------------------------|\n",
      "  |     8h30 (23/9)       16h25 (24/9)         10h (07/10)   23/09/2019   24/09/2019   07/10/2019    13   1600 |\n",
      "  +------------------------------------------------------------------------------------------------------------+\n"
     ]
    }
   ],
   "source": [
    "cap drop tat\n",
    "gen tat = time7d - time2d\n",
    "replace tat = . if time2d>time7d & time2d!=.\n",
    "\n",
    "list time1 time2 time7 time1d time2d time7d tat id if tat>10 & !mi(tat), noobs"
   ]
  },
  {
   "cell_type": "code",
   "execution_count": 303,
   "metadata": {
    "collapsed": true
   },
   "outputs": [],
   "source": [
    "putexcel set \"`putres'\", sheet(Table5, replace) modify\n",
    "\n",
    "qui mean tat, over(siteid)\n",
    "qui mat A = r(table)\n",
    "mat B = A'\n",
    "\n",
    "mat C = B[1..29,\"b\"]\n",
    "mat D = B[1..29,\"ll\"..\"ul\"]\n",
    "\n",
    "putexcel A2 = matrix(C), names\n",
    "putexcel D2 = matrix(D)"
   ]
  },
  {
   "cell_type": "code",
   "execution_count": 332,
   "metadata": {},
   "outputs": [
    {
     "name": "stdout",
     "output_type": "stream",
     "text": [
      "\n",
      "        tat |      Freq.     Percent        Cum.\n",
      "------------+-----------------------------------\n",
      "          0 |        126       86.30       86.30\n",
      "          . |         20       13.70      100.00\n",
      "------------+-----------------------------------\n",
      "      Total |        146      100.00\n"
     ]
    }
   ],
   "source": [
    "tab tat if inlist(siteid, 301, 306, 402, 405, 408, 409), m\n",
    "\n",
    "cap drop tat_hour\n",
    "gen tat_hour = time7cl - time2cl\n",
    "replace tat_hour = tat_hour/3600000\n",
    "mean tat_hour if inlist(siteid, 301, 306, 402, 405, 408, 409), over(siteid)\n",
    "\n",
    "tab tat_hour if siteid==409\n",
    "list time2 time7 time2d time7d tat id if siteid==409 & tat_hour<0"
   ]
  },
  {
   "cell_type": "code",
   "execution_count": 334,
   "metadata": {
    "collapsed": true
   },
   "outputs": [
    {
     "name": "stdout",
     "output_type": "stream",
     "text": [
      "\n",
      "(1 real change made)\n",
      "\n",
      "\n",
      "(968 missing values generated)\n",
      "\n",
      "(5,938 real changes made)\n",
      "\n",
      "(1 real change made, 1 to missing)\n",
      "\n",
      "\n",
      "Mean estimation                   Number of obs   =         79\n",
      "\n",
      "          301: siteid = 301\n",
      "          306: siteid = 306\n",
      "          402: siteid = 402\n",
      "          405: siteid = 405\n",
      "          409: siteid = 409\n",
      "\n",
      "--------------------------------------------------------------\n",
      "        Over |       Mean   Std. Err.     [95% Conf. Interval]\n",
      "-------------+------------------------------------------------\n",
      "tat_hour     |\n",
      "         301 |   4.685369   .8334026      3.026192    6.344546\n",
      "         306 |   2.866906    .086109      2.695477    3.038336\n",
      "         402 |   4.150613     .62054      2.915213    5.386014\n",
      "         405 |   5.534151   .2478303      5.040759    6.027543\n",
      "         409 |   4.319655   .1278794      4.065066    4.574243\n",
      "--------------------------------------------------------------\n"
     ]
    }
   ],
   "source": [
    "replace time7cl = dhms(d(02oct2019), 13,5,0) if id==2416\n",
    "cap drop tat_hour\n",
    "gen tat_hour = time7cl - time2cl\n",
    "replace tat_hour = tat_hour/3600000\n",
    "replace tat_hour = . if id==2413\n",
    "mean tat_hour if inlist(siteid, 301, 306, 402, 405, 408, 409), over(siteid)"
   ]
  },
  {
   "cell_type": "code",
   "execution_count": 335,
   "metadata": {
    "collapsed": true
   },
   "outputs": [
    {
     "name": "stdout",
     "output_type": "stream",
     "text": [
      "\n",
      "\n",
      "\n",
      "A[9,5]\n",
      "         tat_hour:  tat_hour:  tat_hour:  tat_hour:  tat_hour:\n",
      "              301        306        402        405        409\n",
      "     b  4.6853689  2.8669064  4.1506133  5.5341511  4.3196546\n",
      "    se  .83340256  .08610898  .62054005  .24783027   .1278794\n",
      "     t  5.6219756  33.293931  6.6887114  22.330408  33.779127\n",
      "pvalue  2.819e-07  7.317e-48  3.062e-09  1.263e-35  2.545e-48\n",
      "    ll  3.0261918  2.6954765   2.915213  5.0407589  4.0650663\n",
      "    ul  6.3445459  3.0383362  5.3860136  6.0275432   4.574243\n",
      "    df         78         78         78         78         78\n",
      "  crit  1.9908471  1.9908471  1.9908471  1.9908471  1.9908471\n",
      " eform          0          0          0          0          0\n"
     ]
    }
   ],
   "source": [
    "mat A = r(table)"
   ]
  },
  {
   "cell_type": "code",
   "execution_count": 338,
   "metadata": {
    "collapsed": true
   },
   "outputs": [
    {
     "name": "stdout",
     "output_type": "stream",
     "text": [
      "\n",
      "\n",
      ". putexcel G2 = matrix(C), names\n",
      "file D:\\NTP\\GA-191231-GxAlert project\\. docs\\prelimilary_results.xlsx saved\n",
      "\n",
      ". putexcel K2 = matrix(D)\n",
      "file D:\\NTP\\GA-191231-GxAlert project\\. docs\\prelimilary_results.xlsx saved\n"
     ]
    }
   ],
   "source": [
    "qui {\n",
    "    mat B = A'\n",
    "    mat C = B[1..5,\"b\"]\n",
    "    mat D = B[1..5,\"ll\"..\"ul\"]\n",
    "}\n",
    "\n",
    "putexcel G2 = matrix(C), names\n",
    "putexcel K2 = matrix(D)"
   ]
  },
  {
   "cell_type": "code",
   "execution_count": 349,
   "metadata": {
    "collapsed": true
   },
   "outputs": [
    {
     "name": "stdout",
     "output_type": "stream",
     "text": [
      "\n",
      "\n",
      "\n",
      "\n",
      "       dstb |      Freq.     Percent        Cum.\n",
      "------------+-----------------------------------\n",
      "          0 |      4,754       68.83       68.83\n",
      "          1 |      2,153       31.17      100.00\n",
      "------------+-----------------------------------\n",
      "      Total |      6,907      100.00\n",
      "\n",
      "\n",
      "   (Clean) |\n",
      "     Xpert |          (Clean) Xpert result Rif\n",
      "result MTB |      0.NO       1.RR  2.Indeter          . |     Total\n",
      "-----------+--------------------------------------------+----------\n",
      "0.negative |         0          0          0      4,395 |     4,395 \n",
      "1.positive |     2,095        161         58          0 |     2,314 \n",
      "   2.trace |         0          0        141          0 |       141 \n",
      "   3.ERROR |         0          0          0         35 |        35 \n",
      " 9.Unknown |         0          0          0         12 |        12 \n",
      "         . |         0          0          0         10 |        10 \n",
      "-----------+--------------------------------------------+----------\n",
      "     Total |     2,095        161        199      4,452 |     6,907 \n",
      "\n",
      "(10 real changes made, 10 to missing)\n",
      "\n",
      "\n",
      "\n",
      "(10 real changes made, 10 to missing)\n"
     ]
    }
   ],
   "source": [
    "cap drop dstb\n",
    "gen dstb = (mtb==1 & rif!=1)\n",
    "tab dstb, m\n",
    "tab mtb rif, m\n",
    "replace dstb = . if mi(mtb)\n",
    "\n",
    "cap drop mdrtb\n",
    "gen mdrtb = (mtbpos & rifpos)\n",
    "replace mdrtb = . if mi(mtb)"
   ]
  },
  {
   "cell_type": "markdown",
   "metadata": {},
   "source": [
    "## Thời gian BN bắt đầu vào điều trị "
   ]
  },
  {
   "cell_type": "code",
   "execution_count": 356,
   "metadata": {},
   "outputs": [
    {
     "name": "stdout",
     "output_type": "stream",
     "text": [
      "\n",
      "\n",
      "\n",
      "-------------------------------------------------------------------------------------------------------------------------------\n",
      "time8d                                                                                         (Clean) Ngày BN bắt đầu điều trị\n",
      "-------------------------------------------------------------------------------------------------------------------------------\n",
      "\n",
      "                  type:  numeric daily date (float)\n",
      "\n",
      "                 range:  [20830,54711]                units:  1\n",
      "       or equivalently:  [11jan2017,17oct2109]        units:  days\n",
      "         unique values:  90                       missing .:  1,240/2,314\n",
      "\n",
      "                  mean:   21851.3 = 29oct2019 (+ 6 hours)\n",
      "              std. dev:   1004.35\n",
      "\n",
      "           percentiles:        10%       25%       50%       75%       90%\n",
      "                             21810     21816     21824     21833     21838\n",
      "                         18sep2019 24sep2019 02oct2019 11oct2019 16oct2019\n"
     ]
    }
   ],
   "source": [
    "gen maclao = mtb==1\n",
    "codebook time8d if maclao"
   ]
  },
  {
   "cell_type": "code",
   "execution_count": 394,
   "metadata": {},
   "outputs": [
    {
     "name": "stdout",
     "output_type": "stream",
     "text": [
      "\n",
      "                    BN được điều trị |      Freq.     Percent        Cum.\n",
      "----------------------------------------+-----------------------------------\n",
      "                                  ko có |         16       34.04       34.04\n",
      "                                      K |          4        8.51       42.55\n",
      "                                  14g50 |          2        4.26       46.81\n",
      "                 BN chưa về ĐP thu dung |          2        4.26       51.06\n",
      "                              Chuyển TƯ |          2        4.26       55.32\n",
      "                           09:00 115/10 |          1        2.13       57.45\n",
      "                                  13:30 |          1        2.13       59.57\n",
      "                                  14:00 |          1        2.13       61.70\n",
      "                                  14:10 |          1        2.13       63.83\n",
      "                                  14:15 |          1        2.13       65.96\n",
      "                                  14:17 |          1        2.13       68.09\n",
      "                                  14:20 |          1        2.13       70.21\n",
      "                                  14:21 |          1        2.13       72.34\n",
      "                                  14:25 |          1        2.13       74.47\n",
      "                                  14g55 |          1        2.13       76.60\n",
      "                                  15:00 |          1        2.13       78.72\n",
      "                                  15g45 |          1        2.13       80.85\n",
      "                                   7h25 |          1        2.13       82.98\n",
      "              Bệnh Nhân xin điều trị tư |          1        2.13       85.11\n",
      "                          Chưa điều trị |          1        2.13       87.23\n",
      "                      Chưa điều trị lao |          1        2.13       89.36\n",
      "Hỏi đề biết \n",
      "ngày người \n",
      "bệnh được \n",
      "đ.. |          1        2.13       91.49\n",
      "                                  Không |          1        2.13       93.62\n",
      "                         Không điều trị |          1        2.13       95.74\n",
      "                              TD lao TP |          1        2.13       97.87\n",
      "                   Td laocũ ko điều trị |          1        2.13      100.00\n",
      "----------------------------------------+-----------------------------------\n",
      "                                  Total |         47      100.00\n"
     ]
    }
   ],
   "source": [
    "// tab time8 if mi(time8d) & maclao & regexm(time8, \"(^[0-9]+)/([0-9]+)/([0-9]+$)\")\n",
    "// replace time8d = mdy(real(regexs(1)), real(regexs(2)), real(regexs(3))) if mi(time8d) & maclao & regexm(time8, \"(^[0-9]+)/([0-9]+)/([0-9]+$)\")\n",
    "tab time8 if mi(time8d) & maclao, sort\n",
    "\n",
    "// tab time8 if mi(time8d) & maclao & regexm(time8, \",([0-9]+)/([0-9]+)/([0-9]+$)\")\n",
    "// replace time8d = mdy(real(regexs(2)), real(regexs(1)), real(\"20\" + regexs(3))) /// \n",
    "// if mi(time8d) & maclao & regexm(time8, \",([0-9]+)/([0-9]+)/([0-9]+$)\")\n",
    "\n",
    "// tab time8 if mi(time8d) & maclao & regexm(time8, \"\\(+([0-9]+)/([0-9])+\\)+$\")\n",
    "// replace time8d = mdy(real(regexs(2)), real(regexs(1)), 2019) if mi(time8d) & maclao & regexm(time8, \"\\(+([0-9]+)/([0-9]+)\\)+$\")\n",
    "// tab time8 if mi(time8d) & maclao & regexm(time8, \"00/([0-9]+$)\")"
   ]
  },
  {
   "cell_type": "code",
   "execution_count": 393,
   "metadata": {},
   "outputs": [
    {
     "name": "stdout",
     "output_type": "stream",
     "text": [
      "(1 real change made)\n"
     ]
    }
   ],
   "source": [
    "// replace time8d = mdy(9,24,2019) if mi(time8d) & maclao & time8==\"7h00/24\"\n",
    "// replace time8d = mdy(10, real(regexs(1)), 2019) if mi(time8d) & maclao & regexm(time8, \"00/([0-9]+$)\")\n",
    "// replace time8d = mdy(9, 19, 2019) if mi(time8d) & maclao & time8==\"9/19/2019 3:59\""
   ]
  },
  {
   "cell_type": "code",
   "execution_count": 397,
   "metadata": {
    "collapsed": true
   },
   "outputs": [
    {
     "name": "stdout",
     "output_type": "stream",
     "text": [
      "\n",
      "\n",
      "                    BN được điều trị |      Freq.     Percent        Cum.\n",
      "----------------------------------------+-----------------------------------\n",
      "                           09:00 115/10 |          1        2.13        2.13\n",
      "                                  13:30 |          1        2.13        4.26\n",
      "                                  14:00 |          1        2.13        6.38\n",
      "                                  14:10 |          1        2.13        8.51\n",
      "                                  14:15 |          1        2.13       10.64\n",
      "                                  14:17 |          1        2.13       12.77\n",
      "                                  14:20 |          1        2.13       14.89\n",
      "                                  14:21 |          1        2.13       17.02\n",
      "                                  14:25 |          1        2.13       19.15\n",
      "                                  14g50 |          2        4.26       23.40\n",
      "                                  14g55 |          1        2.13       25.53\n",
      "                                  15:00 |          1        2.13       27.66\n",
      "                                  15g45 |          1        2.13       29.79\n",
      "                                   7h25 |          1        2.13       31.91\n",
      "                 BN chưa về ĐP thu dung |          2        4.26       36.17\n",
      "              Bệnh Nhân xin điều trị tư |          1        2.13       38.30\n",
      "                              Chuyển TƯ |          2        4.26       42.55\n",
      "                          Chưa điều trị |          1        2.13       44.68\n",
      "                      Chưa điều trị lao |          1        2.13       46.81\n",
      "Hỏi đề biết \n",
      "ngày người \n",
      "bệnh được \n",
      "đ.. |          1        2.13       48.94\n",
      "                                      K |          4        8.51       57.45\n",
      "                                  Không |          1        2.13       59.57\n",
      "                         Không điều trị |          1        2.13       61.70\n",
      "                              TD lao TP |          1        2.13       63.83\n",
      "                   Td laocũ ko điều trị |          1        2.13       65.96\n",
      "                                  ko có |         16       34.04      100.00\n",
      "----------------------------------------+-----------------------------------\n",
      "                                  Total |         47      100.00\n",
      "\n"
     ]
    }
   ],
   "source": [
    "// tab time8 if mi(time8d) & maclao\n",
    "// br time1 time7 time8 if !maclao"
   ]
  },
  {
   "cell_type": "code",
   "execution_count": 399,
   "metadata": {},
   "outputs": [
    {
     "name": "stdout",
     "output_type": "stream",
     "text": [
      "\n",
      "                                        ---------- difference ----------\n",
      "                            count       minimum      average     maximum\n",
      "------------------------------------------------------------------------\n",
      "time7d<time8d                 449        -32873    -80.59911          -1\n",
      "time7d=time8d                 369\n",
      "time7d>time8d                 283             1     21.49117         988\n",
      "                       ----------\n",
      "jointly defined              1101        -32873    -27.34514         988\n",
      "time7d missing only             9\n",
      "time8d missing only          1185\n",
      "jointly missing                19\n",
      "                       ----------\n",
      "total                        2314\n"
     ]
    }
   ],
   "source": [
    "compare time7d time8d if maclao"
   ]
  },
  {
   "cell_type": "code",
   "execution_count": 398,
   "metadata": {},
   "outputs": [
    {
     "name": "stdout",
     "output_type": "stream",
     "text": [
      "\n",
      "   (Clean) |\n",
      "     Xpert |     (Clean) Xpert result Rif\n",
      "result MTB |      0.NO       1.RR  2.Indeter |     Total\n",
      "-----------+---------------------------------+----------\n",
      "1.positive |     2,095        161         58 |     2,314 \n",
      "-----------+---------------------------------+----------\n",
      "     Total |     2,095        161         58 |     2,314 \n"
     ]
    }
   ],
   "source": [
    "cap drop tti\n",
    "gen tti = time8d - time7d"
   ]
  },
  {
   "cell_type": "code",
   "execution_count": 401,
   "metadata": {},
   "outputs": [
    {
     "name": "stdout",
     "output_type": "stream",
     "text": [
      "\n",
      "  560\n",
      "\n",
      "\n",
      "                    BN được điều trị |      Freq.     Percent        Cum.\n",
      "----------------------------------------+-----------------------------------\n",
      "                                   06/8 |          1        0.18        0.18\n",
      "                     07oct2019 09:00:00 |          2        0.36        0.54\n",
      "                      08:40/ 01-10-2019 |          1        0.18        0.71\n",
      "                     08oct2019 09:00:00 |          1        0.18        0.89\n",
      "                            09:00 02/10 |          1        0.18        1.07\n",
      "                            09:00 07/10 |          1        0.18        1.25\n",
      "                            09:00 10/10 |          1        0.18        1.43\n",
      "                            09:00 11/10 |          2        0.36        1.79\n",
      "                            09:00 16/10 |          1        0.18        1.96\n",
      "                            09:00 18/09 |          1        0.18        2.14\n",
      "                            09:00 20/08 |          1        0.18        2.32\n",
      "                            09:00 23/09 |          1        0.18        2.50\n",
      "                            09:00 28/09 |          1        0.18        2.68\n",
      "                     09sep2019 09:00:00 |          1        0.18        2.86\n",
      "                              1/10/2019 |          1        0.18        3.04\n",
      "                               1/8/2019 |          1        0.18        3.21\n",
      "                                  10/10 |          1        0.18        3.39\n",
      "                       10/11/2019 12:00 |          1        0.18        3.57\n",
      "                        10/12/2019 8:00 |          1        0.18        3.75\n",
      "                              10/2/2019 |          1        0.18        3.93\n",
      "                        10/23/2019 8:00 |          1        0.18        4.11\n",
      "                              10/3/2019 |          1        0.18        4.29\n",
      "                              10/8/2019 |          1        0.18        4.46\n",
      "                                   10/9 |          1        0.18        4.64\n",
      "                              10/9/2019 |          1        0.18        4.82\n",
      "                       10:00/ 24-9-2019 |          5        0.89        5.71\n",
      "                       10:00/ 8-10-2019 |          3        0.54        6.25\n",
      "                      10:30/ 18-10-2019 |          3        0.54        6.79\n",
      "                      10:35/ 01-10-2019 |          1        0.18        6.96\n",
      "                      10:45/ 16-10-2019 |         14        2.50        9.46\n",
      "                               10H 1/10 |          1        0.18        9.64\n",
      "                              10H 11/10 |          3        0.54       10.18\n",
      "                              10H 14/10 |          1        0.18       10.36\n",
      "                              10H 15/10 |          1        0.18       10.54\n",
      "                               10H 27/9 |          1        0.18       10.71\n",
      "                               10H 8/10 |          1        0.18       10.89\n",
      "                            10H15 14/10 |          1        0.18       11.07\n",
      "                              10h 15/10 |          1        0.18       11.25\n",
      "                                  11/10 |          2        0.36       11.61\n",
      "                      11:00/ 10-10-2019 |          2        0.36       11.96\n",
      "                       11:00/ 19-9-2019 |          3        0.54       12.50\n",
      "                                12.9.19 |          1        0.18       12.68\n",
      "                                  12/10 |          2        0.36       13.04\n",
      "                                   12/9 |          1        0.18       13.21\n",
      "                              12/9/2019 |          1        0.18       13.39\n",
      "                                13.9.19 |          1        0.18       13.57\n",
      "                              13/9/2019 |          1        0.18       13.75\n",
      "                       13:30/ 21-9-2019 |         12        2.14       15.89\n",
      "                       13:30/ 4-10-2019 |         15        2.68       18.57\n",
      "                      13:50/ 03-10-2019 |         12        2.14       20.71\n",
      "                                  14/10 |          1        0.18       20.89\n",
      "                                   14/9 |          1        0.18       21.07\n",
      "                                14/9/19 |          1        0.18       21.25\n",
      "                      14:00/ 17-10-2019 |          3        0.54       21.79\n",
      "                       14:00/ 25-9-2019 |          6        1.07       22.86\n",
      "                      14:15/ 18-10-2019 |          1        0.18       23.04\n",
      "                      14:30/ 14-10-2019 |          5        0.89       23.93\n",
      "                       14:30/ 23-9-2019 |          1        0.18       24.11\n",
      "                       14:30/ 26-9-2019 |          1        0.18       24.29\n",
      "                            14h 8/10/19 |          1        0.18       24.46\n",
      "                              14h/30/20 |          1        0.18       24.64\n",
      "                            14h25 14/10 |          1        0.18       24.82\n",
      "                             14h30 23/9 |          1        0.18       25.00\n",
      "                             14h45 20/9 |          1        0.18       25.18\n",
      "                             14h45 24/9 |          1        0.18       25.36\n",
      "                             14h45 30/9 |          1        0.18       25.54\n",
      "                                  15/10 |          5        0.89       26.43\n",
      "                      15:00/ 02-10-2019 |          1        0.18       26.61\n",
      "                       15:00/ 25-9-2019 |          1        0.18       26.79\n",
      "                      15:10/ 10-10-2019 |          1        0.18       26.96\n",
      "                      15:10/ 14-10-2019 |          1        0.18       27.14\n",
      "                      15:20/ 15-10-2019 |          2        0.36       27.50\n",
      "                       15:20/ 9-10-2019 |          1        0.18       27.68\n",
      "                      15:30/ 15-10-2019 |          1        0.18       27.86\n",
      "                       15:30/ 24-9-2019 |          1        0.18       28.04\n",
      "                       15:30/ 26-9-2019 |          1        0.18       28.21\n",
      "                      15:35/ 04-10-2019 |          1        0.18       28.39\n",
      "                       15:40/ 8-10-2019 |          1        0.18       28.57\n",
      "                       15:40/ 9-10-2019 |          1        0.18       28.75\n",
      "                       15g  00 07.10.19 |          1        0.18       28.93\n",
      "                        15g  40 23.9.19 |          1        0.18       29.11\n",
      "                                  15g25 |          1        0.18       29.29\n",
      "                            15h (01/10) |          1        0.18       29.46\n",
      "                            15h (07/10) |          1        0.18       29.64\n",
      "                            15h (09/10) |          1        0.18       29.82\n",
      "                             15h (17/9) |          1        0.18       30.00\n",
      "                            15h (18/10) |          1        0.18       30.18\n",
      "                            15h00 07/10 |          2        0.36       30.54\n",
      "                            15h00 15/10 |          1        0.18       30.71\n",
      "                            15h00 24/10 |          1        0.18       30.89\n",
      "                             15h15 24/9 |          1        0.18       31.07\n",
      "                             15h15 25/9 |          1        0.18       31.25\n",
      "                            15h30 01/10 |          1        0.18       31.43\n",
      "                             15h30 24/9 |          1        0.18       31.61\n",
      "                                16.9.19 |          1        0.18       31.79\n",
      "                                   16/8 |          1        0.18       31.96\n",
      "                      16:00/ 10-10-2019 |          1        0.18       32.14\n",
      "                      16:10/ 16-10-2019 |          1        0.18       32.32\n",
      "                       16:10/ 8-10-2019 |          1        0.18       32.50\n",
      "                      16:20/ 14-10-2019 |          1        0.18       32.68\n",
      "                       16:20/ 27-9-2019 |          2        0.36       33.04\n",
      "                       16:20/ 30-9-2019 |          1        0.18       33.21\n",
      "                       16:30/ 27-9-2019 |          1        0.18       33.39\n",
      "                           16h30 (18/9) |          1        0.18       33.57\n",
      "                                  17/10 |          2        0.36       33.93\n"
     ]
    },
    {
     "name": "stdout",
     "output_type": "stream",
     "text": [
      "                                   17/6 |          1        0.18       34.11\n",
      "                                   17/9 |          1        0.18       34.29\n",
      "                                17/9/19 |          1        0.18       34.46\n",
      "                              17/9/2019 |          1        0.18       34.64\n",
      "                                  18/10 |          1        0.18       34.82\n",
      "                                   18/7 |          1        0.18       35.00\n",
      "                                   18/9 |          5        0.89       35.89\n",
      "                                18/9 19 |          1        0.18       36.07\n",
      "                     18sep2019 09:00:00 |          1        0.18       36.25\n",
      "                                  19/10 |          1        0.18       36.43\n",
      "                                   19/8 |          1        0.18       36.61\n",
      "                                   19/9 |          1        0.18       36.79\n",
      "                                   2/10 |          1        0.18       36.96\n",
      "                              2/10/2019 |          2        0.36       37.32\n",
      "                                20.9.19 |          2        0.36       37.68\n",
      "                                   20/9 |          1        0.18       37.86\n",
      "                                21.9.19 |          1        0.18       38.04\n",
      "                                21/9/19 |          1        0.18       38.21\n",
      "                              21/9/2019 |          1        0.18       38.39\n",
      "                                23.9.19 |          2        0.36       38.75\n",
      "                                   23/9 |          4        0.71       39.46\n",
      "                                24.9.19 |          1        0.18       39.64\n",
      "                                   24/9 |          1        0.18       39.82\n",
      "                              24/9/2019 |          1        0.18       40.00\n",
      "                                   25/9 |          3        0.54       40.54\n",
      "                                26.9.19 |          1        0.18       40.71\n",
      "                                   26/9 |          4        0.71       41.43\n",
      "                              26/9/2019 |          1        0.18       41.61\n",
      "                     26sep2019 09:00:00 |          1        0.18       41.79\n",
      "                                27.9.19 |          1        0.18       41.96\n",
      "                             27/09/2019 |          1        0.18       42.14\n",
      "                                   27/9 |          2        0.36       42.50\n",
      "                              27/9/2019 |          1        0.18       42.68\n",
      "                                28.9.19 |          1        0.18       42.86\n",
      "                                   29/9 |          1        0.18       43.04\n",
      "                     29may2019 09:00:00 |          1        0.18       43.21\n",
      "                                3.10.19 |          3        0.54       43.75\n",
      "                                   3/10 |          2        0.36       44.11\n",
      "                              3/18/2019 |          1        0.18       44.29\n",
      "                                30.9.19 |          1        0.18       44.46\n",
      "                                   30/9 |          3        0.54       45.00\n",
      "                                30/9/19 |          1        0.18       45.18\n",
      "                                4.10.19 |          1        0.18       45.36\n",
      "                                 4.9.19 |          2        0.36       45.71\n",
      "                                   4/10 |          3        0.54       46.25\n",
      "                                   5/10 |          2        0.36       46.61\n",
      "                             5h (08/10) |          1        0.18       46.79\n",
      "                             5h (14/10) |          1        0.18       46.96\n",
      "                             6h (08/10) |          1        0.18       47.14\n",
      "                                7.10.19 |          1        0.18       47.32\n",
      "                                   7/10 |          2        0.36       47.68\n",
      "                              7/10/2019 |          1        0.18       47.86\n",
      "                       7:45/ 15-10-2019 |          1        0.18       48.04\n",
      "                             7h (04/10) |          1        0.18       48.21\n",
      "                              7h (18/9) |          1        0.18       48.39\n",
      "                               7h00/ 15 |          1        0.18       48.57\n",
      "                             7h30 25/09 |          1        0.18       48.75\n",
      "                                8.10.19 |          1        0.18       48.93\n",
      "                                   8/10 |          4        0.71       49.64\n",
      "                               8/3/2019 |          1        0.18       49.82\n",
      "                        8:20/ 24-9-2019 |          1        0.18       50.00\n",
      "                        8:20/ 8-10-2019 |          1        0.18       50.18\n",
      "                        8:30/ 20-9-2019 |          1        0.18       50.36\n",
      "                        8:30/ 25-9-2019 |          1        0.18       50.54\n",
      "                        8:30/ 30-9-2019 |          1        0.18       50.71\n",
      "                       8:40/ 07-10-2019 |          1        0.18       50.89\n",
      "                        8g  00 11.10.19 |          1        0.18       51.07\n",
      "                             8h (02/10) |          3        0.54       51.61\n",
      "                             8h (03/07) |          1        0.18       51.79\n",
      "                              8h (13/9) |          1        0.18       51.96\n",
      "                             8h (15/10) |          2        0.36       52.32\n",
      "                             8h (19/10) |          1        0.18       52.50\n",
      "                              8h (19/9) |          2        0.36       52.86\n",
      "                              8h (23/9) |          1        0.18       53.04\n",
      "                              8h (25/9) |          5        0.89       53.93\n",
      "                              8h (27/9) |          1        0.18       54.11\n",
      "                              8h (28/9) |          1        0.18       54.29\n",
      "                             8h00 02/10 |          1        0.18       54.46\n",
      "                             8h00 03/10 |          1        0.18       54.64\n",
      "                             8h00 04/10 |          1        0.18       54.82\n",
      "                             8h00 05/10 |          1        0.18       55.00\n",
      "                             8h00 08/10 |          2        0.36       55.36\n",
      "                             8h00 09/10 |          2        0.36       55.71\n",
      "                             8h00 10/10 |          1        0.18       55.89\n",
      "                             8h00 11/10 |          1        0.18       56.07\n",
      "                             8h00 14/10 |          1        0.18       56.25\n",
      "                             8h00 15/10 |          2        0.36       56.61\n",
      "                             8h00 16/10 |          2        0.36       56.96\n",
      "                             8h00 17/10 |          1        0.18       57.14\n",
      "                             8h00 23/10 |          2        0.36       57.50\n",
      "                              8h00 23/9 |          2        0.36       57.86\n",
      "                              8h00 24/9 |          2        0.36       58.21\n",
      "                              8h00 27/9 |          2        0.36       58.57\n",
      "                                9.10.19 |          1        0.18       58.75\n",
      "                              9/20/2019 |          1        0.18       58.93\n",
      "                              9/21/2019 |          1        0.18       59.11\n",
      "                              9/23/2019 |          3        0.54       59.64\n",
      "                              9/24/2019 |          1        0.18       59.82\n",
      "                              9/26/2019 |          1        0.18       60.00\n",
      "                              9/27/2019 |          1        0.18       60.18\n",
      "                               9/5/2019 |          1        0.18       60.36\n",
      "                                    9/9 |          1        0.18       60.54\n",
      "                       9:00/ 05-10-2019 |          4        0.71       61.25\n",
      "                       9:15/ 17-10-2019 |          1        0.18       61.43\n",
      "                        9:30/ 24-9-2019 |          2        0.36       61.79\n",
      "                        9:40/ 25-9-2019 |          1        0.18       61.96\n",
      "                        9:45/ 27-9-2019 |          1        0.18       62.14\n"
     ]
    },
    {
     "name": "stdout",
     "output_type": "stream",
     "text": [
      "                       9:50/ 17-10-2019 |          1        0.18       62.32\n",
      "                             9H45 11/10 |          1        0.18       62.50\n",
      "                              9h  11/10 |          1        0.18       62.68\n",
      "                              9h  17/10 |          1        0.18       62.86\n",
      "                               9h  3/10 |          1        0.18       63.04\n",
      "                               9h  4/10 |          3        0.54       63.57\n",
      "                             9h (05/10) |          1        0.18       63.75\n",
      "                             9h (16/10) |          1        0.18       63.93\n",
      "                              9h (19/9) |          1        0.18       64.11\n",
      "                              9h (20/9) |          1        0.18       64.29\n",
      "                               9h 16/10 |          1        0.18       64.46\n",
      "                             9h00 14/10 |          1        0.18       64.64\n",
      "                             9h15 15/10 |          1        0.18       64.82\n",
      "                              9h30 4/10 |          1        0.18       65.00\n",
      "             Bệnh nhân H không điều trị |          1        0.18       65.18\n",
      "                              Chuyển TƯ |          6        1.07       66.25\n",
      "                                      K |         22        3.93       70.18\n",
      "                                  Không |         24        4.29       74.46\n",
      "                               Không rõ |         68       12.14       86.61\n",
      "                         Không điều trị |         17        3.04       89.64\n",
      "                                     Ko |          1        0.18       89.82\n",
      "                                Ko đtrị |          4        0.71       90.54\n",
      "                              TD lao TP |          2        0.36       90.89\n",
      "                              TD lao tp |          1        0.18       91.07\n",
      "            TD lao tái phát ko điều trị |          1        0.18       91.25\n",
      "                                      k |         32        5.71       96.96\n",
      "                                  ko có |         14        2.50       99.46\n",
      "                        ko điều trị lao |          3        0.54      100.00\n",
      "----------------------------------------+-----------------------------------\n",
      "                                  Total |        560      100.00\n"
     ]
    }
   ],
   "source": [
    "count if !mi(time8) & maclao==0\n",
    "tab time8 if maclao==0 & !mi(time8)"
   ]
  },
  {
   "cell_type": "code",
   "execution_count": 402,
   "metadata": {},
   "outputs": [
    {
     "name": "stdout",
     "output_type": "stream",
     "text": [
      "file form4-20200522-combined.dta saved\n"
     ]
    }
   ],
   "source": [
    "save \"form4-20200522-combined.dta\", replace"
   ]
  },
  {
   "cell_type": "markdown",
   "metadata": {},
   "source": [
    "## form1 "
   ]
  },
  {
   "cell_type": "code",
   "execution_count": 408,
   "metadata": {
    "collapsed": true
   },
   "outputs": [
    {
     "name": "stdout",
     "output_type": "stream",
     "text": [
      "\n",
      "\n",
      "\n",
      "\n",
      "\n",
      "(51 real changes made)\n",
      "\n",
      "(42 real changes made)\n",
      "\n",
      "(48 real changes made)\n",
      "\n",
      "(28 real changes made)\n",
      "\n",
      "(7 real changes made)\n",
      "\n",
      "(4 real changes made)\n",
      "\n",
      "(9 real changes made)\n",
      "\n",
      "(7 real changes made)\n",
      "\n",
      "(2 real changes made)\n"
     ]
    }
   ],
   "source": [
    "use form1-20200226-module2-combined.dta, clear\n",
    "cap program drop chuyenngay1\n",
    "program define chuyenngay1\n",
    "\tsyntax varlist\n",
    "\tforeach v in `varlist' {\n",
    "\t\tcap drop `v'c\n",
    "\t\tqui gen `v'c = date(`v', \"DMY\")\n",
    "\t\tformat `v'c %td\n",
    "\t}\n",
    "end\n",
    "chuyenngay1 tlapdat tsudung tsuco tmodulemoi\n",
    "\n",
    "replace tlapdat = strtrim(tlapdat)\n",
    "replace tlapdatc = mdy(real(regexs(1)), real(regexs(2)), real(regexs(3))) if regexm(tlapdat, \"(^[0-9]+)/([0-9]+)/([0-9]+$)\") & mi(tlapdatc)\n",
    "\n",
    "\n",
    "replace tsudung = strtrim(tsudung)\n",
    "replace tsudungc = mdy(real(regexs(1)), real(regexs(2)), real(regexs(3))) if regexm(tsudung, \"(^[0-9]+)/([0-9]+)/([0-9]+$)\") & mi(tsudungc)\n",
    "\n",
    "replace tsuco = strtrim(tsuco)\n",
    "replace tsucoc = mdy(real(regexs(1)), real(regexs(2)), real(regexs(3))) if regexm(tsuco, \"(^[0-9]+)/([0-9]+)/([0-9]+$)\") & mi(tsucoc)\n",
    "replace tsucoc = mdy(real(regexs(1)), 1, real(regexs(2))) if regexm(tsuco, \"(^[0-9]+)/([0-9]+$)\") & mi(tsucoc)\n",
    "\n",
    "replace tmodulemoi = strtrim(tmodulemoi)\n",
    "replace tmodulemoic = mdy(real(regexs(1)), real(regexs(2)), real(regexs(3))) if regexm(tmodulemoi, \"(^[0-9]+)/([0-9]+)/([0-9]+$)\") & mi(tmodulemoic)\n"
   ]
  },
  {
   "cell_type": "code",
   "execution_count": 409,
   "metadata": {
    "collapsed": true
   },
   "outputs": [
    {
     "name": "stdout",
     "output_type": "stream",
     "text": [
      "\n",
      "no observations\n",
      "\n",
      "\n",
      "    tsudung |      Freq.     Percent        Cum.\n",
      "------------+-----------------------------------\n",
      " 17/0//2018 |          4      100.00      100.00\n",
      "------------+-----------------------------------\n",
      "      Total |          4      100.00\n",
      "\n",
      "\n",
      "       tsuco |      Freq.     Percent        Cum.\n",
      "-------------+-----------------------------------\n",
      "           K |          4        7.14        7.14\n",
      "       Không |         28       50.00       57.14\n",
      "           \\ |          4        7.14       64.29\n",
      "           k |          4        7.14       71.43\n",
      "       không |         13       23.21       94.64\n",
      "   không nhớ |          1        1.79       96.43\n",
      "    lỗi 1001 |          1        1.79       98.21\n",
      "    lỗi 2035 |          1        1.79      100.00\n",
      "-------------+-----------------------------------\n",
      "       Total |         56      100.00\n",
      "\n",
      "\n",
      "      tmodulemoi |      Freq.     Percent        Cum.\n",
      "-----------------+-----------------------------------\n",
      "            Chưa |          3        5.66        5.66\n",
      "       Chưa thay |          5        9.43       15.09\n",
      "           Không |         20       37.74       52.83\n",
      "               \\ |          4        7.55       60.38\n",
      "            chưa |          2        3.77       64.15\n",
      "   chưa thay mới |          1        1.89       66.04\n",
      "               k |          4        7.55       73.58\n",
      "           không |         13       24.53       98.11\n",
      "        Đang chờ |          1        1.89      100.00\n",
      "-----------------+-----------------------------------\n",
      "           Total |         53      100.00\n"
     ]
    }
   ],
   "source": [
    "tab tlapdat if mi(tlapdatc)\n",
    "tab tsudung if mi(tsudungc)\n",
    "tab tsuco   if mi(tsucoc)\n",
    "tab tmodulemoi if mi(tmodulemoic)"
   ]
  },
  {
   "cell_type": "code",
   "execution_count": 415,
   "metadata": {},
   "outputs": [],
   "source": [
    "order tlapdatc-tmodulemoic, a(mamodule)"
   ]
  },
  {
   "cell_type": "code",
   "execution_count": 412,
   "metadata": {},
   "outputs": [],
   "source": [
    "la var tlapdatc \"(Clean) Installation time\"\n",
    "la var tsudungc \"(Clean) Used time\"\n",
    "la var tsucoc   \"(Clean) Instrument down time\"\n",
    "la var tmodulemoic \"(Clean) New Module replacement time\""
   ]
  },
  {
   "cell_type": "code",
   "execution_count": 416,
   "metadata": {},
   "outputs": [],
   "source": [
    "ren madieutra siteid\n",
    "ren mamodule moduleid\n",
    "ren mamodulethaythe newmoduleid"
   ]
  },
  {
   "cell_type": "code",
   "execution_count": 417,
   "metadata": {},
   "outputs": [
    {
     "name": "stdout",
     "output_type": "stream",
     "text": [
      "file form1-20200226-module2-combined.dta saved\n"
     ]
    }
   ],
   "source": [
    "save form1-20200226-module2-combined.dta, replace"
   ]
  },
  {
   "cell_type": "code",
   "execution_count": 419,
   "metadata": {},
   "outputs": [],
   "source": [
    "use form1-20200226-module-combined.dta, clear\n",
    "\n",
    "chuyenngay1 dset2018 ddid2018 dset2019 ddid2019\n",
    "\n",
    "replace dset2018 = strtrim(dset2018)\n",
    "replace dset2018c = mdy(real(regexs(1)), real(regexs(2)), real(regexs(3))) if regexm(dset2018, \"(^[0-9]+)/([0-9]+)/([0-9]+$)\") & mi(dset2018c)\n",
    "replace dset2018c = mdy(real(regexs(1)), 1, real(regexs(2))) if regexm(dset2018, \"(^[0-9]+)/([0-9]+$)\") & mi(dset2018c)\n",
    "\n",
    "replace ddid2018 = strtrim(ddid2018)\n",
    "replace ddid2018c = mdy(real(regexs(1)), real(regexs(2)), real(regexs(3))) if regexm(ddid2018, \"(^[0-9]+)/([0-9]+)/([0-9]+$)\") & mi(ddid2018c)\n",
    "replace ddid2018c = mdy(real(regexs(1)), 1, real(regexs(2))) if regexm(ddid2018, \"(^[0-9]+)/([0-9]+$)\") & mi(ddid2018c)\n",
    "\n",
    "replace dset2019 = strtrim(dset2019)\n",
    "replace dset2019c = mdy(real(regexs(1)), real(regexs(2)), real(regexs(3))) if regexm(dset2019, \"(^[0-9]+)/([0-9]+)/([0-9]+$)\") & mi(dset2019c)\n",
    "replace dset2019c = mdy(real(regexs(1)), 1, real(regexs(2))) if regexm(dset2019, \"(^[0-9]+)/([0-9]+$)\") & mi(dset2019c)\n",
    "\n",
    "replace ddid2019 = strtrim(ddid2019)\n",
    "replace ddid2019c = mdy(real(regexs(1)), real(regexs(2)), real(regexs(3))) if regexm(ddid2019, \"(^[0-9]+)/([0-9]+)/([0-9]+$)\") & mi(ddid2019c)\n",
    "replace ddid2019c = mdy(real(regexs(1)), 1, real(regexs(2))) if regexm(ddid2019, \"(^[0-9]+)/([0-9]+$)\") & mi(ddid2019c)\n",
    "\n",
    "order dset2018c-ddid2019c, a(mathietbi)"
   ]
  },
  {
   "cell_type": "code",
   "execution_count": 438,
   "metadata": {},
   "outputs": [
    {
     "name": "stdout",
     "output_type": "stream",
     "text": [
      "\n",
      "  variable dset2018c was float now int\n",
      "  variable ddid2018c was float now int\n",
      "  variable ddid2019c was float now int\n",
      "  (582 bytes saved)\n",
      "\n",
      "(note: file form1-20200226-table2.dta not found)\n",
      "file form1-20200226-table2.dta saved\n"
     ]
    }
   ],
   "source": [
    "compress\n",
    "save form1-20200226-table2.dta, replace"
   ]
  },
  {
   "cell_type": "code",
   "execution_count": null,
   "metadata": {},
   "outputs": [],
   "source": []
  }
 ],
 "metadata": {
  "hide_input": false,
  "kernelspec": {
   "display_name": "Stata",
   "language": "stata",
   "name": "stata"
  },
  "language_info": {
   "codemirror_mode": "stata",
   "file_extension": ".do",
   "mimetype": "text/x-stata",
   "name": "stata",
   "version": "15.1"
  },
  "toc": {
   "base_numbering": 1,
   "nav_menu": {},
   "number_sections": true,
   "sideBar": true,
   "skip_h1_title": true,
   "title_cell": "Mục lục",
   "title_sidebar": "Nội dung",
   "toc_cell": true,
   "toc_position": {},
   "toc_section_display": true,
   "toc_window_display": true
  }
 },
 "nbformat": 4,
 "nbformat_minor": 4
}
