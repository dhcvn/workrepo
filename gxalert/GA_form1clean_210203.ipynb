{
 "cells": [
  {
   "cell_type": "markdown",
   "metadata": {
    "toc": true
   },
   "source": [
    "<h1>Mục lục<span class=\"tocSkip\"></span></h1>\n",
    "<div class=\"toc\"><ul class=\"toc-item\"><li><span><a href=\"#Cài-đặt-môi-trường-làm-việc\" data-toc-modified-id=\"Cài-đặt-môi-trường-làm-việc-1\"><span class=\"toc-item-num\">1&nbsp;&nbsp;</span>Cài đặt môi trường làm việc</a></span></li><li><span><a href=\"#Form-1:-Nhân-sự\" data-toc-modified-id=\"Form-1:-Nhân-sự-2\"><span class=\"toc-item-num\">2&nbsp;&nbsp;</span>Form 1: Nhân sự</a></span></li><li><span><a href=\"#Form-1:-máy-móc\" data-toc-modified-id=\"Form-1:-máy-móc-3\"><span class=\"toc-item-num\">3&nbsp;&nbsp;</span>Form 1: máy móc</a></span><ul class=\"toc-item\"><li><span><a href=\"#Các-bước-làm-sạch-tiếp-theo\" data-toc-modified-id=\"Các-bước-làm-sạch-tiếp-theo-3.1\"><span class=\"toc-item-num\">3.1&nbsp;&nbsp;</span>Các bước làm sạch tiếp theo</a></span></li><li><span><a href=\"#Xuất-số-liệu-ra-excel\" data-toc-modified-id=\"Xuất-số-liệu-ra-excel-3.2\"><span class=\"toc-item-num\">3.2&nbsp;&nbsp;</span>Xuất số liệu ra excel</a></span></li></ul></li><li><span><a href=\"#Form-1:-hư-hỏng-thiết-bị\" data-toc-modified-id=\"Form-1:-hư-hỏng-thiết-bị-4\"><span class=\"toc-item-num\">4&nbsp;&nbsp;</span>Form 1: hư hỏng thiết bị</a></span><ul class=\"toc-item\"><li><span><a href=\"#Một-số-bước-làm-sạch\" data-toc-modified-id=\"Một-số-bước-làm-sạch-4.1\"><span class=\"toc-item-num\">4.1&nbsp;&nbsp;</span>Một số bước làm sạch</a></span></li><li><span><a href=\"#Chuyển-dạng-string-thành-ngày-tháng\" data-toc-modified-id=\"Chuyển-dạng-string-thành-ngày-tháng-4.2\"><span class=\"toc-item-num\">4.2&nbsp;&nbsp;</span>Chuyển dạng string thành ngày tháng</a></span></li><li><span><a href=\"#Xuất-số-liệu-ra-excel\" data-toc-modified-id=\"Xuất-số-liệu-ra-excel-4.3\"><span class=\"toc-item-num\">4.3&nbsp;&nbsp;</span>Xuất số liệu ra excel</a></span></li></ul></li></ul></div>"
   ]
  },
  {
   "cell_type": "markdown",
   "metadata": {},
   "source": [
    "## Cài đặt môi trường làm việc"
   ]
  },
  {
   "cell_type": "code",
   "execution_count": 1,
   "metadata": {},
   "outputs": [],
   "source": [
    "local dataset \"D:\\NTP\\GA-191231-GxAlert project\\1. Data\\1. Process\\Statadataset\"\n",
    "local siteinfo \"D:\\NTP\\GA-191231-GxAlert project\\1. Data\"\n",
    "local docs \"D:\\NTP\\GA-191231-GxAlert project\\. docs\"\n",
    "local data \"D:\\NTP\\GA-191231-GxAlert project\\. data\"\n",
    "set varabbrev off\n",
    "qui cd \"`dataset'\""
   ]
  },
  {
   "cell_type": "markdown",
   "metadata": {},
   "source": [
    "Form1 có 3 thông tin:\n",
    "- Thông tin về nhân sự\n",
    "- Thông tin về máy móc trang thiết bị\n",
    "- Thông tin về sự cố\n",
    "\n",
    "File input: <br>\n",
    "Input data: \n",
    "- form1-20200226-module-combined.dta; <br>\n",
    "- form1-20200226-module2-combined.dta; <br>\n",
    "- nhansu-form1-20200224-v2.dta<br>\n",
    "\n",
    "Output:"
   ]
  },
  {
   "cell_type": "markdown",
   "metadata": {},
   "source": [
    "## Form 1: Nhân sự"
   ]
  },
  {
   "cell_type": "code",
   "execution_count": 9,
   "metadata": {},
   "outputs": [],
   "source": [
    "use nhansu-form1-20200224-v2.dta, clear\n",
    "la var name \"Họ và tên\"\n",
    "la var spec \"Trình độ chuyên môn\"\n",
    "la var expmon_c \"Số tháng kinh nghiệm\"\n",
    "la var doxpert \"Hiện còn làm Xpert\"\n",
    "la var certi \"Chứng nhận đào tạo xét nghiệm Xpert\"\n",
    "la var madieutra \"Điểm điều tra\""
   ]
  },
  {
   "cell_type": "code",
   "execution_count": 11,
   "metadata": {},
   "outputs": [
    {
     "name": "stdout",
     "output_type": "stream",
     "text": [
      "\n",
      "    Result                           # of obs.\n",
      "    -----------------------------------------\n",
      "    not matched                             0\n",
      "    matched                               140  \n",
      "    -----------------------------------------\n"
     ]
    }
   ],
   "source": [
    "ren madieutra siteid\n",
    "merge m:1 siteid using \"`siteinfo'\\siteinfo.dta\", nogen keep(3)"
   ]
  },
  {
   "cell_type": "code",
   "execution_count": 13,
   "metadata": {},
   "outputs": [
    {
     "name": "stdout",
     "output_type": "stream",
     "text": [
      "file D:\\NTP\\GA-191231-GxAlert project\\. docs\\form1_nhansu.xlsx saved\n"
     ]
    }
   ],
   "source": [
    "export excel name spec expmon_c doxpert certi sitename using \"`docs'\\form1_nhansu.xlsx\", ///\n",
    "firstrow(varlabels) replace keepcellfmt"
   ]
  },
  {
   "cell_type": "markdown",
   "metadata": {},
   "source": [
    "## Form 1: máy móc"
   ]
  },
  {
   "cell_type": "markdown",
   "metadata": {},
   "source": [
    "### Các bước làm sạch tiếp theo"
   ]
  },
  {
   "cell_type": "code",
   "execution_count": 2,
   "metadata": {},
   "outputs": [],
   "source": [
    "use \"form1-20200226-module-combined.dta\", clear"
   ]
  },
  {
   "cell_type": "code",
   "execution_count": 8,
   "metadata": {},
   "outputs": [],
   "source": [
    "la var thietbi   \"Tên thiết bị\"\n",
    "la var mathietbi \"Mã thiết bị\"\n",
    "la var dset2018  \"Thời gian hiệu chuẩn theo yêu cầu 2018\"\n",
    "la var ddid2018  \"Thời gian hiệu chuẩn thực tế 2019\"\n",
    "la var dset2019  \"Thời gian hiệu chuẩn theo yêu cầu 2019\"\n",
    "la var ddid2019  \"Thời gian hiệu chuẩn thực tế 2019\"\n",
    "la var madieutra \"Điểm điều tra\""
   ]
  },
  {
   "cell_type": "code",
   "execution_count": 9,
   "metadata": {},
   "outputs": [
    {
     "name": "stdout",
     "output_type": "stream",
     "text": [
      "\n",
      "\n",
      "\n",
      "    Result                           # of obs.\n",
      "    -----------------------------------------\n",
      "    not matched                             0\n",
      "    matched                                97  \n",
      "    -----------------------------------------\n"
     ]
    }
   ],
   "source": [
    "* nối với thông tin về tên điểm điều tra\n",
    "ren madieutra siteid\n",
    "merge m:1 siteid using \"`siteinfo'\\siteinfo.dta\", nogen keep(3)"
   ]
  },
  {
   "cell_type": "code",
   "execution_count": 11,
   "metadata": {},
   "outputs": [],
   "source": [
    "labmask siteid, val(sitename)"
   ]
  },
  {
   "cell_type": "markdown",
   "metadata": {},
   "source": [
    "### Xuất số liệu ra excel"
   ]
  },
  {
   "cell_type": "code",
   "execution_count": 13,
   "metadata": {},
   "outputs": [
    {
     "name": "stdout",
     "output_type": "stream",
     "text": [
      "file D:\\NTP\\GA-191231-GxAlert project\\. docs\\form1_maymoc.xlsx saved\n"
     ]
    }
   ],
   "source": [
    "export excel thietbi - siteid prov ntplevel using \"`docs'\\form1_maymoc.xlsx\", firstrow(varlabel) replace"
   ]
  },
  {
   "cell_type": "markdown",
   "metadata": {},
   "source": [
    "## Form 1: hư hỏng thiết bị"
   ]
  },
  {
   "cell_type": "code",
   "execution_count": 53,
   "metadata": {},
   "outputs": [],
   "source": [
    "use form1-20200226-module2-combined.dta, clear\n",
    "qui append using form1_208mayxpert\n",
    "la var mamodule \"Mã module\"\n",
    "la var tlapdat  \"Thời gian lắp đặt\"\n",
    "la var tsudung  \"Thời gian bắt đầu sử dụng\"\n",
    "la var tsuco    \"Thời gian xảy ra sự cố\"\n",
    "la var tmodulemoi \"Thời gian được thay\"\n",
    "la var mamodulethaythe \"Mã module mới được thay thế\"\n",
    "la var madieutra \"Điểm điều tra\""
   ]
  },
  {
   "cell_type": "code",
   "execution_count": 54,
   "metadata": {
    "scrolled": false
   },
   "outputs": [
    {
     "name": "stdout",
     "output_type": "stream",
     "text": [
      "\n",
      "\n",
      "\n",
      "    Result                           # of obs.\n",
      "    -----------------------------------------\n",
      "    not matched                             1\n",
      "        from master                         0  \n",
      "        from using                          1  \n",
      "\n",
      "    matched                               269  \n",
      "    -----------------------------------------\n",
      "\n",
      "\n"
     ]
    }
   ],
   "source": [
    "ren madieutra siteid\n",
    "merge m:1 siteid using \"`siteinfo'\\siteinfo.dta\", keepusing(sitename prov ntplevel) nogen\n",
    "la var prov     \"Tỉnh\"\n",
    "la var ntplevel \"Cấp NTP\""
   ]
  },
  {
   "cell_type": "markdown",
   "metadata": {},
   "source": [
    "### Một số bước làm sạch"
   ]
  },
  {
   "cell_type": "code",
   "execution_count": 55,
   "metadata": {},
   "outputs": [],
   "source": [
    "labmask siteid, val(sitename)"
   ]
  },
  {
   "cell_type": "markdown",
   "metadata": {},
   "source": [
    "### Chuyển dạng string thành ngày tháng"
   ]
  },
  {
   "cell_type": "code",
   "execution_count": 56,
   "metadata": {
    "scrolled": true
   },
   "outputs": [
    {
     "name": "stdout",
     "output_type": "stream",
     "text": [
      "\n",
      "(51 real changes made)\n",
      "(0 real changes made)\n",
      "(0 real changes made)\n",
      "(0 real changes made)\n",
      "(0 real changes made)\n",
      "\n",
      "  Thời gian |\n",
      "        lắp |\n",
      "        đặt |      Freq.     Percent        Cum.\n",
      "------------+-----------------------------------\n",
      "            |          7      100.00      100.00\n",
      "------------+-----------------------------------\n",
      "      Total |          7      100.00\n",
      "(48 real changes made)\n",
      "(0 real changes made)\n",
      "(0 real changes made)\n",
      "(0 real changes made)\n",
      "(0 real changes made)\n",
      "\n",
      "  Thời gian |\n",
      "        bắt |\n",
      "     đầu sử |\n",
      "       dụng |      Freq.     Percent        Cum.\n",
      "------------+-----------------------------------\n",
      "            |          6      100.00      100.00\n",
      "------------+-----------------------------------\n",
      "      Total |          6      100.00\n",
      "(7 real changes made)\n",
      "(32 real changes made)\n",
      "(8 real changes made)\n",
      "(0 real changes made)\n",
      "(4 real changes made)\n",
      "\n",
      "   Thời gian |\n",
      "      xảy ra |\n",
      "       sự cố |      Freq.     Percent        Cum.\n",
      "-------------+-----------------------------------\n",
      "             |        160       73.39       73.39\n",
      "     03/2018 |          1        0.46       73.85\n",
      "     10/2013 |          2        0.92       74.77\n",
      "      3/2019 |          1        0.46       75.23\n",
      "      4/2017 |          1        0.46       75.69\n",
      "      5/2016 |          1        0.46       76.15\n",
      "      5/2017 |          1        0.46       76.61\n",
      "      8/2019 |          2        0.92       77.52\n",
      "       không |         49       22.48      100.00\n",
      "-------------+-----------------------------------\n",
      "       Total |        218      100.00\n",
      "(7 real changes made)\n",
      "(29 real changes made)\n",
      "(4 real changes made)\n",
      "(5 real changes made)\n",
      "(4 real changes made)\n",
      "\n",
      "       Thời gian |\n",
      "       được thay |      Freq.     Percent        Cum.\n",
      "-----------------+-----------------------------------\n",
      "                 |        172       80.37       80.37\n",
      "           không |         42       19.63      100.00\n",
      "-----------------+-----------------------------------\n",
      "           Total |        214      100.00\n",
      "(0 real changes made)\n",
      "(25 real changes made)\n",
      "(4 real changes made)\n",
      "(1 real change made)\n",
      "(4 real changes made)\n",
      "\n",
      "  Mã module |\n",
      "        mới |\n",
      "       được |\n",
      "   thay thế |      Freq.     Percent        Cum.\n",
      "------------+-----------------------------------\n",
      "            |        171       64.53       64.53\n",
      "          . |          7        2.64       67.17\n",
      "     600901 |          1        0.38       67.55\n",
      "     603709 |          1        0.38       67.92\n",
      "     608297 |          1        0.38       68.30\n",
      "     609851 |          1        0.38       68.68\n",
      "     614632 |          1        0.38       69.06\n",
      "     618541 |          1        0.38       69.43\n",
      "     620084 |          1        0.38       69.81\n",
      "     621728 |          1        0.38       70.19\n",
      "     623161 |          1        0.38       70.57\n",
      "     634949 |          1        0.38       70.94\n",
      "     637394 |          1        0.38       71.32\n",
      "     661006 |          1        0.38       71.70\n",
      "     664074 |          1        0.38       72.08\n",
      "     686636 |          1        0.38       72.45\n",
      "     688306 |          1        0.38       72.83\n",
      "     688449 |          1        0.38       73.21\n",
      "     688483 |          1        0.38       73.58\n",
      "     688535 |          1        0.38       73.96\n",
      "     688807 |          1        0.38       74.34\n",
      "     725094 |          1        0.38       74.72\n",
      "     725095 |          1        0.38       75.09\n",
      "     725096 |          1        0.38       75.47\n",
      "     725100 |          1        0.38       75.85\n",
      "     725116 |          1        0.38       76.23\n",
      "     730338 |          1        0.38       76.60\n",
      "     731240 |          1        0.38       76.98\n",
      "     737210 |          1        0.38       77.36\n",
      "     750510 |          1        0.38       77.74\n",
      "     752118 |          1        0.38       78.11\n",
      "     757980 |          1        0.38       78.49\n",
      "     758051 |          1        0.38       78.87\n",
      "     758069 |          1        0.38       79.25\n",
      "     758103 |          1        0.38       79.62\n",
      "     758320 |          1        0.38       80.00\n",
      "     758419 |          1        0.38       80.38\n",
      "     759757 |          1        0.38       80.75\n",
      "     759936 |          1        0.38       81.13\n",
      "     760084 |          1        0.38       81.51\n",
      "     760092 |          1        0.38       81.89\n",
      "     760096 |          1        0.38       82.26\n",
      "     760106 |          1        0.38       82.64\n",
      "     760107 |          1        0.38       83.02\n",
      "     760234 |          1        0.38       83.40\n",
      "     760838 |          1        0.38       83.77\n",
      "     761403 |          1        0.38       84.15\n",
      "     761455 |          1        0.38       84.53\n",
      "     766328 |          1        0.38       84.91\n",
      "     768327 |          1        0.38       85.28\n",
      "     768330 |          1        0.38       85.66\n",
      "      không |         38       14.34      100.00\n",
      "------------+-----------------------------------\n",
      "      Total |        265      100.00\n"
     ]
    }
   ],
   "source": [
    "foreach v of varlist tlapdat-mamodulethaythe {\n",
    "    replace `v' = strtrim(`v')\n",
    "    replace `v' = ustrlower(`v')\n",
    "    replace `v' = \"không\" if `v'==\"k\"\n",
    "    replace `v' = \"không\" if `v'==\"chưa\"\n",
    "    replace `v' = \"\" if `v'==\"\\\"\n",
    "    tab `v' if strlen(`v')<8, m\n",
    "}"
   ]
  },
  {
   "cell_type": "code",
   "execution_count": 73,
   "metadata": {
    "scrolled": true
   },
   "outputs": [
    {
     "name": "stdout",
     "output_type": "stream",
     "text": [
      "\n",
      "\n",
      "\n",
      "         id |      Freq.     Percent        Cum.\n",
      "------------+-----------------------------------\n",
      "        199 |          1        2.70        2.70\n",
      "        200 |          1        2.70        5.41\n",
      "        201 |          1        2.70        8.11\n",
      "        202 |          1        2.70       10.81\n",
      "        211 |          1        2.70       13.51\n",
      "        212 |          1        2.70       16.22\n",
      "        213 |          1        2.70       18.92\n",
      "        214 |          1        2.70       21.62\n",
      "        224 |          1        2.70       24.32\n",
      "        234 |          1        2.70       27.03\n",
      "        235 |          1        2.70       29.73\n",
      "        236 |          1        2.70       32.43\n",
      "        237 |          1        2.70       35.14\n",
      "        238 |          1        2.70       37.84\n",
      "        239 |          1        2.70       40.54\n",
      "        240 |          1        2.70       43.24\n",
      "        241 |          1        2.70       45.95\n",
      "        242 |          1        2.70       48.65\n",
      "        243 |          1        2.70       51.35\n",
      "        244 |          1        2.70       54.05\n",
      "        245 |          1        2.70       56.76\n",
      "        246 |          1        2.70       59.46\n",
      "        247 |          1        2.70       62.16\n",
      "        248 |          1        2.70       64.86\n",
      "        249 |          1        2.70       67.57\n",
      "        250 |          1        2.70       70.27\n",
      "        251 |          1        2.70       72.97\n",
      "        252 |          1        2.70       75.68\n",
      "        253 |          1        2.70       78.38\n",
      "        258 |          1        2.70       81.08\n",
      "        259 |          1        2.70       83.78\n",
      "        260 |          1        2.70       86.49\n",
      "        261 |          1        2.70       89.19\n",
      "        266 |          1        2.70       91.89\n",
      "        267 |          1        2.70       94.59\n",
      "        268 |          1        2.70       97.30\n",
      "        269 |          1        2.70      100.00\n",
      "------------+-----------------------------------\n",
      "      Total |         37      100.00\n",
      "\n",
      "(1 real change made)\n",
      "(1 real change made)\n",
      "(1 real change made)\n",
      "(1 real change made)\n",
      "(1 real change made)\n",
      "(1 real change made)\n",
      "(1 real change made)\n",
      "(1 real change made)\n",
      "(1 real change made)\n",
      "(1 real change made)\n",
      "(1 real change made)\n",
      "(1 real change made)\n",
      "(1 real change made)\n",
      "(1 real change made)\n",
      "(1 real change made)\n",
      "(1 real change made)\n",
      "(1 real change made)\n",
      "(1 real change made)\n",
      "(1 real change made)\n",
      "(1 real change made)\n",
      "(1 real change made)\n",
      "(1 real change made)\n",
      "(1 real change made)\n",
      "(1 real change made)\n",
      "(1 real change made)\n",
      "(1 real change made)\n",
      "(1 real change made)\n",
      "(1 real change made)\n",
      "(1 real change made)\n",
      "(1 real change made)\n",
      "(1 real change made)\n",
      "(1 real change made)\n",
      "(1 real change made)\n",
      "(1 real change made)\n",
      "(1 real change made)\n",
      "(1 real change made)\n",
      "(1 real change made)\n",
      "(1 real change made)\n",
      "(1 real change made)\n",
      "(1 real change made)\n",
      "(1 real change made)\n",
      "(1 real change made)\n",
      "(1 real change made)\n",
      "(1 real change made)\n",
      "(1 real change made)\n",
      "(1 real change made)\n",
      "(1 real change made)\n",
      "(1 real change made)\n",
      "(1 real change made)\n",
      "(1 real change made)\n",
      "(1 real change made)\n",
      "(1 real change made)\n",
      "(1 real change made)\n",
      "(1 real change made)\n",
      "(1 real change made)\n",
      "(1 real change made)\n",
      "(1 real change made)\n",
      "(1 real change made)\n",
      "(1 real change made)\n",
      "(1 real change made)\n",
      "(1 real change made)\n",
      "(1 real change made)\n",
      "(1 real change made)\n",
      "(1 real change made)\n",
      "(1 real change made)\n",
      "(1 real change made)\n",
      "(1 real change made)\n",
      "(1 real change made)\n",
      "(1 real change made)\n",
      "(1 real change made)\n",
      "(1 real change made)\n",
      "(1 real change made)\n",
      "(1 real change made)\n",
      "(1 real change made)\n",
      "(1 real change made)\n",
      "(1 real change made)\n",
      "(1 real change made)\n",
      "(1 real change made)\n",
      "(1 real change made)\n",
      "(1 real change made)\n",
      "(1 real change made)\n",
      "(1 real change made)\n",
      "(1 real change made)\n",
      "(1 real change made)\n",
      "(1 real change made)\n",
      "(1 real change made)\n",
      "(1 real change made)\n",
      "(1 real change made)\n",
      "(1 real change made)\n",
      "(1 real change made)\n",
      "(1 real change made)\n",
      "(1 real change made)\n",
      "(1 real change made)\n",
      "(1 real change made)\n",
      "(1 real change made)\n",
      "(1 real change made)\n",
      "(1 real change made)\n",
      "(1 real change made)\n",
      "(1 real change made)\n",
      "(1 real change made)\n",
      "(1 real change made)\n",
      "(1 real change made)\n",
      "(1 real change made)\n",
      "(1 real change made)\n",
      "(1 real change made)\n",
      "(1 real change made)\n",
      "(1 real change made)\n",
      "(1 real change made)\n",
      "(1 real change made)\n",
      "(1 real change made)\n",
      "(1 real change made)\n"
     ]
    }
   ],
   "source": [
    "* những trường hợp không có sự cố là những trường hợp không cả 3 trường hợp\n",
    "local cond tsuco==\"không\" & tmodulemoi==\"không\" & mamodulethaythe==\"không\"\n",
    "// gen id = _n\n",
    "tab id if `cond', matrow(id)\n",
    "foreach i of numlist 1/`r(r)' {\n",
    "    replace tsuco = \"\" if id == id[`i',1]\n",
    "    replace tmodulemoi = \"\" if id == id[`i',1]\n",
    "    replace mamodulethaythe = \"\" if id == id[`i',1]\n",
    "}"
   ]
  },
  {
   "cell_type": "code",
   "execution_count": 76,
   "metadata": {},
   "outputs": [
    {
     "name": "stdout",
     "output_type": "stream",
     "text": [
      "(12 real changes made)\n"
     ]
    }
   ],
   "source": [
    "replace tsuco = \"\" if tsuco==\"không\" & mi(tmodulemoi) & mi(mamodulethaythe)"
   ]
  },
  {
   "cell_type": "markdown",
   "metadata": {},
   "source": [
    "### Xuất số liệu ra excel"
   ]
  },
  {
   "cell_type": "code",
   "execution_count": 78,
   "metadata": {},
   "outputs": [
    {
     "name": "stdout",
     "output_type": "stream",
     "text": [
      "file D:\\NTP\\GA-191231-GxAlert project\\. docs\\form1_xpert.xlsx saved\n"
     ]
    }
   ],
   "source": [
    "export excel using \"`docs'\\form1_xpert.xlsx\", firstrow(varlab) replace"
   ]
  },
  {
   "cell_type": "code",
   "execution_count": null,
   "metadata": {},
   "outputs": [],
   "source": []
  }
 ],
 "metadata": {
  "kernelspec": {
   "display_name": "Stata",
   "language": "stata",
   "name": "stata"
  },
  "language_info": {
   "codemirror_mode": "stata",
   "file_extension": ".do",
   "mimetype": "text/x-stata",
   "name": "stata",
   "version": "15.1"
  },
  "toc": {
   "base_numbering": 1,
   "nav_menu": {},
   "number_sections": true,
   "sideBar": true,
   "skip_h1_title": true,
   "title_cell": "Mục lục",
   "title_sidebar": "Nội dung",
   "toc_cell": true,
   "toc_position": {},
   "toc_section_display": true,
   "toc_window_display": true
  }
 },
 "nbformat": 4,
 "nbformat_minor": 4
}
